{
 "cells": [
  {
   "cell_type": "markdown",
   "id": "962bdd50",
   "metadata": {
    "_cell_guid": "e3bc4854-2787-eae1-950d-2742ad3d7db2",
    "_uuid": "d507f816cc74a88c9afefd02cf225d1a7dd6461f"
   },
   "source": [
    "# DA Practice 1: Data Science Salaries\n",
    "\n",
    "\n",
    "[Data modeling](https://en.wikipedia.org/wiki/Data_modeling) is a crucial process in information management that involves the creation of a conceptual, logical, and physical representation of data. It provides a structured approach for organizing and storing data in a database, enabling efficient access and retrieval of information. Effective data modeling ensures the accuracy, consistency, and integrity of data by establishing clear relationships between data elements and defining their attributes.\n",
    "\n",
    "In this report, I will provide an overview of data modeling, including its importance, process, and techniques used in developing a data model. I will then demonstrate the application of data modeling by using a dataset that the teacher sent from kaggle. Additionally, I will explain the steps involved in the data modeling process. This is to cover modeling aspects that I can still imporve on."
   ]
  },
  {
   "cell_type": "markdown",
   "id": "6902f55a",
   "metadata": {},
   "source": [
    "## Data set\n",
    "\n",
    "Throughout this notebook I will work on the **Data Science Salaries 2023 dataset**. This dataset contains information about salaries of different data science fields in the data science domain. https://www.kaggle.com/datasets/arnabchaki/data-science-salaries-2023"
   ]
  },
  {
   "cell_type": "markdown",
   "id": "1730ff7b",
   "metadata": {},
   "source": [
    "## Problem definition\n",
    "\n",
    "**Research question: How do we build a model that is able to predict the salary?**\n",
    "\n",
    "The main focus of this project is to build a model that is able to predict the salary, this is done using a few feature columns related to salary (salary, salary in USD, salary currency)\n",
    "\n",
    "Other questions to answer:\n",
    "\n",
    "How should you deal with data cleaning? \n",
    "How to deal with the job titles?\n",
    "How to deal with the many countries?\n",
    "Which is the best hyper-parameters for the decision tree?"
   ]
  },
  {
   "cell_type": "markdown",
   "id": "4be4199f",
   "metadata": {},
   "source": [
    "## Loading the libraries\n",
    "\n",
    "I load some Data Analytics libraries first:"
   ]
  },
  {
   "cell_type": "code",
   "execution_count": 89,
   "id": "ce2a2162",
   "metadata": {},
   "outputs": [],
   "source": [
    "import numpy as np  # import auxiliary library, typical idiom\n",
    "import pandas as pd  # import the Pandas library, typical idiom\n",
    "\n",
    "# next command ensures that plots appear inside the notebook\n",
    "%matplotlib inline\n",
    "import matplotlib as mpl\n",
    "import plotly.express as px\n",
    "from sklearn.tree import DecisionTreeRegressor\n",
    "from sklearn.model_selection import GridSearchCV\n",
    "from sklearn.ensemble import RandomForestRegressor\n",
    "import matplotlib.pyplot as plt\n",
    "from sklearn.preprocessing import OneHotEncoder\n",
    "import seaborn as sns  # also improves the look of plots\n",
    "sns.set()\n",
    "import warnings\n",
    "warnings.filterwarnings('ignore')\n",
    "plt.rcParams['figure.figsize'] = 10, 5  # default hor./vert. size of plots, in inches\n",
    "plt.rcParams['lines.markeredgewidth'] = 1  # to fix issue with seaborn box plots; needed after import seaborn"
   ]
  },
  {
   "cell_type": "markdown",
   "id": "c2a900cc",
   "metadata": {
    "_cell_guid": "e3bc4854-2787-eae1-950d-2742ad3d7db2",
    "_uuid": "d507f816cc74a88c9afefd02cf225d1a7dd6461f"
   },
   "source": [
    "Now, I selectively import the relevant classes and functions from `sklearn`\n",
    "[(_SciKit Learn_, a Python library for machine learning)](http://scikit-learn.org/.)"
   ]
  },
  {
   "cell_type": "code",
   "execution_count": 2,
   "id": "25cfa07b",
   "metadata": {},
   "outputs": [],
   "source": [
    "from sklearn.linear_model import LinearRegression  # for linear regression\n",
    "from sklearn.metrics import accuracy_score, confusion_matrix, mean_squared_error\n",
    "from sklearn.model_selection import train_test_split"
   ]
  },
  {
   "cell_type": "markdown",
   "id": "25e3edf8",
   "metadata": {},
   "source": [
    "## Getting to know the data\n",
    "\n",
    "Salaries of Different Data Science Fields in the Data Science Domain"
   ]
  },
  {
   "cell_type": "code",
   "execution_count": 3,
   "id": "8b4f3ff9",
   "metadata": {
    "scrolled": false
   },
   "outputs": [
    {
     "data": {
      "text/html": [
       "<div>\n",
       "<style scoped>\n",
       "    .dataframe tbody tr th:only-of-type {\n",
       "        vertical-align: middle;\n",
       "    }\n",
       "\n",
       "    .dataframe tbody tr th {\n",
       "        vertical-align: top;\n",
       "    }\n",
       "\n",
       "    .dataframe thead th {\n",
       "        text-align: right;\n",
       "    }\n",
       "</style>\n",
       "<table border=\"1\" class=\"dataframe\">\n",
       "  <thead>\n",
       "    <tr style=\"text-align: right;\">\n",
       "      <th></th>\n",
       "      <th>work_year</th>\n",
       "      <th>experience_level</th>\n",
       "      <th>employment_type</th>\n",
       "      <th>job_title</th>\n",
       "      <th>salary</th>\n",
       "      <th>salary_currency</th>\n",
       "      <th>salary_in_usd</th>\n",
       "      <th>employee_residence</th>\n",
       "      <th>remote_ratio</th>\n",
       "      <th>company_location</th>\n",
       "      <th>company_size</th>\n",
       "    </tr>\n",
       "  </thead>\n",
       "  <tbody>\n",
       "    <tr>\n",
       "      <th>0</th>\n",
       "      <td>2023</td>\n",
       "      <td>SE</td>\n",
       "      <td>FT</td>\n",
       "      <td>Principal Data Scientist</td>\n",
       "      <td>80000</td>\n",
       "      <td>EUR</td>\n",
       "      <td>85847</td>\n",
       "      <td>ES</td>\n",
       "      <td>100</td>\n",
       "      <td>ES</td>\n",
       "      <td>L</td>\n",
       "    </tr>\n",
       "    <tr>\n",
       "      <th>1</th>\n",
       "      <td>2023</td>\n",
       "      <td>MI</td>\n",
       "      <td>CT</td>\n",
       "      <td>ML Engineer</td>\n",
       "      <td>30000</td>\n",
       "      <td>USD</td>\n",
       "      <td>30000</td>\n",
       "      <td>US</td>\n",
       "      <td>100</td>\n",
       "      <td>US</td>\n",
       "      <td>S</td>\n",
       "    </tr>\n",
       "    <tr>\n",
       "      <th>2</th>\n",
       "      <td>2023</td>\n",
       "      <td>MI</td>\n",
       "      <td>CT</td>\n",
       "      <td>ML Engineer</td>\n",
       "      <td>25500</td>\n",
       "      <td>USD</td>\n",
       "      <td>25500</td>\n",
       "      <td>US</td>\n",
       "      <td>100</td>\n",
       "      <td>US</td>\n",
       "      <td>S</td>\n",
       "    </tr>\n",
       "    <tr>\n",
       "      <th>3</th>\n",
       "      <td>2023</td>\n",
       "      <td>SE</td>\n",
       "      <td>FT</td>\n",
       "      <td>Data Scientist</td>\n",
       "      <td>175000</td>\n",
       "      <td>USD</td>\n",
       "      <td>175000</td>\n",
       "      <td>CA</td>\n",
       "      <td>100</td>\n",
       "      <td>CA</td>\n",
       "      <td>M</td>\n",
       "    </tr>\n",
       "    <tr>\n",
       "      <th>4</th>\n",
       "      <td>2023</td>\n",
       "      <td>SE</td>\n",
       "      <td>FT</td>\n",
       "      <td>Data Scientist</td>\n",
       "      <td>120000</td>\n",
       "      <td>USD</td>\n",
       "      <td>120000</td>\n",
       "      <td>CA</td>\n",
       "      <td>100</td>\n",
       "      <td>CA</td>\n",
       "      <td>M</td>\n",
       "    </tr>\n",
       "    <tr>\n",
       "      <th>...</th>\n",
       "      <td>...</td>\n",
       "      <td>...</td>\n",
       "      <td>...</td>\n",
       "      <td>...</td>\n",
       "      <td>...</td>\n",
       "      <td>...</td>\n",
       "      <td>...</td>\n",
       "      <td>...</td>\n",
       "      <td>...</td>\n",
       "      <td>...</td>\n",
       "      <td>...</td>\n",
       "    </tr>\n",
       "    <tr>\n",
       "      <th>3750</th>\n",
       "      <td>2020</td>\n",
       "      <td>SE</td>\n",
       "      <td>FT</td>\n",
       "      <td>Data Scientist</td>\n",
       "      <td>412000</td>\n",
       "      <td>USD</td>\n",
       "      <td>412000</td>\n",
       "      <td>US</td>\n",
       "      <td>100</td>\n",
       "      <td>US</td>\n",
       "      <td>L</td>\n",
       "    </tr>\n",
       "    <tr>\n",
       "      <th>3751</th>\n",
       "      <td>2021</td>\n",
       "      <td>MI</td>\n",
       "      <td>FT</td>\n",
       "      <td>Principal Data Scientist</td>\n",
       "      <td>151000</td>\n",
       "      <td>USD</td>\n",
       "      <td>151000</td>\n",
       "      <td>US</td>\n",
       "      <td>100</td>\n",
       "      <td>US</td>\n",
       "      <td>L</td>\n",
       "    </tr>\n",
       "    <tr>\n",
       "      <th>3752</th>\n",
       "      <td>2020</td>\n",
       "      <td>EN</td>\n",
       "      <td>FT</td>\n",
       "      <td>Data Scientist</td>\n",
       "      <td>105000</td>\n",
       "      <td>USD</td>\n",
       "      <td>105000</td>\n",
       "      <td>US</td>\n",
       "      <td>100</td>\n",
       "      <td>US</td>\n",
       "      <td>S</td>\n",
       "    </tr>\n",
       "    <tr>\n",
       "      <th>3753</th>\n",
       "      <td>2020</td>\n",
       "      <td>EN</td>\n",
       "      <td>CT</td>\n",
       "      <td>Business Data Analyst</td>\n",
       "      <td>100000</td>\n",
       "      <td>USD</td>\n",
       "      <td>100000</td>\n",
       "      <td>US</td>\n",
       "      <td>100</td>\n",
       "      <td>US</td>\n",
       "      <td>L</td>\n",
       "    </tr>\n",
       "    <tr>\n",
       "      <th>3754</th>\n",
       "      <td>2021</td>\n",
       "      <td>SE</td>\n",
       "      <td>FT</td>\n",
       "      <td>Data Science Manager</td>\n",
       "      <td>7000000</td>\n",
       "      <td>INR</td>\n",
       "      <td>94665</td>\n",
       "      <td>IN</td>\n",
       "      <td>50</td>\n",
       "      <td>IN</td>\n",
       "      <td>L</td>\n",
       "    </tr>\n",
       "  </tbody>\n",
       "</table>\n",
       "<p>3755 rows × 11 columns</p>\n",
       "</div>"
      ],
      "text/plain": [
       "      work_year experience_level employment_type                 job_title   \n",
       "0          2023               SE              FT  Principal Data Scientist  \\\n",
       "1          2023               MI              CT               ML Engineer   \n",
       "2          2023               MI              CT               ML Engineer   \n",
       "3          2023               SE              FT            Data Scientist   \n",
       "4          2023               SE              FT            Data Scientist   \n",
       "...         ...              ...             ...                       ...   \n",
       "3750       2020               SE              FT            Data Scientist   \n",
       "3751       2021               MI              FT  Principal Data Scientist   \n",
       "3752       2020               EN              FT            Data Scientist   \n",
       "3753       2020               EN              CT     Business Data Analyst   \n",
       "3754       2021               SE              FT      Data Science Manager   \n",
       "\n",
       "       salary salary_currency  salary_in_usd employee_residence  remote_ratio   \n",
       "0       80000             EUR          85847                 ES           100  \\\n",
       "1       30000             USD          30000                 US           100   \n",
       "2       25500             USD          25500                 US           100   \n",
       "3      175000             USD         175000                 CA           100   \n",
       "4      120000             USD         120000                 CA           100   \n",
       "...       ...             ...            ...                ...           ...   \n",
       "3750   412000             USD         412000                 US           100   \n",
       "3751   151000             USD         151000                 US           100   \n",
       "3752   105000             USD         105000                 US           100   \n",
       "3753   100000             USD         100000                 US           100   \n",
       "3754  7000000             INR          94665                 IN            50   \n",
       "\n",
       "     company_location company_size  \n",
       "0                  ES            L  \n",
       "1                  US            S  \n",
       "2                  US            S  \n",
       "3                  CA            M  \n",
       "4                  CA            M  \n",
       "...               ...          ...  \n",
       "3750               US            L  \n",
       "3751               US            L  \n",
       "3752               US            S  \n",
       "3753               US            L  \n",
       "3754               IN            L  \n",
       "\n",
       "[3755 rows x 11 columns]"
      ]
     },
     "execution_count": 3,
     "metadata": {},
     "output_type": "execute_result"
    }
   ],
   "source": [
    "df_salaries = pd.read_csv('Data/ds_salaries.csv')\n",
    "df_salaries"
   ]
  },
  {
   "cell_type": "code",
   "execution_count": 4,
   "id": "e05c4821",
   "metadata": {
    "scrolled": true
   },
   "outputs": [
    {
     "data": {
      "text/plain": [
       "Index(['work_year', 'experience_level', 'employment_type', 'job_title',\n",
       "       'salary', 'salary_currency', 'salary_in_usd', 'employee_residence',\n",
       "       'remote_ratio', 'company_location', 'company_size'],\n",
       "      dtype='object')"
      ]
     },
     "execution_count": 4,
     "metadata": {},
     "output_type": "execute_result"
    }
   ],
   "source": [
    "df_salaries.columns"
   ]
  },
  {
   "cell_type": "markdown",
   "id": "4f09af7f",
   "metadata": {},
   "source": [
    "Data Science Job Salaries Dataset contains 11 columns, each are:\n",
    "\n",
    "    work_year: The year the salary was paid.\n",
    "    experience_level: The experience level in the job during the year\n",
    "    employment_type: The type of employment for the role\n",
    "    job_title: The role worked in during the year.\n",
    "    salary: The total gross salary amount paid.\n",
    "    salary_currency: The currency of the salary paid as an ISO 4217 currency code.\n",
    "    salaryinusd: The salary in USD\n",
    "    employee_residence: Employee's primary country of residence in during the work year as an ISO 3166 country code.\n",
    "    remote_ratio: The overall amount of work done remotely\n",
    "    company_location: The country of the employer's main office or contracting branch\n",
    "    company_size: The median number of people that worked for the company during the year"
   ]
  },
  {
   "cell_type": "markdown",
   "id": "32d82f6a",
   "metadata": {},
   "source": [
    "The size of the dataset is 3755 x 11"
   ]
  },
  {
   "cell_type": "code",
   "execution_count": 5,
   "id": "07bfed52",
   "metadata": {},
   "outputs": [
    {
     "data": {
      "text/plain": [
       "(3755, 11)"
      ]
     },
     "execution_count": 5,
     "metadata": {},
     "output_type": "execute_result"
    }
   ],
   "source": [
    "df_salaries.shape"
   ]
  },
  {
   "cell_type": "markdown",
   "id": "181e93ed",
   "metadata": {},
   "source": [
    "The dataset columns are the following types:"
   ]
  },
  {
   "cell_type": "code",
   "execution_count": 6,
   "id": "18359409",
   "metadata": {},
   "outputs": [
    {
     "data": {
      "text/plain": [
       "work_year              int64\n",
       "experience_level      object\n",
       "employment_type       object\n",
       "job_title             object\n",
       "salary                 int64\n",
       "salary_currency       object\n",
       "salary_in_usd          int64\n",
       "employee_residence    object\n",
       "remote_ratio           int64\n",
       "company_location      object\n",
       "company_size          object\n",
       "dtype: object"
      ]
     },
     "execution_count": 6,
     "metadata": {},
     "output_type": "execute_result"
    }
   ],
   "source": [
    "df_salaries.dtypes"
   ]
  },
  {
   "cell_type": "markdown",
   "id": "51d2af40",
   "metadata": {},
   "source": [
    "## Data Cleaning\n",
    "\n",
    "The next step I plan to take is to look at different columns and identify any possible inconsistencies."
   ]
  },
  {
   "cell_type": "code",
   "execution_count": 7,
   "id": "b39643b0",
   "metadata": {},
   "outputs": [
    {
     "data": {
      "text/plain": [
       "array(['L', 'S', 'M'], dtype=object)"
      ]
     },
     "execution_count": 7,
     "metadata": {},
     "output_type": "execute_result"
    }
   ],
   "source": [
    "company_size = df_salaries['company_size'].unique()\n",
    "company_size"
   ]
  },
  {
   "cell_type": "code",
   "execution_count": 8,
   "id": "a1e6d927",
   "metadata": {
    "scrolled": false
   },
   "outputs": [
    {
     "data": {
      "text/plain": [
       "array(['3D Computer Vision Researcher', 'AI Developer', 'AI Programmer',\n",
       "       'AI Scientist', 'Analytics Engineer', 'Applied Data Scientist',\n",
       "       'Applied Machine Learning Engineer',\n",
       "       'Applied Machine Learning Scientist', 'Applied Scientist',\n",
       "       'Autonomous Vehicle Technician', 'Azure Data Engineer',\n",
       "       'BI Analyst', 'BI Data Analyst', 'BI Data Engineer',\n",
       "       'BI Developer', 'Big Data Architect', 'Big Data Engineer',\n",
       "       'Business Data Analyst', 'Business Intelligence Engineer',\n",
       "       'Cloud Data Architect', 'Cloud Data Engineer',\n",
       "       'Cloud Database Engineer', 'Compliance Data Analyst',\n",
       "       'Computer Vision Engineer', 'Computer Vision Software Engineer',\n",
       "       'Data Analyst', 'Data Analytics Consultant',\n",
       "       'Data Analytics Engineer', 'Data Analytics Lead',\n",
       "       'Data Analytics Manager', 'Data Analytics Specialist',\n",
       "       'Data Architect', 'Data DevOps Engineer', 'Data Engineer',\n",
       "       'Data Infrastructure Engineer', 'Data Lead',\n",
       "       'Data Management Specialist', 'Data Manager', 'Data Modeler',\n",
       "       'Data Operations Analyst', 'Data Operations Engineer',\n",
       "       'Data Quality Analyst', 'Data Science Consultant',\n",
       "       'Data Science Engineer', 'Data Science Lead',\n",
       "       'Data Science Manager', 'Data Science Tech Lead', 'Data Scientist',\n",
       "       'Data Scientist Lead', 'Data Specialist', 'Data Strategist',\n",
       "       'Deep Learning Engineer', 'Deep Learning Researcher',\n",
       "       'Director of Data Science', 'ETL Developer', 'ETL Engineer',\n",
       "       'Finance Data Analyst', 'Financial Data Analyst', 'Head of Data',\n",
       "       'Head of Data Science', 'Head of Machine Learning',\n",
       "       'Insight Analyst', 'Lead Data Analyst', 'Lead Data Engineer',\n",
       "       'Lead Data Scientist', 'Lead Machine Learning Engineer',\n",
       "       'ML Engineer', 'MLOps Engineer', 'Machine Learning Developer',\n",
       "       'Machine Learning Engineer',\n",
       "       'Machine Learning Infrastructure Engineer',\n",
       "       'Machine Learning Manager', 'Machine Learning Research Engineer',\n",
       "       'Machine Learning Researcher', 'Machine Learning Scientist',\n",
       "       'Machine Learning Software Engineer', 'Manager Data Management',\n",
       "       'Marketing Data Analyst', 'Marketing Data Engineer',\n",
       "       'NLP Engineer', 'Power BI Developer', 'Principal Data Analyst',\n",
       "       'Principal Data Architect', 'Principal Data Engineer',\n",
       "       'Principal Data Scientist', 'Principal Machine Learning Engineer',\n",
       "       'Product Data Analyst', 'Product Data Scientist',\n",
       "       'Research Engineer', 'Research Scientist',\n",
       "       'Software Data Engineer', 'Staff Data Analyst',\n",
       "       'Staff Data Scientist'], dtype=object)"
      ]
     },
     "execution_count": 8,
     "metadata": {},
     "output_type": "execute_result"
    }
   ],
   "source": [
    "jobs = df_salaries['job_title'].unique()\n",
    "jobs.sort()\n",
    "jobs"
   ]
  },
  {
   "cell_type": "code",
   "execution_count": 9,
   "id": "8337f886",
   "metadata": {},
   "outputs": [
    {
     "data": {
      "text/plain": [
       "array(['SE', 'MI', 'EN', 'EX'], dtype=object)"
      ]
     },
     "execution_count": 9,
     "metadata": {},
     "output_type": "execute_result"
    }
   ],
   "source": [
    "experience_level = df_salaries['experience_level'].unique()\n",
    "experience_level"
   ]
  },
  {
   "cell_type": "code",
   "execution_count": 10,
   "id": "d08c7966",
   "metadata": {},
   "outputs": [
    {
     "data": {
      "text/plain": [
       "array(['FT', 'CT', 'FL', 'PT'], dtype=object)"
      ]
     },
     "execution_count": 10,
     "metadata": {},
     "output_type": "execute_result"
    }
   ],
   "source": [
    "employment_type = df_salaries['employment_type'].unique()\n",
    "employment_type"
   ]
  },
  {
   "cell_type": "markdown",
   "id": "86b4c27c",
   "metadata": {},
   "source": [
    "I was looking at some column values and I wasn't sure what they meant, so I went and found out their meanings. I am going to rename some of the column values for better understanding."
   ]
  },
  {
   "cell_type": "code",
   "execution_count": 12,
   "id": "70cff3d1",
   "metadata": {},
   "outputs": [],
   "source": [
    "df_salaries['experience_level'] = df_salaries['experience_level'].replace('EN','Entry-level')\n",
    "df_salaries['experience_level'] = df_salaries['experience_level'].replace('MI','Mid-level')\n",
    "df_salaries['experience_level'] = df_salaries['experience_level'].replace('SE','Senior-level')\n",
    "df_salaries['experience_level'] = df_salaries['experience_level'].replace('EX','Executive-level')\n",
    "\n",
    "df_salaries['employment_type'] = df_salaries['employment_type'].replace('FL','Freelancer')\n",
    "df_salaries['employment_type'] = df_salaries['employment_type'].replace('CT','Contractor')\n",
    "df_salaries['employment_type'] = df_salaries['employment_type'].replace('FT','Full-Time')\n",
    "df_salaries['employment_type'] = df_salaries['employment_type'].replace('PT','Part-Time')\n",
    "\n",
    "\n",
    "df_salaries['company_size'] = df_salaries['company_size'].replace('S','Small')\n",
    "df_salaries['company_size'] = df_salaries['company_size'].replace('M','Medium')\n",
    "df_salaries['company_size'] = df_salaries['company_size'].replace('L','Large')"
   ]
  },
  {
   "cell_type": "markdown",
   "id": "813951d6",
   "metadata": {},
   "source": [
    "I have checked for null values, and it appears that there are no null values in this dataset."
   ]
  },
  {
   "cell_type": "code",
   "execution_count": 13,
   "id": "35bc676e",
   "metadata": {},
   "outputs": [
    {
     "data": {
      "text/plain": [
       "work_year             0\n",
       "experience_level      0\n",
       "employment_type       0\n",
       "job_title             0\n",
       "salary                0\n",
       "salary_currency       0\n",
       "salary_in_usd         0\n",
       "employee_residence    0\n",
       "remote_ratio          0\n",
       "company_location      0\n",
       "company_size          0\n",
       "dtype: int64"
      ]
     },
     "execution_count": 13,
     "metadata": {},
     "output_type": "execute_result"
    }
   ],
   "source": [
    "df_salaries.isnull().sum()"
   ]
  },
  {
   "cell_type": "markdown",
   "id": "56d51b4f",
   "metadata": {},
   "source": [
    "**How to deal with the job titles?**\n",
    "\n",
    "One approach is to introducing fewer hand-made categories. By reducing the number of job titles the model needs to work with, we can improve the model's predictive ability."
   ]
  },
  {
   "cell_type": "code",
   "execution_count": 14,
   "id": "0ef2332a",
   "metadata": {},
   "outputs": [],
   "source": [
    "def segment_job_title(job_title):\n",
    "    data_scientist_titles = ['Principal Data Scientist', 'Data Scientist', 'Applied Scientist', 'Research Scientist', 'Applied Data Scientist', 'Lead Data Scientist', 'Staff Data Scientist', 'Principal Data Analyst', 'Principal Data Engineer']\n",
    "    machine_learning_titles = ['ML Engineer', 'Machine Learning Engineer', 'Applied Machine Learning Engineer', 'Machine Learning Researcher', 'Machine Learning Scientist', 'Autonomous Vehicle Technician', 'Applied Machine Learning Scientist', 'Principal Machine Learning Engineer', 'Machine Learning Developer', 'Lead Machine Learning Engineer', 'Machine Learning Manager']\n",
    "    data_analyst_titles = ['Data Analyst', 'Data Quality Analyst', 'Compliance Data Analyst', 'Business Data Analyst', 'Staff Data Analyst', 'Lead Data Analyst', 'BI Data Analyst', 'Marketing Data Analyst', 'Finance Data Analyst']\n",
    "    data_engineer_titles = ['Data Modeler', 'Data Engineer', 'ETL Engineer', 'Data DevOps Engineer', 'Big Data Engineer', 'Data Infrastructure Engineer', 'Software Data Engineer', 'Cloud Database Engineer', 'Cloud Data Engineer', 'Cloud Data Architect', 'Lead Data Engineer', 'Principal Data Engineer']\n",
    "    bi_analytics_titles = ['Data Analytics Manager', 'Business Intelligence Engineer', 'Analytics Engineer', 'BI Data Engineer', 'Director of Data Science', 'BI Developer', 'Insight Analyst', 'Data Analytics Specialist', 'Data Analytics Lead', 'Power BI Developer', 'Cloud Data Architect']\n",
    "    other_titles = ['Data Strategist', 'Computer Vision Engineer', 'AI Developer', 'Head of Data']\n",
    "    \n",
    "    if job_title in data_scientist_titles:\n",
    "        return 'Data Scientist'\n",
    "    elif job_title in machine_learning_titles:\n",
    "        return 'Machine Learning Engineer'\n",
    "    elif job_title in data_analyst_titles:\n",
    "        return 'Data Analyst'\n",
    "    elif job_title in data_engineer_titles:\n",
    "        return 'Data Engineer'\n",
    "    elif job_title in bi_analytics_titles:\n",
    "        return 'Business Intelligence and Analytics'\n",
    "    elif job_title in other_titles:\n",
    "        return 'Other'\n",
    "    else:\n",
    "        return 'Uncategorized'"
   ]
  },
  {
   "cell_type": "code",
   "execution_count": 15,
   "id": "85699333",
   "metadata": {},
   "outputs": [],
   "source": [
    "df_salaries['job_title'] = df_salaries['job_title'].apply(segment_job_title)"
   ]
  },
  {
   "cell_type": "markdown",
   "id": "7100c8a4",
   "metadata": {},
   "source": [
    "**How to deal with the many countries?**\n",
    "I'm going to use the same approach as before and categorize countries by continent to reduce their number."
   ]
  },
  {
   "cell_type": "code",
   "execution_count": 16,
   "id": "f232d513",
   "metadata": {},
   "outputs": [],
   "source": [
    "def segment_countries(country):\n",
    "    africa = ['DZ', 'NG', 'TN', 'MA']\n",
    "    asia = ['AE', 'AM', 'CN', 'HK', 'ID', 'IL', 'IN', 'IQ', 'IR', 'JP', 'KE', 'KW', 'MY', 'PK', 'PH', 'SG', 'TH', 'TR', 'UZ', 'VN']\n",
    "    europe = ['AT', 'BA', 'BE', 'BG', 'CH', 'CY', 'CZ', 'DE', 'DK', 'EE', 'ES', 'FI', 'FR', 'GB', 'GH', 'GR', 'HR', 'HU', 'IE', 'IT', 'JE', 'LT', 'LU', 'LV', 'MD', 'MK', 'MT', 'NL', 'NO', 'PL', 'PT', 'RO', 'RS', 'RU', 'SE', 'SI', 'SK', 'UA']\n",
    "    north_america = ['BS', 'CA', 'CR', 'DO', 'HN', 'MX', 'PR', 'US']\n",
    "    oceania = ['AU', 'NZ']\n",
    "    south_america = ['AR', 'BO', 'BR', 'CL', 'CO', 'PE']\n",
    "\n",
    "    if country in africa:\n",
    "        return 'Africa'\n",
    "    elif country in asia:\n",
    "        return 'Asia'\n",
    "    elif country in europe:\n",
    "        return 'Europe'\n",
    "    elif country in north_america:\n",
    "        return 'North America'\n",
    "    elif country in oceania:\n",
    "        return 'Oceania'\n",
    "    elif country in south_america:\n",
    "        return 'South America'\n",
    "    else:\n",
    "        return 'Uncategorized'"
   ]
  },
  {
   "cell_type": "code",
   "execution_count": 17,
   "id": "94cd91aa",
   "metadata": {},
   "outputs": [],
   "source": [
    "df_salaries['employee_residence'] = df_salaries['employee_residence'].apply(segment_countries)\n",
    "df_salaries['company_location'] = df_salaries['company_location'].apply(segment_countries)"
   ]
  },
  {
   "cell_type": "markdown",
   "id": "8068cb36",
   "metadata": {},
   "source": [
    "## Data Preprocessing\n",
    "\n",
    "Before I'm going to modify the data for the model, I'm going to make a copy that we can use for data exploration."
   ]
  },
  {
   "cell_type": "code",
   "execution_count": 20,
   "id": "59abc800",
   "metadata": {},
   "outputs": [
    {
     "data": {
      "text/html": [
       "<div>\n",
       "<style scoped>\n",
       "    .dataframe tbody tr th:only-of-type {\n",
       "        vertical-align: middle;\n",
       "    }\n",
       "\n",
       "    .dataframe tbody tr th {\n",
       "        vertical-align: top;\n",
       "    }\n",
       "\n",
       "    .dataframe thead th {\n",
       "        text-align: right;\n",
       "    }\n",
       "</style>\n",
       "<table border=\"1\" class=\"dataframe\">\n",
       "  <thead>\n",
       "    <tr style=\"text-align: right;\">\n",
       "      <th></th>\n",
       "      <th>work_year</th>\n",
       "      <th>experience_level</th>\n",
       "      <th>employment_type</th>\n",
       "      <th>job_title</th>\n",
       "      <th>salary</th>\n",
       "      <th>salary_currency</th>\n",
       "      <th>salary_in_usd</th>\n",
       "      <th>employee_residence</th>\n",
       "      <th>remote_ratio</th>\n",
       "      <th>company_location</th>\n",
       "      <th>company_size</th>\n",
       "    </tr>\n",
       "  </thead>\n",
       "  <tbody>\n",
       "    <tr>\n",
       "      <th>0</th>\n",
       "      <td>2023</td>\n",
       "      <td>Senior-level</td>\n",
       "      <td>Full-Time</td>\n",
       "      <td>Data Scientist</td>\n",
       "      <td>80000</td>\n",
       "      <td>EUR</td>\n",
       "      <td>85847</td>\n",
       "      <td>Europe</td>\n",
       "      <td>100</td>\n",
       "      <td>Europe</td>\n",
       "      <td>Large</td>\n",
       "    </tr>\n",
       "    <tr>\n",
       "      <th>1</th>\n",
       "      <td>2023</td>\n",
       "      <td>Mid-level</td>\n",
       "      <td>Contractor</td>\n",
       "      <td>Machine Learning Engineer</td>\n",
       "      <td>30000</td>\n",
       "      <td>USD</td>\n",
       "      <td>30000</td>\n",
       "      <td>North America</td>\n",
       "      <td>100</td>\n",
       "      <td>North America</td>\n",
       "      <td>Small</td>\n",
       "    </tr>\n",
       "    <tr>\n",
       "      <th>2</th>\n",
       "      <td>2023</td>\n",
       "      <td>Mid-level</td>\n",
       "      <td>Contractor</td>\n",
       "      <td>Machine Learning Engineer</td>\n",
       "      <td>25500</td>\n",
       "      <td>USD</td>\n",
       "      <td>25500</td>\n",
       "      <td>North America</td>\n",
       "      <td>100</td>\n",
       "      <td>North America</td>\n",
       "      <td>Small</td>\n",
       "    </tr>\n",
       "    <tr>\n",
       "      <th>3</th>\n",
       "      <td>2023</td>\n",
       "      <td>Senior-level</td>\n",
       "      <td>Full-Time</td>\n",
       "      <td>Data Scientist</td>\n",
       "      <td>175000</td>\n",
       "      <td>USD</td>\n",
       "      <td>175000</td>\n",
       "      <td>North America</td>\n",
       "      <td>100</td>\n",
       "      <td>North America</td>\n",
       "      <td>Medium</td>\n",
       "    </tr>\n",
       "    <tr>\n",
       "      <th>4</th>\n",
       "      <td>2023</td>\n",
       "      <td>Senior-level</td>\n",
       "      <td>Full-Time</td>\n",
       "      <td>Data Scientist</td>\n",
       "      <td>120000</td>\n",
       "      <td>USD</td>\n",
       "      <td>120000</td>\n",
       "      <td>North America</td>\n",
       "      <td>100</td>\n",
       "      <td>North America</td>\n",
       "      <td>Medium</td>\n",
       "    </tr>\n",
       "    <tr>\n",
       "      <th>...</th>\n",
       "      <td>...</td>\n",
       "      <td>...</td>\n",
       "      <td>...</td>\n",
       "      <td>...</td>\n",
       "      <td>...</td>\n",
       "      <td>...</td>\n",
       "      <td>...</td>\n",
       "      <td>...</td>\n",
       "      <td>...</td>\n",
       "      <td>...</td>\n",
       "      <td>...</td>\n",
       "    </tr>\n",
       "    <tr>\n",
       "      <th>3750</th>\n",
       "      <td>2020</td>\n",
       "      <td>Senior-level</td>\n",
       "      <td>Full-Time</td>\n",
       "      <td>Data Scientist</td>\n",
       "      <td>412000</td>\n",
       "      <td>USD</td>\n",
       "      <td>412000</td>\n",
       "      <td>North America</td>\n",
       "      <td>100</td>\n",
       "      <td>North America</td>\n",
       "      <td>Large</td>\n",
       "    </tr>\n",
       "    <tr>\n",
       "      <th>3751</th>\n",
       "      <td>2021</td>\n",
       "      <td>Mid-level</td>\n",
       "      <td>Full-Time</td>\n",
       "      <td>Data Scientist</td>\n",
       "      <td>151000</td>\n",
       "      <td>USD</td>\n",
       "      <td>151000</td>\n",
       "      <td>North America</td>\n",
       "      <td>100</td>\n",
       "      <td>North America</td>\n",
       "      <td>Large</td>\n",
       "    </tr>\n",
       "    <tr>\n",
       "      <th>3752</th>\n",
       "      <td>2020</td>\n",
       "      <td>Entry-level</td>\n",
       "      <td>Full-Time</td>\n",
       "      <td>Data Scientist</td>\n",
       "      <td>105000</td>\n",
       "      <td>USD</td>\n",
       "      <td>105000</td>\n",
       "      <td>North America</td>\n",
       "      <td>100</td>\n",
       "      <td>North America</td>\n",
       "      <td>Small</td>\n",
       "    </tr>\n",
       "    <tr>\n",
       "      <th>3753</th>\n",
       "      <td>2020</td>\n",
       "      <td>Entry-level</td>\n",
       "      <td>Contractor</td>\n",
       "      <td>Data Analyst</td>\n",
       "      <td>100000</td>\n",
       "      <td>USD</td>\n",
       "      <td>100000</td>\n",
       "      <td>North America</td>\n",
       "      <td>100</td>\n",
       "      <td>North America</td>\n",
       "      <td>Large</td>\n",
       "    </tr>\n",
       "    <tr>\n",
       "      <th>3754</th>\n",
       "      <td>2021</td>\n",
       "      <td>Senior-level</td>\n",
       "      <td>Full-Time</td>\n",
       "      <td>Uncategorized</td>\n",
       "      <td>7000000</td>\n",
       "      <td>INR</td>\n",
       "      <td>94665</td>\n",
       "      <td>Asia</td>\n",
       "      <td>50</td>\n",
       "      <td>Asia</td>\n",
       "      <td>Large</td>\n",
       "    </tr>\n",
       "  </tbody>\n",
       "</table>\n",
       "<p>3755 rows × 11 columns</p>\n",
       "</div>"
      ],
      "text/plain": [
       "      work_year experience_level employment_type                  job_title   \n",
       "0          2023     Senior-level       Full-Time             Data Scientist  \\\n",
       "1          2023        Mid-level      Contractor  Machine Learning Engineer   \n",
       "2          2023        Mid-level      Contractor  Machine Learning Engineer   \n",
       "3          2023     Senior-level       Full-Time             Data Scientist   \n",
       "4          2023     Senior-level       Full-Time             Data Scientist   \n",
       "...         ...              ...             ...                        ...   \n",
       "3750       2020     Senior-level       Full-Time             Data Scientist   \n",
       "3751       2021        Mid-level       Full-Time             Data Scientist   \n",
       "3752       2020      Entry-level       Full-Time             Data Scientist   \n",
       "3753       2020      Entry-level      Contractor               Data Analyst   \n",
       "3754       2021     Senior-level       Full-Time              Uncategorized   \n",
       "\n",
       "       salary salary_currency  salary_in_usd employee_residence  remote_ratio   \n",
       "0       80000             EUR          85847             Europe           100  \\\n",
       "1       30000             USD          30000      North America           100   \n",
       "2       25500             USD          25500      North America           100   \n",
       "3      175000             USD         175000      North America           100   \n",
       "4      120000             USD         120000      North America           100   \n",
       "...       ...             ...            ...                ...           ...   \n",
       "3750   412000             USD         412000      North America           100   \n",
       "3751   151000             USD         151000      North America           100   \n",
       "3752   105000             USD         105000      North America           100   \n",
       "3753   100000             USD         100000      North America           100   \n",
       "3754  7000000             INR          94665               Asia            50   \n",
       "\n",
       "     company_location company_size  \n",
       "0              Europe        Large  \n",
       "1       North America        Small  \n",
       "2       North America        Small  \n",
       "3       North America       Medium  \n",
       "4       North America       Medium  \n",
       "...               ...          ...  \n",
       "3750    North America        Large  \n",
       "3751    North America        Large  \n",
       "3752    North America        Small  \n",
       "3753    North America        Large  \n",
       "3754             Asia        Large  \n",
       "\n",
       "[3755 rows x 11 columns]"
      ]
     },
     "execution_count": 20,
     "metadata": {},
     "output_type": "execute_result"
    }
   ],
   "source": [
    "df_salaries_copy = df_salaries.copy()\n",
    "df_salaries_copy"
   ]
  },
  {
   "cell_type": "markdown",
   "id": "fe844b6c",
   "metadata": {},
   "source": [
    "**Categorical features**\n",
    "\n",
    "One way to deal with categorical features is to encode them. This is done with OneHotEncoder in my case because it's the best approach in this context."
   ]
  },
  {
   "cell_type": "code",
   "execution_count": 22,
   "id": "7bcbf2cc",
   "metadata": {},
   "outputs": [],
   "source": [
    "categorical_vars = ['experience_level', 'employment_type', 'job_title', 'employee_residence', 'company_location', 'company_size']\n",
    "encoder = OneHotEncoder()\n",
    "encoded_data = pd.DataFrame(encoder.fit_transform(df_salaries[categorical_vars]).toarray(), columns=encoder.get_feature_names_out(categorical_vars))"
   ]
  },
  {
   "cell_type": "markdown",
   "id": "92df1ddf",
   "metadata": {},
   "source": [
    "With the encoded categorical features, now I'm going to merge the numerical and encoded categorical variables."
   ]
  },
  {
   "cell_type": "code",
   "execution_count": 23,
   "id": "ab5c7a25",
   "metadata": {},
   "outputs": [],
   "source": [
    "processed_data = pd.concat([encoded_data, df_salaries[['work_year', 'salary_in_usd', 'remote_ratio']]], axis=1)"
   ]
  },
  {
   "cell_type": "code",
   "execution_count": 24,
   "id": "e1da444d",
   "metadata": {},
   "outputs": [
    {
     "data": {
      "text/html": [
       "<div>\n",
       "<style scoped>\n",
       "    .dataframe tbody tr th:only-of-type {\n",
       "        vertical-align: middle;\n",
       "    }\n",
       "\n",
       "    .dataframe tbody tr th {\n",
       "        vertical-align: top;\n",
       "    }\n",
       "\n",
       "    .dataframe thead th {\n",
       "        text-align: right;\n",
       "    }\n",
       "</style>\n",
       "<table border=\"1\" class=\"dataframe\">\n",
       "  <thead>\n",
       "    <tr style=\"text-align: right;\">\n",
       "      <th></th>\n",
       "      <th>experience_level_Entry-level</th>\n",
       "      <th>experience_level_Executive-level</th>\n",
       "      <th>experience_level_Mid-level</th>\n",
       "      <th>experience_level_Senior-level</th>\n",
       "      <th>employment_type_Contractor</th>\n",
       "      <th>employment_type_Freelancer</th>\n",
       "      <th>employment_type_Full-Time</th>\n",
       "      <th>employment_type_Part-Time</th>\n",
       "      <th>job_title_Business Intelligence and Analytics</th>\n",
       "      <th>job_title_Data Analyst</th>\n",
       "      <th>...</th>\n",
       "      <th>company_location_North America</th>\n",
       "      <th>company_location_Oceania</th>\n",
       "      <th>company_location_South America</th>\n",
       "      <th>company_location_Uncategorized</th>\n",
       "      <th>company_size_Large</th>\n",
       "      <th>company_size_Medium</th>\n",
       "      <th>company_size_Small</th>\n",
       "      <th>work_year</th>\n",
       "      <th>salary_in_usd</th>\n",
       "      <th>remote_ratio</th>\n",
       "    </tr>\n",
       "  </thead>\n",
       "  <tbody>\n",
       "    <tr>\n",
       "      <th>0</th>\n",
       "      <td>0.0</td>\n",
       "      <td>0.0</td>\n",
       "      <td>0.0</td>\n",
       "      <td>1.0</td>\n",
       "      <td>0.0</td>\n",
       "      <td>0.0</td>\n",
       "      <td>1.0</td>\n",
       "      <td>0.0</td>\n",
       "      <td>0.0</td>\n",
       "      <td>0.0</td>\n",
       "      <td>...</td>\n",
       "      <td>0.0</td>\n",
       "      <td>0.0</td>\n",
       "      <td>0.0</td>\n",
       "      <td>0.0</td>\n",
       "      <td>1.0</td>\n",
       "      <td>0.0</td>\n",
       "      <td>0.0</td>\n",
       "      <td>2023</td>\n",
       "      <td>85847</td>\n",
       "      <td>100</td>\n",
       "    </tr>\n",
       "    <tr>\n",
       "      <th>1</th>\n",
       "      <td>0.0</td>\n",
       "      <td>0.0</td>\n",
       "      <td>1.0</td>\n",
       "      <td>0.0</td>\n",
       "      <td>1.0</td>\n",
       "      <td>0.0</td>\n",
       "      <td>0.0</td>\n",
       "      <td>0.0</td>\n",
       "      <td>0.0</td>\n",
       "      <td>0.0</td>\n",
       "      <td>...</td>\n",
       "      <td>1.0</td>\n",
       "      <td>0.0</td>\n",
       "      <td>0.0</td>\n",
       "      <td>0.0</td>\n",
       "      <td>0.0</td>\n",
       "      <td>0.0</td>\n",
       "      <td>1.0</td>\n",
       "      <td>2023</td>\n",
       "      <td>30000</td>\n",
       "      <td>100</td>\n",
       "    </tr>\n",
       "    <tr>\n",
       "      <th>2</th>\n",
       "      <td>0.0</td>\n",
       "      <td>0.0</td>\n",
       "      <td>1.0</td>\n",
       "      <td>0.0</td>\n",
       "      <td>1.0</td>\n",
       "      <td>0.0</td>\n",
       "      <td>0.0</td>\n",
       "      <td>0.0</td>\n",
       "      <td>0.0</td>\n",
       "      <td>0.0</td>\n",
       "      <td>...</td>\n",
       "      <td>1.0</td>\n",
       "      <td>0.0</td>\n",
       "      <td>0.0</td>\n",
       "      <td>0.0</td>\n",
       "      <td>0.0</td>\n",
       "      <td>0.0</td>\n",
       "      <td>1.0</td>\n",
       "      <td>2023</td>\n",
       "      <td>25500</td>\n",
       "      <td>100</td>\n",
       "    </tr>\n",
       "    <tr>\n",
       "      <th>3</th>\n",
       "      <td>0.0</td>\n",
       "      <td>0.0</td>\n",
       "      <td>0.0</td>\n",
       "      <td>1.0</td>\n",
       "      <td>0.0</td>\n",
       "      <td>0.0</td>\n",
       "      <td>1.0</td>\n",
       "      <td>0.0</td>\n",
       "      <td>0.0</td>\n",
       "      <td>0.0</td>\n",
       "      <td>...</td>\n",
       "      <td>1.0</td>\n",
       "      <td>0.0</td>\n",
       "      <td>0.0</td>\n",
       "      <td>0.0</td>\n",
       "      <td>0.0</td>\n",
       "      <td>1.0</td>\n",
       "      <td>0.0</td>\n",
       "      <td>2023</td>\n",
       "      <td>175000</td>\n",
       "      <td>100</td>\n",
       "    </tr>\n",
       "    <tr>\n",
       "      <th>4</th>\n",
       "      <td>0.0</td>\n",
       "      <td>0.0</td>\n",
       "      <td>0.0</td>\n",
       "      <td>1.0</td>\n",
       "      <td>0.0</td>\n",
       "      <td>0.0</td>\n",
       "      <td>1.0</td>\n",
       "      <td>0.0</td>\n",
       "      <td>0.0</td>\n",
       "      <td>0.0</td>\n",
       "      <td>...</td>\n",
       "      <td>1.0</td>\n",
       "      <td>0.0</td>\n",
       "      <td>0.0</td>\n",
       "      <td>0.0</td>\n",
       "      <td>0.0</td>\n",
       "      <td>1.0</td>\n",
       "      <td>0.0</td>\n",
       "      <td>2023</td>\n",
       "      <td>120000</td>\n",
       "      <td>100</td>\n",
       "    </tr>\n",
       "    <tr>\n",
       "      <th>...</th>\n",
       "      <td>...</td>\n",
       "      <td>...</td>\n",
       "      <td>...</td>\n",
       "      <td>...</td>\n",
       "      <td>...</td>\n",
       "      <td>...</td>\n",
       "      <td>...</td>\n",
       "      <td>...</td>\n",
       "      <td>...</td>\n",
       "      <td>...</td>\n",
       "      <td>...</td>\n",
       "      <td>...</td>\n",
       "      <td>...</td>\n",
       "      <td>...</td>\n",
       "      <td>...</td>\n",
       "      <td>...</td>\n",
       "      <td>...</td>\n",
       "      <td>...</td>\n",
       "      <td>...</td>\n",
       "      <td>...</td>\n",
       "      <td>...</td>\n",
       "    </tr>\n",
       "    <tr>\n",
       "      <th>3750</th>\n",
       "      <td>0.0</td>\n",
       "      <td>0.0</td>\n",
       "      <td>0.0</td>\n",
       "      <td>1.0</td>\n",
       "      <td>0.0</td>\n",
       "      <td>0.0</td>\n",
       "      <td>1.0</td>\n",
       "      <td>0.0</td>\n",
       "      <td>0.0</td>\n",
       "      <td>0.0</td>\n",
       "      <td>...</td>\n",
       "      <td>1.0</td>\n",
       "      <td>0.0</td>\n",
       "      <td>0.0</td>\n",
       "      <td>0.0</td>\n",
       "      <td>1.0</td>\n",
       "      <td>0.0</td>\n",
       "      <td>0.0</td>\n",
       "      <td>2020</td>\n",
       "      <td>412000</td>\n",
       "      <td>100</td>\n",
       "    </tr>\n",
       "    <tr>\n",
       "      <th>3751</th>\n",
       "      <td>0.0</td>\n",
       "      <td>0.0</td>\n",
       "      <td>1.0</td>\n",
       "      <td>0.0</td>\n",
       "      <td>0.0</td>\n",
       "      <td>0.0</td>\n",
       "      <td>1.0</td>\n",
       "      <td>0.0</td>\n",
       "      <td>0.0</td>\n",
       "      <td>0.0</td>\n",
       "      <td>...</td>\n",
       "      <td>1.0</td>\n",
       "      <td>0.0</td>\n",
       "      <td>0.0</td>\n",
       "      <td>0.0</td>\n",
       "      <td>1.0</td>\n",
       "      <td>0.0</td>\n",
       "      <td>0.0</td>\n",
       "      <td>2021</td>\n",
       "      <td>151000</td>\n",
       "      <td>100</td>\n",
       "    </tr>\n",
       "    <tr>\n",
       "      <th>3752</th>\n",
       "      <td>1.0</td>\n",
       "      <td>0.0</td>\n",
       "      <td>0.0</td>\n",
       "      <td>0.0</td>\n",
       "      <td>0.0</td>\n",
       "      <td>0.0</td>\n",
       "      <td>1.0</td>\n",
       "      <td>0.0</td>\n",
       "      <td>0.0</td>\n",
       "      <td>0.0</td>\n",
       "      <td>...</td>\n",
       "      <td>1.0</td>\n",
       "      <td>0.0</td>\n",
       "      <td>0.0</td>\n",
       "      <td>0.0</td>\n",
       "      <td>0.0</td>\n",
       "      <td>0.0</td>\n",
       "      <td>1.0</td>\n",
       "      <td>2020</td>\n",
       "      <td>105000</td>\n",
       "      <td>100</td>\n",
       "    </tr>\n",
       "    <tr>\n",
       "      <th>3753</th>\n",
       "      <td>1.0</td>\n",
       "      <td>0.0</td>\n",
       "      <td>0.0</td>\n",
       "      <td>0.0</td>\n",
       "      <td>1.0</td>\n",
       "      <td>0.0</td>\n",
       "      <td>0.0</td>\n",
       "      <td>0.0</td>\n",
       "      <td>0.0</td>\n",
       "      <td>1.0</td>\n",
       "      <td>...</td>\n",
       "      <td>1.0</td>\n",
       "      <td>0.0</td>\n",
       "      <td>0.0</td>\n",
       "      <td>0.0</td>\n",
       "      <td>1.0</td>\n",
       "      <td>0.0</td>\n",
       "      <td>0.0</td>\n",
       "      <td>2020</td>\n",
       "      <td>100000</td>\n",
       "      <td>100</td>\n",
       "    </tr>\n",
       "    <tr>\n",
       "      <th>3754</th>\n",
       "      <td>0.0</td>\n",
       "      <td>0.0</td>\n",
       "      <td>0.0</td>\n",
       "      <td>1.0</td>\n",
       "      <td>0.0</td>\n",
       "      <td>0.0</td>\n",
       "      <td>1.0</td>\n",
       "      <td>0.0</td>\n",
       "      <td>0.0</td>\n",
       "      <td>0.0</td>\n",
       "      <td>...</td>\n",
       "      <td>0.0</td>\n",
       "      <td>0.0</td>\n",
       "      <td>0.0</td>\n",
       "      <td>0.0</td>\n",
       "      <td>1.0</td>\n",
       "      <td>0.0</td>\n",
       "      <td>0.0</td>\n",
       "      <td>2021</td>\n",
       "      <td>94665</td>\n",
       "      <td>50</td>\n",
       "    </tr>\n",
       "  </tbody>\n",
       "</table>\n",
       "<p>3755 rows × 35 columns</p>\n",
       "</div>"
      ],
      "text/plain": [
       "      experience_level_Entry-level  experience_level_Executive-level   \n",
       "0                              0.0                               0.0  \\\n",
       "1                              0.0                               0.0   \n",
       "2                              0.0                               0.0   \n",
       "3                              0.0                               0.0   \n",
       "4                              0.0                               0.0   \n",
       "...                            ...                               ...   \n",
       "3750                           0.0                               0.0   \n",
       "3751                           0.0                               0.0   \n",
       "3752                           1.0                               0.0   \n",
       "3753                           1.0                               0.0   \n",
       "3754                           0.0                               0.0   \n",
       "\n",
       "      experience_level_Mid-level  experience_level_Senior-level   \n",
       "0                            0.0                            1.0  \\\n",
       "1                            1.0                            0.0   \n",
       "2                            1.0                            0.0   \n",
       "3                            0.0                            1.0   \n",
       "4                            0.0                            1.0   \n",
       "...                          ...                            ...   \n",
       "3750                         0.0                            1.0   \n",
       "3751                         1.0                            0.0   \n",
       "3752                         0.0                            0.0   \n",
       "3753                         0.0                            0.0   \n",
       "3754                         0.0                            1.0   \n",
       "\n",
       "      employment_type_Contractor  employment_type_Freelancer   \n",
       "0                            0.0                         0.0  \\\n",
       "1                            1.0                         0.0   \n",
       "2                            1.0                         0.0   \n",
       "3                            0.0                         0.0   \n",
       "4                            0.0                         0.0   \n",
       "...                          ...                         ...   \n",
       "3750                         0.0                         0.0   \n",
       "3751                         0.0                         0.0   \n",
       "3752                         0.0                         0.0   \n",
       "3753                         1.0                         0.0   \n",
       "3754                         0.0                         0.0   \n",
       "\n",
       "      employment_type_Full-Time  employment_type_Part-Time   \n",
       "0                           1.0                        0.0  \\\n",
       "1                           0.0                        0.0   \n",
       "2                           0.0                        0.0   \n",
       "3                           1.0                        0.0   \n",
       "4                           1.0                        0.0   \n",
       "...                         ...                        ...   \n",
       "3750                        1.0                        0.0   \n",
       "3751                        1.0                        0.0   \n",
       "3752                        1.0                        0.0   \n",
       "3753                        0.0                        0.0   \n",
       "3754                        1.0                        0.0   \n",
       "\n",
       "      job_title_Business Intelligence and Analytics  job_title_Data Analyst   \n",
       "0                                               0.0                     0.0  \\\n",
       "1                                               0.0                     0.0   \n",
       "2                                               0.0                     0.0   \n",
       "3                                               0.0                     0.0   \n",
       "4                                               0.0                     0.0   \n",
       "...                                             ...                     ...   \n",
       "3750                                            0.0                     0.0   \n",
       "3751                                            0.0                     0.0   \n",
       "3752                                            0.0                     0.0   \n",
       "3753                                            0.0                     1.0   \n",
       "3754                                            0.0                     0.0   \n",
       "\n",
       "      ...  company_location_North America  company_location_Oceania   \n",
       "0     ...                             0.0                       0.0  \\\n",
       "1     ...                             1.0                       0.0   \n",
       "2     ...                             1.0                       0.0   \n",
       "3     ...                             1.0                       0.0   \n",
       "4     ...                             1.0                       0.0   \n",
       "...   ...                             ...                       ...   \n",
       "3750  ...                             1.0                       0.0   \n",
       "3751  ...                             1.0                       0.0   \n",
       "3752  ...                             1.0                       0.0   \n",
       "3753  ...                             1.0                       0.0   \n",
       "3754  ...                             0.0                       0.0   \n",
       "\n",
       "      company_location_South America  company_location_Uncategorized   \n",
       "0                                0.0                             0.0  \\\n",
       "1                                0.0                             0.0   \n",
       "2                                0.0                             0.0   \n",
       "3                                0.0                             0.0   \n",
       "4                                0.0                             0.0   \n",
       "...                              ...                             ...   \n",
       "3750                             0.0                             0.0   \n",
       "3751                             0.0                             0.0   \n",
       "3752                             0.0                             0.0   \n",
       "3753                             0.0                             0.0   \n",
       "3754                             0.0                             0.0   \n",
       "\n",
       "      company_size_Large  company_size_Medium  company_size_Small  work_year   \n",
       "0                    1.0                  0.0                 0.0       2023  \\\n",
       "1                    0.0                  0.0                 1.0       2023   \n",
       "2                    0.0                  0.0                 1.0       2023   \n",
       "3                    0.0                  1.0                 0.0       2023   \n",
       "4                    0.0                  1.0                 0.0       2023   \n",
       "...                  ...                  ...                 ...        ...   \n",
       "3750                 1.0                  0.0                 0.0       2020   \n",
       "3751                 1.0                  0.0                 0.0       2021   \n",
       "3752                 0.0                  0.0                 1.0       2020   \n",
       "3753                 1.0                  0.0                 0.0       2020   \n",
       "3754                 1.0                  0.0                 0.0       2021   \n",
       "\n",
       "      salary_in_usd  remote_ratio  \n",
       "0             85847           100  \n",
       "1             30000           100  \n",
       "2             25500           100  \n",
       "3            175000           100  \n",
       "4            120000           100  \n",
       "...             ...           ...  \n",
       "3750         412000           100  \n",
       "3751         151000           100  \n",
       "3752         105000           100  \n",
       "3753         100000           100  \n",
       "3754          94665            50  \n",
       "\n",
       "[3755 rows x 35 columns]"
      ]
     },
     "execution_count": 24,
     "metadata": {},
     "output_type": "execute_result"
    }
   ],
   "source": [
    "processed_data"
   ]
  },
  {
   "cell_type": "markdown",
   "id": "f1894097",
   "metadata": {},
   "source": [
    "## Data Exploration\n",
    "\n",
    "This is where I will try to analyze the data and find interesting facts. I'm going to see what is the average salary for each categorical feature that I plot. In order to choose what plot is most suitable for visualization I made use of a [webiste](https://www.data-to-viz.com/) that helps you in finding the best plot for your data. I have decided to use barplots in multiple instances because I want to maintain consistency throughout the document."
   ]
  },
  {
   "cell_type": "code",
   "execution_count": 20,
   "id": "d5c75151",
   "metadata": {},
   "outputs": [
    {
     "data": {
      "image/png": "[encoded data removed]",
      "text/plain": [
       "<Figure size 1440x792 with 1 Axes>"
      ]
     },
     "metadata": {},
     "output_type": "display_data"
    }
   ],
   "source": [
    "jobs = ['Data Scientist', 'Machine Learning Engineer', 'Data Analyst', 'Data Engineer', 'Business Intelligence and Analytics', 'Other', 'Uncategorized']\n",
    "counts = df_salaries['job_title'].value_counts().reindex(jobs, fill_value=0)\n",
    "\n",
    "plt.figure(figsize=(20, 11))\n",
    "sns.barplot(x=jobs, y=counts)\n",
    "plt.show()"
   ]
  },
  {
   "cell_type": "markdown",
   "id": "8a1f5cf5",
   "metadata": {},
   "source": [
    "This bar plot shows that most of professionals are working as data engineers followed by data scientists and others jobs.\n",
    "\n",
    "Now I will try to see what is the mean for each job."
   ]
  },
  {
   "cell_type": "code",
   "execution_count": 34,
   "id": "6a49917d",
   "metadata": {},
   "outputs": [
    {
     "data": {
      "text/plain": [
       "job_title\n",
       "Data Analyst                           105899.075873\n",
       "Uncategorized                          140142.287081\n",
       "Data Engineer                          141783.515292\n",
       "Data Scientist                         145314.346838\n",
       "Other                                  148476.878049\n",
       "Business Intelligence and Analytics    149800.913043\n",
       "Machine Learning Engineer              150550.171429\n",
       "Name: salary_in_usd, dtype: float64"
      ]
     },
     "execution_count": 34,
     "metadata": {},
     "output_type": "execute_result"
    }
   ],
   "source": [
    "df_salaries['salary_in_usd'].groupby(df_salaries['job_title']).mean().sort_values()"
   ]
  },
  {
   "cell_type": "markdown",
   "id": "9aca7171",
   "metadata": {},
   "source": [
    "Although most people work as data engineers, the highest paid position overall is that of a machine learning engineer. While there is not a significant gap between salaries for different positions, data analysts tend to earn less compared to other categories.\n",
    "\n",
    "Now I'm going to find out what are most professionals expirience level?"
   ]
  },
  {
   "cell_type": "code",
   "execution_count": 35,
   "id": "5bca861a",
   "metadata": {},
   "outputs": [
    {
     "data": {
      "image/png": "[encoded data removed]",
      "text/plain": [
       "<Figure size 1224x504 with 1 Axes>"
      ]
     },
     "metadata": {},
     "output_type": "display_data"
    }
   ],
   "source": [
    "levels = ['Entry-level', 'Mid-level', 'Senior-level', 'Executive-level']\n",
    "counts = df_salaries['experience_level'].value_counts().reindex(levels, fill_value=0)\n",
    "\n",
    "plt.figure(figsize=(17, 7))\n",
    "sns.barplot(x=levels, y=counts)\n",
    "plt.show()"
   ]
  },
  {
   "cell_type": "markdown",
   "id": "e3992d1d",
   "metadata": {},
   "source": [
    "Also would be intresting to know what are the highest paid in general."
   ]
  },
  {
   "cell_type": "code",
   "execution_count": 39,
   "id": "d0f6c9b6",
   "metadata": {},
   "outputs": [
    {
     "data": {
      "text/plain": [
       "experience_level\n",
       "Entry-level         78546.284375\n",
       "Mid-level          104525.939130\n",
       "Senior-level       153051.071542\n",
       "Executive-level    194930.929825\n",
       "Name: salary_in_usd, dtype: float64"
      ]
     },
     "execution_count": 39,
     "metadata": {},
     "output_type": "execute_result"
    }
   ],
   "source": [
    "df_salaries.groupby('experience_level')['salary_in_usd'].mean().sort_values()"
   ]
  },
  {
   "cell_type": "code",
   "execution_count": 23,
   "id": "06c710e6",
   "metadata": {},
   "outputs": [
    {
     "data": {
      "image/png": "[encoded data removed]",
      "text/plain": [
       "<Figure size 864x432 with 1 Axes>"
      ]
     },
     "metadata": {},
     "output_type": "display_data"
    }
   ],
   "source": [
    "employment_type = ['Full-Time', 'Part-Time', 'Contractor', 'Freelancer']\n",
    "counts = df_salaries['employment_type'].value_counts().reindex(employment_type, fill_value=0)\n",
    "\n",
    "plt.figure(figsize=(12, 6))\n",
    "sns.barplot(x=employment_type, y=counts)\n",
    "plt.yscale('log')\n",
    "plt.show()"
   ]
  },
  {
   "cell_type": "code",
   "execution_count": 40,
   "id": "6954a3c4",
   "metadata": {},
   "outputs": [
    {
     "data": {
      "text/plain": [
       "employment_type\n",
       "Part-Time      39533.705882\n",
       "Freelancer     51807.800000\n",
       "Contractor    113446.900000\n",
       "Full-Time     138314.199570\n",
       "Name: salary_in_usd, dtype: float64"
      ]
     },
     "execution_count": 40,
     "metadata": {},
     "output_type": "execute_result"
    }
   ],
   "source": [
    "df_salaries.groupby('employment_type')['salary_in_usd'].mean().sort_values()"
   ]
  },
  {
   "cell_type": "code",
   "execution_count": 24,
   "id": "f620485a",
   "metadata": {
    "scrolled": false
   },
   "outputs": [
    {
     "data": {
      "text/plain": [
       "<AxesSubplot:ylabel='count'>"
      ]
     },
     "execution_count": 24,
     "metadata": {},
     "output_type": "execute_result"
    },
    {
     "data": {
      "image/png": "[encoded data removed]",
      "text/plain": [
       "<Figure size 864x432 with 1 Axes>"
      ]
     },
     "metadata": {},
     "output_type": "display_data"
    }
   ],
   "source": [
    "company_size = ['Small', 'Medium', 'Large']\n",
    "counts = df_salaries['company_size'].value_counts().reindex(company_size, fill_value=0)\n",
    "\n",
    "plt.figure(figsize=(12, 6))\n",
    "sns.barplot(x=company_size, y=counts)"
   ]
  },
  {
   "cell_type": "code",
   "execution_count": 41,
   "id": "47f2ff80",
   "metadata": {},
   "outputs": [
    {
     "data": {
      "text/plain": [
       "company_size\n",
       "Small      78226.682432\n",
       "Large     118300.982379\n",
       "Medium    143130.548367\n",
       "Name: salary_in_usd, dtype: float64"
      ]
     },
     "execution_count": 41,
     "metadata": {},
     "output_type": "execute_result"
    }
   ],
   "source": [
    "df_salaries.groupby('company_size')['salary_in_usd'].mean().sort_values()"
   ]
  },
  {
   "cell_type": "code",
   "execution_count": 25,
   "id": "e79c33d2",
   "metadata": {},
   "outputs": [
    {
     "data": {
      "image/png": "[encoded data removed]",
      "text/plain": [
       "<Figure size 864x432 with 1 Axes>"
      ]
     },
     "metadata": {},
     "output_type": "display_data"
    }
   ],
   "source": [
    "company_location = ['Europe', 'North America', 'Asia', 'South America', 'Oceania', 'Africa']\n",
    "counts = df_salaries['company_location'].value_counts().reindex(company_location, fill_value=0)\n",
    "\n",
    "plt.figure(figsize=(12, 6))\n",
    "sns.barplot(x=company_location, y=counts)\n",
    "plt.yscale('log')\n",
    "plt.show()"
   ]
  },
  {
   "cell_type": "code",
   "execution_count": 42,
   "id": "06b718e7",
   "metadata": {},
   "outputs": [
    {
     "data": {
      "text/plain": [
       "company_location\n",
       "Uncategorized     31153.000000\n",
       "South America     41294.583333\n",
       "Asia              45660.696970\n",
       "Africa            71428.571429\n",
       "Europe            74790.810458\n",
       "Oceania           83031.200000\n",
       "North America    151009.164758\n",
       "Name: salary_in_usd, dtype: float64"
      ]
     },
     "execution_count": 42,
     "metadata": {},
     "output_type": "execute_result"
    }
   ],
   "source": [
    "df_salaries.groupby('company_location')['salary_in_usd'].mean().sort_values()"
   ]
  },
  {
   "cell_type": "code",
   "execution_count": 26,
   "id": "5edcfcfc",
   "metadata": {},
   "outputs": [
    {
     "data": {
      "image/png": "[encoded data removed]",
      "text/plain": [
       "<Figure size 720x360 with 1 Axes>"
      ]
     },
     "metadata": {},
     "output_type": "display_data"
    }
   ],
   "source": [
    "plt.hist(df_salaries['salary_in_usd'], bins=20)\n",
    "plt.xlabel('Salary (USD)')\n",
    "plt.ylabel('Count')\n",
    "plt.title('Salary Distribution')\n",
    "plt.show()"
   ]
  },
  {
   "cell_type": "markdown",
   "id": "63fb2735",
   "metadata": {},
   "source": [
    "## Data Modeling\n",
    "\n",
    "For this data and problem, we are advised to use a decision decision tree. The next question that we have to answer is how to find the best hyperparameters. To answer this question, we can make use of a grid search with cross-validation using scikit-learn library. Grid search with cross-validation is a common technique for hyperparameter tuning, which involves searching over a specified range of hyperparameter values and evaluating the model's performance on a validation set using k-fold cross-validation. The combination of hyperparameter values that yields the best performance is then selected as the optimal hyperparameters for the model. https://scikit-learn.org/stable/modules/generated/sklearn.model_selection.GridSearchCV.html"
   ]
  },
  {
   "cell_type": "markdown",
   "id": "1db188e5",
   "metadata": {},
   "source": [
    "### Select the data\n",
    "\n",
    "Let's try to predict `salary_in_usd` by training a decision tree classifier on the data.\n",
    "\n",
    "### Train-Test split\n",
    "\n",
    "X contains the releveant features for this prediction, later we are going to find out what are the most important features"
   ]
  },
  {
   "cell_type": "code",
   "execution_count": 43,
   "id": "12b73110",
   "metadata": {},
   "outputs": [
    {
     "data": {
      "text/html": [
       "<div>\n",
       "<style scoped>\n",
       "    .dataframe tbody tr th:only-of-type {\n",
       "        vertical-align: middle;\n",
       "    }\n",
       "\n",
       "    .dataframe tbody tr th {\n",
       "        vertical-align: top;\n",
       "    }\n",
       "\n",
       "    .dataframe thead th {\n",
       "        text-align: right;\n",
       "    }\n",
       "</style>\n",
       "<table border=\"1\" class=\"dataframe\">\n",
       "  <thead>\n",
       "    <tr style=\"text-align: right;\">\n",
       "      <th></th>\n",
       "      <th>experience_level_Entry-level</th>\n",
       "      <th>experience_level_Executive-level</th>\n",
       "      <th>experience_level_Mid-level</th>\n",
       "      <th>experience_level_Senior-level</th>\n",
       "      <th>employment_type_Contractor</th>\n",
       "      <th>employment_type_Freelancer</th>\n",
       "      <th>employment_type_Full-Time</th>\n",
       "      <th>employment_type_Part-Time</th>\n",
       "      <th>job_title_Business Intelligence and Analytics</th>\n",
       "      <th>job_title_Data Analyst</th>\n",
       "      <th>...</th>\n",
       "      <th>company_location_North America</th>\n",
       "      <th>company_location_Oceania</th>\n",
       "      <th>company_location_South America</th>\n",
       "      <th>company_location_Uncategorized</th>\n",
       "      <th>company_size_Large</th>\n",
       "      <th>company_size_Medium</th>\n",
       "      <th>company_size_Small</th>\n",
       "      <th>work_year</th>\n",
       "      <th>salary_in_usd</th>\n",
       "      <th>remote_ratio</th>\n",
       "    </tr>\n",
       "  </thead>\n",
       "  <tbody>\n",
       "    <tr>\n",
       "      <th>1084</th>\n",
       "      <td>0.0</td>\n",
       "      <td>0.0</td>\n",
       "      <td>0.0</td>\n",
       "      <td>1.0</td>\n",
       "      <td>0.0</td>\n",
       "      <td>0.0</td>\n",
       "      <td>1.0</td>\n",
       "      <td>0.0</td>\n",
       "      <td>0.0</td>\n",
       "      <td>0.0</td>\n",
       "      <td>...</td>\n",
       "      <td>1.0</td>\n",
       "      <td>0.0</td>\n",
       "      <td>0.0</td>\n",
       "      <td>0.0</td>\n",
       "      <td>0.0</td>\n",
       "      <td>1.0</td>\n",
       "      <td>0.0</td>\n",
       "      <td>2023</td>\n",
       "      <td>65000</td>\n",
       "      <td>100</td>\n",
       "    </tr>\n",
       "    <tr>\n",
       "      <th>710</th>\n",
       "      <td>0.0</td>\n",
       "      <td>0.0</td>\n",
       "      <td>1.0</td>\n",
       "      <td>0.0</td>\n",
       "      <td>0.0</td>\n",
       "      <td>0.0</td>\n",
       "      <td>1.0</td>\n",
       "      <td>0.0</td>\n",
       "      <td>0.0</td>\n",
       "      <td>0.0</td>\n",
       "      <td>...</td>\n",
       "      <td>1.0</td>\n",
       "      <td>0.0</td>\n",
       "      <td>0.0</td>\n",
       "      <td>0.0</td>\n",
       "      <td>0.0</td>\n",
       "      <td>1.0</td>\n",
       "      <td>0.0</td>\n",
       "      <td>2023</td>\n",
       "      <td>95000</td>\n",
       "      <td>0</td>\n",
       "    </tr>\n",
       "    <tr>\n",
       "      <th>2955</th>\n",
       "      <td>0.0</td>\n",
       "      <td>0.0</td>\n",
       "      <td>1.0</td>\n",
       "      <td>0.0</td>\n",
       "      <td>0.0</td>\n",
       "      <td>0.0</td>\n",
       "      <td>1.0</td>\n",
       "      <td>0.0</td>\n",
       "      <td>0.0</td>\n",
       "      <td>0.0</td>\n",
       "      <td>...</td>\n",
       "      <td>0.0</td>\n",
       "      <td>0.0</td>\n",
       "      <td>0.0</td>\n",
       "      <td>0.0</td>\n",
       "      <td>0.0</td>\n",
       "      <td>0.0</td>\n",
       "      <td>1.0</td>\n",
       "      <td>2022</td>\n",
       "      <td>54634</td>\n",
       "      <td>100</td>\n",
       "    </tr>\n",
       "    <tr>\n",
       "      <th>2526</th>\n",
       "      <td>0.0</td>\n",
       "      <td>0.0</td>\n",
       "      <td>1.0</td>\n",
       "      <td>0.0</td>\n",
       "      <td>0.0</td>\n",
       "      <td>0.0</td>\n",
       "      <td>1.0</td>\n",
       "      <td>0.0</td>\n",
       "      <td>0.0</td>\n",
       "      <td>1.0</td>\n",
       "      <td>...</td>\n",
       "      <td>1.0</td>\n",
       "      <td>0.0</td>\n",
       "      <td>0.0</td>\n",
       "      <td>0.0</td>\n",
       "      <td>0.0</td>\n",
       "      <td>1.0</td>\n",
       "      <td>0.0</td>\n",
       "      <td>2022</td>\n",
       "      <td>80000</td>\n",
       "      <td>0</td>\n",
       "    </tr>\n",
       "    <tr>\n",
       "      <th>2204</th>\n",
       "      <td>0.0</td>\n",
       "      <td>0.0</td>\n",
       "      <td>0.0</td>\n",
       "      <td>1.0</td>\n",
       "      <td>0.0</td>\n",
       "      <td>0.0</td>\n",
       "      <td>1.0</td>\n",
       "      <td>0.0</td>\n",
       "      <td>0.0</td>\n",
       "      <td>0.0</td>\n",
       "      <td>...</td>\n",
       "      <td>1.0</td>\n",
       "      <td>0.0</td>\n",
       "      <td>0.0</td>\n",
       "      <td>0.0</td>\n",
       "      <td>0.0</td>\n",
       "      <td>1.0</td>\n",
       "      <td>0.0</td>\n",
       "      <td>2022</td>\n",
       "      <td>130000</td>\n",
       "      <td>0</td>\n",
       "    </tr>\n",
       "  </tbody>\n",
       "</table>\n",
       "<p>5 rows × 35 columns</p>\n",
       "</div>"
      ],
      "text/plain": [
       "      experience_level_Entry-level  experience_level_Executive-level   \n",
       "1084                           0.0                               0.0  \\\n",
       "710                            0.0                               0.0   \n",
       "2955                           0.0                               0.0   \n",
       "2526                           0.0                               0.0   \n",
       "2204                           0.0                               0.0   \n",
       "\n",
       "      experience_level_Mid-level  experience_level_Senior-level   \n",
       "1084                         0.0                            1.0  \\\n",
       "710                          1.0                            0.0   \n",
       "2955                         1.0                            0.0   \n",
       "2526                         1.0                            0.0   \n",
       "2204                         0.0                            1.0   \n",
       "\n",
       "      employment_type_Contractor  employment_type_Freelancer   \n",
       "1084                         0.0                         0.0  \\\n",
       "710                          0.0                         0.0   \n",
       "2955                         0.0                         0.0   \n",
       "2526                         0.0                         0.0   \n",
       "2204                         0.0                         0.0   \n",
       "\n",
       "      employment_type_Full-Time  employment_type_Part-Time   \n",
       "1084                        1.0                        0.0  \\\n",
       "710                         1.0                        0.0   \n",
       "2955                        1.0                        0.0   \n",
       "2526                        1.0                        0.0   \n",
       "2204                        1.0                        0.0   \n",
       "\n",
       "      job_title_Business Intelligence and Analytics  job_title_Data Analyst   \n",
       "1084                                            0.0                     0.0  \\\n",
       "710                                             0.0                     0.0   \n",
       "2955                                            0.0                     0.0   \n",
       "2526                                            0.0                     1.0   \n",
       "2204                                            0.0                     0.0   \n",
       "\n",
       "      ...  company_location_North America  company_location_Oceania   \n",
       "1084  ...                             1.0                       0.0  \\\n",
       "710   ...                             1.0                       0.0   \n",
       "2955  ...                             0.0                       0.0   \n",
       "2526  ...                             1.0                       0.0   \n",
       "2204  ...                             1.0                       0.0   \n",
       "\n",
       "      company_location_South America  company_location_Uncategorized   \n",
       "1084                             0.0                             0.0  \\\n",
       "710                              0.0                             0.0   \n",
       "2955                             0.0                             0.0   \n",
       "2526                             0.0                             0.0   \n",
       "2204                             0.0                             0.0   \n",
       "\n",
       "      company_size_Large  company_size_Medium  company_size_Small  work_year   \n",
       "1084                 0.0                  1.0                 0.0       2023  \\\n",
       "710                  0.0                  1.0                 0.0       2023   \n",
       "2955                 0.0                  0.0                 1.0       2022   \n",
       "2526                 0.0                  1.0                 0.0       2022   \n",
       "2204                 0.0                  1.0                 0.0       2022   \n",
       "\n",
       "      salary_in_usd  remote_ratio  \n",
       "1084          65000           100  \n",
       "710           95000             0  \n",
       "2955          54634           100  \n",
       "2526          80000             0  \n",
       "2204         130000             0  \n",
       "\n",
       "[5 rows x 35 columns]"
      ]
     },
     "execution_count": 43,
     "metadata": {},
     "output_type": "execute_result"
    }
   ],
   "source": [
    "X_train, X_test, y_train, y_test = train_test_split(processed_data, df_salaries['salary_in_usd'], test_size=0.2, random_state=0)\n",
    "X_train.head(5)"
   ]
  },
  {
   "cell_type": "markdown",
   "id": "ab4d524c",
   "metadata": {},
   "source": [
    "### Decision-tree classifier\n",
    "\n",
    "Next, we create the _decision-tree object_ for **decision tree mining**,\n",
    "and store it in the variable `tree`."
   ]
  },
  {
   "cell_type": "code",
   "execution_count": 83,
   "id": "5142eac5",
   "metadata": {},
   "outputs": [
    {
     "data": {
      "text/html": [
       "<style>#sk-container-id-7 {color: black;background-color: white;}#sk-container-id-7 pre{padding: 0;}#sk-container-id-7 div.sk-toggleable {background-color: white;}#sk-container-id-7 label.sk-toggleable__label {cursor: pointer;display: block;width: 100%;margin-bottom: 0;padding: 0.3em;box-sizing: border-box;text-align: center;}#sk-container-id-7 label.sk-toggleable__label-arrow:before {content: \"▸\";float: left;margin-right: 0.25em;color: #696969;}#sk-container-id-7 label.sk-toggleable__label-arrow:hover:before {color: black;}#sk-container-id-7 div.sk-estimator:hover label.sk-toggleable__label-arrow:before {color: black;}#sk-container-id-7 div.sk-toggleable__content {max-height: 0;max-width: 0;overflow: hidden;text-align: left;background-color: #f0f8ff;}#sk-container-id-7 div.sk-toggleable__content pre {margin: 0.2em;color: black;border-radius: 0.25em;background-color: #f0f8ff;}#sk-container-id-7 input.sk-toggleable__control:checked~div.sk-toggleable__content {max-height: 200px;max-width: 100%;overflow: auto;}#sk-container-id-7 input.sk-toggleable__control:checked~label.sk-toggleable__label-arrow:before {content: \"▾\";}#sk-container-id-7 div.sk-estimator input.sk-toggleable__control:checked~label.sk-toggleable__label {background-color: #d4ebff;}#sk-container-id-7 div.sk-label input.sk-toggleable__control:checked~label.sk-toggleable__label {background-color: #d4ebff;}#sk-container-id-7 input.sk-hidden--visually {border: 0;clip: rect(1px 1px 1px 1px);clip: rect(1px, 1px, 1px, 1px);height: 1px;margin: -1px;overflow: hidden;padding: 0;position: absolute;width: 1px;}#sk-container-id-7 div.sk-estimator {font-family: monospace;background-color: #f0f8ff;border: 1px dotted black;border-radius: 0.25em;box-sizing: border-box;margin-bottom: 0.5em;}#sk-container-id-7 div.sk-estimator:hover {background-color: #d4ebff;}#sk-container-id-7 div.sk-parallel-item::after {content: \"\";width: 100%;border-bottom: 1px solid gray;flex-grow: 1;}#sk-container-id-7 div.sk-label:hover label.sk-toggleable__label {background-color: #d4ebff;}#sk-container-id-7 div.sk-serial::before {content: \"\";position: absolute;border-left: 1px solid gray;box-sizing: border-box;top: 0;bottom: 0;left: 50%;z-index: 0;}#sk-container-id-7 div.sk-serial {display: flex;flex-direction: column;align-items: center;background-color: white;padding-right: 0.2em;padding-left: 0.2em;position: relative;}#sk-container-id-7 div.sk-item {position: relative;z-index: 1;}#sk-container-id-7 div.sk-parallel {display: flex;align-items: stretch;justify-content: center;background-color: white;position: relative;}#sk-container-id-7 div.sk-item::before, #sk-container-id-7 div.sk-parallel-item::before {content: \"\";position: absolute;border-left: 1px solid gray;box-sizing: border-box;top: 0;bottom: 0;left: 50%;z-index: -1;}#sk-container-id-7 div.sk-parallel-item {display: flex;flex-direction: column;z-index: 1;position: relative;background-color: white;}#sk-container-id-7 div.sk-parallel-item:first-child::after {align-self: flex-end;width: 50%;}#sk-container-id-7 div.sk-parallel-item:last-child::after {align-self: flex-start;width: 50%;}#sk-container-id-7 div.sk-parallel-item:only-child::after {width: 0;}#sk-container-id-7 div.sk-dashed-wrapped {border: 1px dashed gray;margin: 0 0.4em 0.5em 0.4em;box-sizing: border-box;padding-bottom: 0.4em;background-color: white;}#sk-container-id-7 div.sk-label label {font-family: monospace;font-weight: bold;display: inline-block;line-height: 1.2em;}#sk-container-id-7 div.sk-label-container {text-align: center;}#sk-container-id-7 div.sk-container {/* jupyter's `normalize.less` sets `[hidden] { display: none; }` but bootstrap.min.css set `[hidden] { display: none !important; }` so we also need the `!important` here to be able to override the default hidden behavior on the sphinx rendered scikit-learn.org. See: https://github.com/scikit-learn/scikit-learn/issues/21755 */display: inline-block !important;position: relative;}#sk-container-id-7 div.sk-text-repr-fallback {display: none;}</style><div id=\"sk-container-id-7\" class=\"sk-top-container\"><div class=\"sk-text-repr-fallback\"><pre>DecisionTreeRegressor()</pre><b>In a Jupyter environment, please rerun this cell to show the HTML representation or trust the notebook. <br />On GitHub, the HTML representation is unable to render, please try loading this page with nbviewer.org.</b></div><div class=\"sk-container\" hidden><div class=\"sk-item\"><div class=\"sk-estimator sk-toggleable\"><input class=\"sk-toggleable__control sk-hidden--visually\" id=\"sk-estimator-id-7\" type=\"checkbox\" checked><label for=\"sk-estimator-id-7\" class=\"sk-toggleable__label sk-toggleable__label-arrow\">DecisionTreeRegressor</label><div class=\"sk-toggleable__content\"><pre>DecisionTreeRegressor()</pre></div></div></div></div></div>"
      ],
      "text/plain": [
       "DecisionTreeRegressor()"
      ]
     },
     "execution_count": 83,
     "metadata": {},
     "output_type": "execute_result"
    }
   ],
   "source": [
    "tree = DecisionTreeRegressor()\n",
    "tree"
   ]
  },
  {
   "cell_type": "markdown",
   "id": "71161d50",
   "metadata": {},
   "source": [
    "### Fitting the model\n",
    "\n",
    "Invoke the **`fit()`** function of the decision-tree object,\n",
    "supplying the selected data"
   ]
  },
  {
   "cell_type": "code",
   "execution_count": 84,
   "id": "e64befe9",
   "metadata": {},
   "outputs": [
    {
     "data": {
      "text/html": [
       "<style>#sk-container-id-8 {color: black;background-color: white;}#sk-container-id-8 pre{padding: 0;}#sk-container-id-8 div.sk-toggleable {background-color: white;}#sk-container-id-8 label.sk-toggleable__label {cursor: pointer;display: block;width: 100%;margin-bottom: 0;padding: 0.3em;box-sizing: border-box;text-align: center;}#sk-container-id-8 label.sk-toggleable__label-arrow:before {content: \"▸\";float: left;margin-right: 0.25em;color: #696969;}#sk-container-id-8 label.sk-toggleable__label-arrow:hover:before {color: black;}#sk-container-id-8 div.sk-estimator:hover label.sk-toggleable__label-arrow:before {color: black;}#sk-container-id-8 div.sk-toggleable__content {max-height: 0;max-width: 0;overflow: hidden;text-align: left;background-color: #f0f8ff;}#sk-container-id-8 div.sk-toggleable__content pre {margin: 0.2em;color: black;border-radius: 0.25em;background-color: #f0f8ff;}#sk-container-id-8 input.sk-toggleable__control:checked~div.sk-toggleable__content {max-height: 200px;max-width: 100%;overflow: auto;}#sk-container-id-8 input.sk-toggleable__control:checked~label.sk-toggleable__label-arrow:before {content: \"▾\";}#sk-container-id-8 div.sk-estimator input.sk-toggleable__control:checked~label.sk-toggleable__label {background-color: #d4ebff;}#sk-container-id-8 div.sk-label input.sk-toggleable__control:checked~label.sk-toggleable__label {background-color: #d4ebff;}#sk-container-id-8 input.sk-hidden--visually {border: 0;clip: rect(1px 1px 1px 1px);clip: rect(1px, 1px, 1px, 1px);height: 1px;margin: -1px;overflow: hidden;padding: 0;position: absolute;width: 1px;}#sk-container-id-8 div.sk-estimator {font-family: monospace;background-color: #f0f8ff;border: 1px dotted black;border-radius: 0.25em;box-sizing: border-box;margin-bottom: 0.5em;}#sk-container-id-8 div.sk-estimator:hover {background-color: #d4ebff;}#sk-container-id-8 div.sk-parallel-item::after {content: \"\";width: 100%;border-bottom: 1px solid gray;flex-grow: 1;}#sk-container-id-8 div.sk-label:hover label.sk-toggleable__label {background-color: #d4ebff;}#sk-container-id-8 div.sk-serial::before {content: \"\";position: absolute;border-left: 1px solid gray;box-sizing: border-box;top: 0;bottom: 0;left: 50%;z-index: 0;}#sk-container-id-8 div.sk-serial {display: flex;flex-direction: column;align-items: center;background-color: white;padding-right: 0.2em;padding-left: 0.2em;position: relative;}#sk-container-id-8 div.sk-item {position: relative;z-index: 1;}#sk-container-id-8 div.sk-parallel {display: flex;align-items: stretch;justify-content: center;background-color: white;position: relative;}#sk-container-id-8 div.sk-item::before, #sk-container-id-8 div.sk-parallel-item::before {content: \"\";position: absolute;border-left: 1px solid gray;box-sizing: border-box;top: 0;bottom: 0;left: 50%;z-index: -1;}#sk-container-id-8 div.sk-parallel-item {display: flex;flex-direction: column;z-index: 1;position: relative;background-color: white;}#sk-container-id-8 div.sk-parallel-item:first-child::after {align-self: flex-end;width: 50%;}#sk-container-id-8 div.sk-parallel-item:last-child::after {align-self: flex-start;width: 50%;}#sk-container-id-8 div.sk-parallel-item:only-child::after {width: 0;}#sk-container-id-8 div.sk-dashed-wrapped {border: 1px dashed gray;margin: 0 0.4em 0.5em 0.4em;box-sizing: border-box;padding-bottom: 0.4em;background-color: white;}#sk-container-id-8 div.sk-label label {font-family: monospace;font-weight: bold;display: inline-block;line-height: 1.2em;}#sk-container-id-8 div.sk-label-container {text-align: center;}#sk-container-id-8 div.sk-container {/* jupyter's `normalize.less` sets `[hidden] { display: none; }` but bootstrap.min.css set `[hidden] { display: none !important; }` so we also need the `!important` here to be able to override the default hidden behavior on the sphinx rendered scikit-learn.org. See: https://github.com/scikit-learn/scikit-learn/issues/21755 */display: inline-block !important;position: relative;}#sk-container-id-8 div.sk-text-repr-fallback {display: none;}</style><div id=\"sk-container-id-8\" class=\"sk-top-container\"><div class=\"sk-text-repr-fallback\"><pre>DecisionTreeRegressor()</pre><b>In a Jupyter environment, please rerun this cell to show the HTML representation or trust the notebook. <br />On GitHub, the HTML representation is unable to render, please try loading this page with nbviewer.org.</b></div><div class=\"sk-container\" hidden><div class=\"sk-item\"><div class=\"sk-estimator sk-toggleable\"><input class=\"sk-toggleable__control sk-hidden--visually\" id=\"sk-estimator-id-8\" type=\"checkbox\" checked><label for=\"sk-estimator-id-8\" class=\"sk-toggleable__label sk-toggleable__label-arrow\">DecisionTreeRegressor</label><div class=\"sk-toggleable__content\"><pre>DecisionTreeRegressor()</pre></div></div></div></div></div>"
      ],
      "text/plain": [
       "DecisionTreeRegressor()"
      ]
     },
     "execution_count": 84,
     "metadata": {},
     "output_type": "execute_result"
    }
   ],
   "source": [
    "tree.fit(X_train, y_train)"
   ]
  },
  {
   "cell_type": "markdown",
   "id": "a6d2b274",
   "metadata": {},
   "source": [
    "### Extract model parameters\n",
    "\n",
    "In case of decision tree mining, there are relevant attributes of the decision-tree."
   ]
  },
  {
   "cell_type": "code",
   "execution_count": 46,
   "id": "45cd0e46",
   "metadata": {
    "scrolled": true
   },
   "outputs": [
    {
     "data": {
      "text/plain": [
       "(1827, 13)"
      ]
     },
     "execution_count": 46,
     "metadata": {},
     "output_type": "execute_result"
    }
   ],
   "source": [
    "tree.tree_.node_count, tree.tree_.max_depth"
   ]
  },
  {
   "cell_type": "markdown",
   "id": "6ab432a8",
   "metadata": {},
   "source": [
    "### Features importance\n",
    "\n",
    "The decision tree model assigns an importance score to each feature based on how much it contributes to the model's prediction accuracy. To better understand which features are the most important in predicting salaries, I am going sort the top features."
   ]
  },
  {
   "cell_type": "code",
   "execution_count": 49,
   "id": "bcfe2498",
   "metadata": {
    "scrolled": true
   },
   "outputs": [
    {
     "data": {
      "text/html": [
       "<div>\n",
       "<style scoped>\n",
       "    .dataframe tbody tr th:only-of-type {\n",
       "        vertical-align: middle;\n",
       "    }\n",
       "\n",
       "    .dataframe tbody tr th {\n",
       "        vertical-align: top;\n",
       "    }\n",
       "\n",
       "    .dataframe thead th {\n",
       "        text-align: right;\n",
       "    }\n",
       "</style>\n",
       "<table border=\"1\" class=\"dataframe\">\n",
       "  <thead>\n",
       "    <tr style=\"text-align: right;\">\n",
       "      <th></th>\n",
       "      <th>0</th>\n",
       "    </tr>\n",
       "  </thead>\n",
       "  <tbody>\n",
       "    <tr>\n",
       "      <th>salary_in_usd</th>\n",
       "      <td>9.999598e-01</td>\n",
       "    </tr>\n",
       "    <tr>\n",
       "      <th>employee_residence_Europe</th>\n",
       "      <td>1.550124e-05</td>\n",
       "    </tr>\n",
       "    <tr>\n",
       "      <th>experience_level_Senior-level</th>\n",
       "      <td>1.198189e-05</td>\n",
       "    </tr>\n",
       "    <tr>\n",
       "      <th>remote_ratio</th>\n",
       "      <td>6.481724e-06</td>\n",
       "    </tr>\n",
       "    <tr>\n",
       "      <th>work_year</th>\n",
       "      <td>1.946879e-06</td>\n",
       "    </tr>\n",
       "    <tr>\n",
       "      <th>job_title_Uncategorized</th>\n",
       "      <td>1.532608e-06</td>\n",
       "    </tr>\n",
       "    <tr>\n",
       "      <th>job_title_Data Scientist</th>\n",
       "      <td>9.918492e-07</td>\n",
       "    </tr>\n",
       "    <tr>\n",
       "      <th>job_title_Machine Learning Engineer</th>\n",
       "      <td>7.194416e-07</td>\n",
       "    </tr>\n",
       "    <tr>\n",
       "      <th>job_title_Data Engineer</th>\n",
       "      <td>2.449521e-07</td>\n",
       "    </tr>\n",
       "    <tr>\n",
       "      <th>company_size_Medium</th>\n",
       "      <td>1.560705e-07</td>\n",
       "    </tr>\n",
       "    <tr>\n",
       "      <th>company_size_Large</th>\n",
       "      <td>1.273767e-07</td>\n",
       "    </tr>\n",
       "    <tr>\n",
       "      <th>experience_level_Mid-level</th>\n",
       "      <td>9.369791e-08</td>\n",
       "    </tr>\n",
       "    <tr>\n",
       "      <th>employee_residence_North America</th>\n",
       "      <td>7.092841e-08</td>\n",
       "    </tr>\n",
       "    <tr>\n",
       "      <th>company_location_Europe</th>\n",
       "      <td>5.041559e-08</td>\n",
       "    </tr>\n",
       "    <tr>\n",
       "      <th>company_location_North America</th>\n",
       "      <td>4.800932e-08</td>\n",
       "    </tr>\n",
       "    <tr>\n",
       "      <th>experience_level_Executive-level</th>\n",
       "      <td>4.576517e-08</td>\n",
       "    </tr>\n",
       "    <tr>\n",
       "      <th>company_location_Asia</th>\n",
       "      <td>4.448674e-08</td>\n",
       "    </tr>\n",
       "    <tr>\n",
       "      <th>experience_level_Entry-level</th>\n",
       "      <td>4.407475e-08</td>\n",
       "    </tr>\n",
       "    <tr>\n",
       "      <th>job_title_Data Analyst</th>\n",
       "      <td>4.124551e-08</td>\n",
       "    </tr>\n",
       "    <tr>\n",
       "      <th>job_title_Business Intelligence and Analytics</th>\n",
       "      <td>3.855914e-08</td>\n",
       "    </tr>\n",
       "    <tr>\n",
       "      <th>employee_residence_Asia</th>\n",
       "      <td>1.769950e-08</td>\n",
       "    </tr>\n",
       "    <tr>\n",
       "      <th>company_size_Small</th>\n",
       "      <td>1.508920e-08</td>\n",
       "    </tr>\n",
       "    <tr>\n",
       "      <th>employment_type_Contractor</th>\n",
       "      <td>6.836806e-09</td>\n",
       "    </tr>\n",
       "    <tr>\n",
       "      <th>employee_residence_South America</th>\n",
       "      <td>4.958108e-09</td>\n",
       "    </tr>\n",
       "    <tr>\n",
       "      <th>job_title_Other</th>\n",
       "      <td>2.734238e-09</td>\n",
       "    </tr>\n",
       "    <tr>\n",
       "      <th>employee_residence_Oceania</th>\n",
       "      <td>2.436916e-09</td>\n",
       "    </tr>\n",
       "    <tr>\n",
       "      <th>employee_residence_Uncategorized</th>\n",
       "      <td>8.652832e-11</td>\n",
       "    </tr>\n",
       "    <tr>\n",
       "      <th>company_location_South America</th>\n",
       "      <td>1.234898e-11</td>\n",
       "    </tr>\n",
       "    <tr>\n",
       "      <th>company_location_Africa</th>\n",
       "      <td>0.000000e+00</td>\n",
       "    </tr>\n",
       "    <tr>\n",
       "      <th>company_location_Oceania</th>\n",
       "      <td>0.000000e+00</td>\n",
       "    </tr>\n",
       "    <tr>\n",
       "      <th>company_location_Uncategorized</th>\n",
       "      <td>0.000000e+00</td>\n",
       "    </tr>\n",
       "    <tr>\n",
       "      <th>employment_type_Freelancer</th>\n",
       "      <td>0.000000e+00</td>\n",
       "    </tr>\n",
       "    <tr>\n",
       "      <th>employee_residence_Africa</th>\n",
       "      <td>0.000000e+00</td>\n",
       "    </tr>\n",
       "    <tr>\n",
       "      <th>employment_type_Part-Time</th>\n",
       "      <td>0.000000e+00</td>\n",
       "    </tr>\n",
       "    <tr>\n",
       "      <th>employment_type_Full-Time</th>\n",
       "      <td>0.000000e+00</td>\n",
       "    </tr>\n",
       "  </tbody>\n",
       "</table>\n",
       "</div>"
      ],
      "text/plain": [
       "                                                          0\n",
       "salary_in_usd                                  9.999598e-01\n",
       "employee_residence_Europe                      1.550124e-05\n",
       "experience_level_Senior-level                  1.198189e-05\n",
       "remote_ratio                                   6.481724e-06\n",
       "work_year                                      1.946879e-06\n",
       "job_title_Uncategorized                        1.532608e-06\n",
       "job_title_Data Scientist                       9.918492e-07\n",
       "job_title_Machine Learning Engineer            7.194416e-07\n",
       "job_title_Data Engineer                        2.449521e-07\n",
       "company_size_Medium                            1.560705e-07\n",
       "company_size_Large                             1.273767e-07\n",
       "experience_level_Mid-level                     9.369791e-08\n",
       "employee_residence_North America               7.092841e-08\n",
       "company_location_Europe                        5.041559e-08\n",
       "company_location_North America                 4.800932e-08\n",
       "experience_level_Executive-level               4.576517e-08\n",
       "company_location_Asia                          4.448674e-08\n",
       "experience_level_Entry-level                   4.407475e-08\n",
       "job_title_Data Analyst                         4.124551e-08\n",
       "job_title_Business Intelligence and Analytics  3.855914e-08\n",
       "employee_residence_Asia                        1.769950e-08\n",
       "company_size_Small                             1.508920e-08\n",
       "employment_type_Contractor                     6.836806e-09\n",
       "employee_residence_South America               4.958108e-09\n",
       "job_title_Other                                2.734238e-09\n",
       "employee_residence_Oceania                     2.436916e-09\n",
       "employee_residence_Uncategorized               8.652832e-11\n",
       "company_location_South America                 1.234898e-11\n",
       "company_location_Africa                        0.000000e+00\n",
       "company_location_Oceania                       0.000000e+00\n",
       "company_location_Uncategorized                 0.000000e+00\n",
       "employment_type_Freelancer                     0.000000e+00\n",
       "employee_residence_Africa                      0.000000e+00\n",
       "employment_type_Part-Time                      0.000000e+00\n",
       "employment_type_Full-Time                      0.000000e+00"
      ]
     },
     "execution_count": 49,
     "metadata": {},
     "output_type": "execute_result"
    }
   ],
   "source": [
    "feature_importances = pd.DataFrame([tree.feature_importances_], columns=X_train.columns)\n",
    "feature_importances = feature_importances.transpose().sort_values(by=0, ascending=False)\n",
    "feature_importances"
   ]
  },
  {
   "cell_type": "markdown",
   "id": "f604ea6f",
   "metadata": {},
   "source": [
    "### Assess the model's quality\n",
    "\n",
    "The quality of a decision tree can be expressed as its _accuracy_ ,\n",
    "obtained as follows:"
   ]
  },
  {
   "cell_type": "code",
   "execution_count": 51,
   "id": "1f7ce8aa",
   "metadata": {
    "scrolled": true
   },
   "outputs": [
    {
     "name": "stdout",
     "output_type": "stream",
     "text": [
      "Training score: 1.0\n"
     ]
    }
   ],
   "source": [
    "train_score = tree.score(X_train, y_train)\n",
    "print(\"Training score:\", train_score)"
   ]
  },
  {
   "cell_type": "markdown",
   "id": "20859553",
   "metadata": {},
   "source": [
    "Now, I'm going to score the accuracy using the test data."
   ]
  },
  {
   "cell_type": "code",
   "execution_count": 52,
   "id": "91831e4f",
   "metadata": {},
   "outputs": [
    {
     "name": "stdout",
     "output_type": "stream",
     "text": [
      "Testing score: 0.9998096771197545\n"
     ]
    }
   ],
   "source": [
    "test_score = tree.score(X_test, y_test)\n",
    "print(\"Testing score:\", test_score)"
   ]
  },
  {
   "cell_type": "markdown",
   "id": "ebd8e22f",
   "metadata": {},
   "source": [
    "### Tuning hyperparameters\n",
    "\n",
    "Using a [grid search with cross-validation](https://scikit-learn.org/stable/modules/generated/sklearn.model_selection.GridSearchCV.html) is a common approach for tuning hyperparameters in machine learning models.\n",
    "GridSearchCV is a technique used for tuning the hyperparameters of a machine learning model. It is essentially an exhaustive search algorithm that searches through a specified hyperparameter space to find the combination of hyperparameters that results in the best performance for the model. It does this by training and evaluating the model using all possible combinations of hyperparameters, and then returns the combination that performs the best based on a specified evaluation metric. "
   ]
  },
  {
   "cell_type": "code",
   "execution_count": 53,
   "id": "4387b405",
   "metadata": {},
   "outputs": [
    {
     "name": "stdout",
     "output_type": "stream",
     "text": [
      "Best parameters:  {'max_depth': 7, 'min_samples_leaf': 2, 'min_samples_split': 2}\n",
      "Best score:  0.9995828994012299\n"
     ]
    }
   ],
   "source": [
    "param_grid = {\n",
    "    'max_depth': [3, 5, 7],\n",
    "    'min_samples_split': [2, 5, 10],\n",
    "    'min_samples_leaf': [1, 2, 4]\n",
    "}\n",
    "\n",
    "tree_model = DecisionTreeRegressor()\n",
    "\n",
    "grid_search = GridSearchCV(tree_model, param_grid=param_grid, cv=5)\n",
    "grid_search.fit(X_train, y_train)\n",
    "\n",
    "print(\"Best parameters: \", grid_search.best_params_)\n",
    "print(\"Best score: \", grid_search.best_score_)"
   ]
  },
  {
   "cell_type": "markdown",
   "id": "a94c6236",
   "metadata": {},
   "source": [
    "With the new hyperparameters we can tune the model for better predictions."
   ]
  },
  {
   "cell_type": "code",
   "execution_count": 57,
   "id": "a8586e9a",
   "metadata": {},
   "outputs": [
    {
     "data": {
      "text/html": [
       "<style>#sk-container-id-5 {color: black;background-color: white;}#sk-container-id-5 pre{padding: 0;}#sk-container-id-5 div.sk-toggleable {background-color: white;}#sk-container-id-5 label.sk-toggleable__label {cursor: pointer;display: block;width: 100%;margin-bottom: 0;padding: 0.3em;box-sizing: border-box;text-align: center;}#sk-container-id-5 label.sk-toggleable__label-arrow:before {content: \"▸\";float: left;margin-right: 0.25em;color: #696969;}#sk-container-id-5 label.sk-toggleable__label-arrow:hover:before {color: black;}#sk-container-id-5 div.sk-estimator:hover label.sk-toggleable__label-arrow:before {color: black;}#sk-container-id-5 div.sk-toggleable__content {max-height: 0;max-width: 0;overflow: hidden;text-align: left;background-color: #f0f8ff;}#sk-container-id-5 div.sk-toggleable__content pre {margin: 0.2em;color: black;border-radius: 0.25em;background-color: #f0f8ff;}#sk-container-id-5 input.sk-toggleable__control:checked~div.sk-toggleable__content {max-height: 200px;max-width: 100%;overflow: auto;}#sk-container-id-5 input.sk-toggleable__control:checked~label.sk-toggleable__label-arrow:before {content: \"▾\";}#sk-container-id-5 div.sk-estimator input.sk-toggleable__control:checked~label.sk-toggleable__label {background-color: #d4ebff;}#sk-container-id-5 div.sk-label input.sk-toggleable__control:checked~label.sk-toggleable__label {background-color: #d4ebff;}#sk-container-id-5 input.sk-hidden--visually {border: 0;clip: rect(1px 1px 1px 1px);clip: rect(1px, 1px, 1px, 1px);height: 1px;margin: -1px;overflow: hidden;padding: 0;position: absolute;width: 1px;}#sk-container-id-5 div.sk-estimator {font-family: monospace;background-color: #f0f8ff;border: 1px dotted black;border-radius: 0.25em;box-sizing: border-box;margin-bottom: 0.5em;}#sk-container-id-5 div.sk-estimator:hover {background-color: #d4ebff;}#sk-container-id-5 div.sk-parallel-item::after {content: \"\";width: 100%;border-bottom: 1px solid gray;flex-grow: 1;}#sk-container-id-5 div.sk-label:hover label.sk-toggleable__label {background-color: #d4ebff;}#sk-container-id-5 div.sk-serial::before {content: \"\";position: absolute;border-left: 1px solid gray;box-sizing: border-box;top: 0;bottom: 0;left: 50%;z-index: 0;}#sk-container-id-5 div.sk-serial {display: flex;flex-direction: column;align-items: center;background-color: white;padding-right: 0.2em;padding-left: 0.2em;position: relative;}#sk-container-id-5 div.sk-item {position: relative;z-index: 1;}#sk-container-id-5 div.sk-parallel {display: flex;align-items: stretch;justify-content: center;background-color: white;position: relative;}#sk-container-id-5 div.sk-item::before, #sk-container-id-5 div.sk-parallel-item::before {content: \"\";position: absolute;border-left: 1px solid gray;box-sizing: border-box;top: 0;bottom: 0;left: 50%;z-index: -1;}#sk-container-id-5 div.sk-parallel-item {display: flex;flex-direction: column;z-index: 1;position: relative;background-color: white;}#sk-container-id-5 div.sk-parallel-item:first-child::after {align-self: flex-end;width: 50%;}#sk-container-id-5 div.sk-parallel-item:last-child::after {align-self: flex-start;width: 50%;}#sk-container-id-5 div.sk-parallel-item:only-child::after {width: 0;}#sk-container-id-5 div.sk-dashed-wrapped {border: 1px dashed gray;margin: 0 0.4em 0.5em 0.4em;box-sizing: border-box;padding-bottom: 0.4em;background-color: white;}#sk-container-id-5 div.sk-label label {font-family: monospace;font-weight: bold;display: inline-block;line-height: 1.2em;}#sk-container-id-5 div.sk-label-container {text-align: center;}#sk-container-id-5 div.sk-container {/* jupyter's `normalize.less` sets `[hidden] { display: none; }` but bootstrap.min.css set `[hidden] { display: none !important; }` so we also need the `!important` here to be able to override the default hidden behavior on the sphinx rendered scikit-learn.org. See: https://github.com/scikit-learn/scikit-learn/issues/21755 */display: inline-block !important;position: relative;}#sk-container-id-5 div.sk-text-repr-fallback {display: none;}</style><div id=\"sk-container-id-5\" class=\"sk-top-container\"><div class=\"sk-text-repr-fallback\"><pre>DecisionTreeRegressor(max_depth=7, min_samples_leaf=2)</pre><b>In a Jupyter environment, please rerun this cell to show the HTML representation or trust the notebook. <br />On GitHub, the HTML representation is unable to render, please try loading this page with nbviewer.org.</b></div><div class=\"sk-container\" hidden><div class=\"sk-item\"><div class=\"sk-estimator sk-toggleable\"><input class=\"sk-toggleable__control sk-hidden--visually\" id=\"sk-estimator-id-5\" type=\"checkbox\" checked><label for=\"sk-estimator-id-5\" class=\"sk-toggleable__label sk-toggleable__label-arrow\">DecisionTreeRegressor</label><div class=\"sk-toggleable__content\"><pre>DecisionTreeRegressor(max_depth=7, min_samples_leaf=2)</pre></div></div></div></div></div>"
      ],
      "text/plain": [
       "DecisionTreeRegressor(max_depth=7, min_samples_leaf=2)"
      ]
     },
     "execution_count": 57,
     "metadata": {},
     "output_type": "execute_result"
    }
   ],
   "source": [
    "tree = DecisionTreeRegressor(max_depth=7, min_samples_leaf=2, min_samples_split=2)\n",
    "tree"
   ]
  },
  {
   "cell_type": "code",
   "execution_count": 58,
   "id": "537d143a",
   "metadata": {
    "scrolled": true
   },
   "outputs": [
    {
     "data": {
      "text/html": [
       "<style>#sk-container-id-6 {color: black;background-color: white;}#sk-container-id-6 pre{padding: 0;}#sk-container-id-6 div.sk-toggleable {background-color: white;}#sk-container-id-6 label.sk-toggleable__label {cursor: pointer;display: block;width: 100%;margin-bottom: 0;padding: 0.3em;box-sizing: border-box;text-align: center;}#sk-container-id-6 label.sk-toggleable__label-arrow:before {content: \"▸\";float: left;margin-right: 0.25em;color: #696969;}#sk-container-id-6 label.sk-toggleable__label-arrow:hover:before {color: black;}#sk-container-id-6 div.sk-estimator:hover label.sk-toggleable__label-arrow:before {color: black;}#sk-container-id-6 div.sk-toggleable__content {max-height: 0;max-width: 0;overflow: hidden;text-align: left;background-color: #f0f8ff;}#sk-container-id-6 div.sk-toggleable__content pre {margin: 0.2em;color: black;border-radius: 0.25em;background-color: #f0f8ff;}#sk-container-id-6 input.sk-toggleable__control:checked~div.sk-toggleable__content {max-height: 200px;max-width: 100%;overflow: auto;}#sk-container-id-6 input.sk-toggleable__control:checked~label.sk-toggleable__label-arrow:before {content: \"▾\";}#sk-container-id-6 div.sk-estimator input.sk-toggleable__control:checked~label.sk-toggleable__label {background-color: #d4ebff;}#sk-container-id-6 div.sk-label input.sk-toggleable__control:checked~label.sk-toggleable__label {background-color: #d4ebff;}#sk-container-id-6 input.sk-hidden--visually {border: 0;clip: rect(1px 1px 1px 1px);clip: rect(1px, 1px, 1px, 1px);height: 1px;margin: -1px;overflow: hidden;padding: 0;position: absolute;width: 1px;}#sk-container-id-6 div.sk-estimator {font-family: monospace;background-color: #f0f8ff;border: 1px dotted black;border-radius: 0.25em;box-sizing: border-box;margin-bottom: 0.5em;}#sk-container-id-6 div.sk-estimator:hover {background-color: #d4ebff;}#sk-container-id-6 div.sk-parallel-item::after {content: \"\";width: 100%;border-bottom: 1px solid gray;flex-grow: 1;}#sk-container-id-6 div.sk-label:hover label.sk-toggleable__label {background-color: #d4ebff;}#sk-container-id-6 div.sk-serial::before {content: \"\";position: absolute;border-left: 1px solid gray;box-sizing: border-box;top: 0;bottom: 0;left: 50%;z-index: 0;}#sk-container-id-6 div.sk-serial {display: flex;flex-direction: column;align-items: center;background-color: white;padding-right: 0.2em;padding-left: 0.2em;position: relative;}#sk-container-id-6 div.sk-item {position: relative;z-index: 1;}#sk-container-id-6 div.sk-parallel {display: flex;align-items: stretch;justify-content: center;background-color: white;position: relative;}#sk-container-id-6 div.sk-item::before, #sk-container-id-6 div.sk-parallel-item::before {content: \"\";position: absolute;border-left: 1px solid gray;box-sizing: border-box;top: 0;bottom: 0;left: 50%;z-index: -1;}#sk-container-id-6 div.sk-parallel-item {display: flex;flex-direction: column;z-index: 1;position: relative;background-color: white;}#sk-container-id-6 div.sk-parallel-item:first-child::after {align-self: flex-end;width: 50%;}#sk-container-id-6 div.sk-parallel-item:last-child::after {align-self: flex-start;width: 50%;}#sk-container-id-6 div.sk-parallel-item:only-child::after {width: 0;}#sk-container-id-6 div.sk-dashed-wrapped {border: 1px dashed gray;margin: 0 0.4em 0.5em 0.4em;box-sizing: border-box;padding-bottom: 0.4em;background-color: white;}#sk-container-id-6 div.sk-label label {font-family: monospace;font-weight: bold;display: inline-block;line-height: 1.2em;}#sk-container-id-6 div.sk-label-container {text-align: center;}#sk-container-id-6 div.sk-container {/* jupyter's `normalize.less` sets `[hidden] { display: none; }` but bootstrap.min.css set `[hidden] { display: none !important; }` so we also need the `!important` here to be able to override the default hidden behavior on the sphinx rendered scikit-learn.org. See: https://github.com/scikit-learn/scikit-learn/issues/21755 */display: inline-block !important;position: relative;}#sk-container-id-6 div.sk-text-repr-fallback {display: none;}</style><div id=\"sk-container-id-6\" class=\"sk-top-container\"><div class=\"sk-text-repr-fallback\"><pre>DecisionTreeRegressor(max_depth=7, min_samples_leaf=2)</pre><b>In a Jupyter environment, please rerun this cell to show the HTML representation or trust the notebook. <br />On GitHub, the HTML representation is unable to render, please try loading this page with nbviewer.org.</b></div><div class=\"sk-container\" hidden><div class=\"sk-item\"><div class=\"sk-estimator sk-toggleable\"><input class=\"sk-toggleable__control sk-hidden--visually\" id=\"sk-estimator-id-6\" type=\"checkbox\" checked><label for=\"sk-estimator-id-6\" class=\"sk-toggleable__label sk-toggleable__label-arrow\">DecisionTreeRegressor</label><div class=\"sk-toggleable__content\"><pre>DecisionTreeRegressor(max_depth=7, min_samples_leaf=2)</pre></div></div></div></div></div>"
      ],
      "text/plain": [
       "DecisionTreeRegressor(max_depth=7, min_samples_leaf=2)"
      ]
     },
     "execution_count": 58,
     "metadata": {},
     "output_type": "execute_result"
    }
   ],
   "source": [
    "tree.fit(X_train, y_train)"
   ]
  },
  {
   "cell_type": "code",
   "execution_count": 62,
   "id": "e261606c",
   "metadata": {},
   "outputs": [
    {
     "name": "stdout",
     "output_type": "stream",
     "text": [
      "Training score: 0.9998877488483303\n"
     ]
    }
   ],
   "source": [
    "train_score = tree.score(X_train, y_train)\n",
    "print(\"Training score:\", train_score)"
   ]
  },
  {
   "cell_type": "code",
   "execution_count": 63,
   "id": "3e8fa099",
   "metadata": {},
   "outputs": [
    {
     "name": "stdout",
     "output_type": "stream",
     "text": [
      "Testing score: 0.9997448945356772\n"
     ]
    }
   ],
   "source": [
    "test_score = tree.score(X_test, y_test)\n",
    "print(\"Testing score:\", test_score)"
   ]
  },
  {
   "cell_type": "markdown",
   "id": "086548b1",
   "metadata": {},
   "source": [
    "### Visualize the model\n"
   ]
  },
  {
   "cell_type": "code",
   "execution_count": 59,
   "id": "abe84ad2",
   "metadata": {
    "scrolled": false
   },
   "outputs": [
    {
     "data": {
      "image/png": "[encoded data removed]",
      "text/plain": [
       "<Figure size 720x360 with 1 Axes>"
      ]
     },
     "metadata": {},
     "output_type": "display_data"
    }
   ],
   "source": [
    "from sklearn.tree import plot_tree\n",
    "plot_tree(tree);"
   ]
  },
  {
   "cell_type": "code",
   "execution_count": 67,
   "id": "af269b8f",
   "metadata": {},
   "outputs": [
    {
     "name": "stdout",
     "output_type": "stream",
     "text": [
      "|--- feature_33 <= 146650.00\n",
      "|   |--- feature_33 <= 88927.00\n",
      "|   |   |--- feature_33 <= 52862.50\n",
      "|   |   |   |--- feature_33 <= 32260.00\n",
      "|   |   |   |   |--- feature_33 <= 18918.00\n",
      "|   |   |   |   |   |--- feature_33 <= 11177.00\n",
      "|   |   |   |   |   |   |--- feature_33 <= 7500.00\n",
      "|   |   |   |   |   |   |   |--- value: [5951.60]\n",
      "|   |   |   |   |   |   |--- feature_33 >  7500.00\n",
      "|   |   |   |   |   |   |   |--- value: [9346.50]\n",
      "|   |   |   |   |   |--- feature_33 >  11177.00\n",
      "|   |   |   |   |   |   |--- feature_33 <= 14653.50\n",
      "|   |   |   |   |   |   |   |--- value: [12787.59]\n",
      "|   |   |   |   |   |   |--- feature_33 >  14653.50\n",
      "|   |   |   |   |   |   |   |--- value: [16812.95]\n",
      "|   |   |   |   |--- feature_33 >  18918.00\n",
      "|   |   |   |   |   |--- feature_33 <= 26416.00\n",
      "|   |   |   |   |   |   |--- feature_33 <= 22227.50\n",
      "|   |   |   |   |   |   |   |--- value: [20551.82]\n",
      "|   |   |   |   |   |   |--- feature_33 >  22227.50\n",
      "|   |   |   |   |   |   |   |--- value: [24292.11]\n",
      "|   |   |   |   |   |--- feature_33 >  26416.00\n",
      "|   |   |   |   |   |   |--- feature_33 <= 29031.00\n",
      "|   |   |   |   |   |   |   |--- value: [27997.43]\n",
      "|   |   |   |   |   |   |--- feature_33 >  29031.00\n",
      "|   |   |   |   |   |   |   |--- value: [30446.80]\n",
      "|   |   |   |--- feature_33 >  32260.00\n",
      "|   |   |   |   |--- feature_33 <= 44087.00\n",
      "|   |   |   |   |   |--- feature_33 <= 39346.00\n",
      "|   |   |   |   |   |   |--- feature_33 <= 35805.00\n",
      "|   |   |   |   |   |   |   |--- value: [34068.62]\n",
      "|   |   |   |   |   |   |--- feature_33 >  35805.00\n",
      "|   |   |   |   |   |   |   |--- value: [37563.46]\n",
      "|   |   |   |   |   |--- feature_33 >  39346.00\n",
      "|   |   |   |   |   |   |--- feature_33 <= 41233.00\n",
      "|   |   |   |   |   |   |   |--- value: [40199.85]\n",
      "|   |   |   |   |   |   |--- feature_33 >  41233.00\n",
      "|   |   |   |   |   |   |   |--- value: [42509.13]\n",
      "|   |   |   |   |--- feature_33 >  44087.00\n",
      "|   |   |   |   |   |--- feature_33 <= 48931.00\n",
      "|   |   |   |   |   |   |--- feature_33 <= 47019.50\n",
      "|   |   |   |   |   |   |   |--- value: [45731.22]\n",
      "|   |   |   |   |   |   |--- feature_33 >  47019.50\n",
      "|   |   |   |   |   |   |   |--- value: [47873.61]\n",
      "|   |   |   |   |   |--- feature_33 >  48931.00\n",
      "|   |   |   |   |   |   |--- feature_33 <= 50735.50\n",
      "|   |   |   |   |   |   |   |--- value: [49956.41]\n",
      "|   |   |   |   |   |   |--- feature_33 >  50735.50\n",
      "|   |   |   |   |   |   |   |--- value: [51860.46]\n",
      "|   |   |--- feature_33 >  52862.50\n",
      "|   |   |   |--- feature_33 <= 71198.50\n",
      "|   |   |   |   |--- feature_33 <= 62324.50\n",
      "|   |   |   |   |   |--- feature_33 <= 57254.50\n",
      "|   |   |   |   |   |   |--- feature_33 <= 54871.00\n",
      "|   |   |   |   |   |   |   |--- value: [54088.25]\n",
      "|   |   |   |   |   |   |--- feature_33 >  54871.00\n",
      "|   |   |   |   |   |   |   |--- value: [55583.12]\n",
      "|   |   |   |   |   |--- feature_33 >  57254.50\n",
      "|   |   |   |   |   |   |--- feature_33 <= 60578.50\n",
      "|   |   |   |   |   |   |   |--- value: [59430.65]\n",
      "|   |   |   |   |   |   |--- feature_33 >  60578.50\n",
      "|   |   |   |   |   |   |   |--- value: [61437.89]\n",
      "|   |   |   |   |--- feature_33 >  62324.50\n",
      "|   |   |   |   |   |--- feature_33 <= 66684.00\n",
      "|   |   |   |   |   |   |--- feature_33 <= 64145.00\n",
      "|   |   |   |   |   |   |   |--- value: [63145.79]\n",
      "|   |   |   |   |   |   |--- feature_33 >  64145.00\n",
      "|   |   |   |   |   |   |   |--- value: [65205.50]\n",
      "|   |   |   |   |   |--- feature_33 >  66684.00\n",
      "|   |   |   |   |   |   |--- feature_33 <= 68780.50\n",
      "|   |   |   |   |   |   |   |--- value: [67762.94]\n",
      "|   |   |   |   |   |   |--- feature_33 >  68780.50\n",
      "|   |   |   |   |   |   |   |--- value: [69949.45]\n",
      "|   |   |   |--- feature_33 >  71198.50\n",
      "|   |   |   |   |--- feature_33 <= 79089.00\n",
      "|   |   |   |   |   |--- feature_33 <= 76041.50\n",
      "|   |   |   |   |   |   |--- feature_33 <= 74015.00\n",
      "|   |   |   |   |   |   |   |--- value: [73121.21]\n",
      "|   |   |   |   |   |   |--- feature_33 >  74015.00\n",
      "|   |   |   |   |   |   |   |--- value: [74972.41]\n",
      "|   |   |   |   |   |--- feature_33 >  76041.50\n",
      "|   |   |   |   |   |   |--- feature_33 <= 77682.00\n",
      "|   |   |   |   |   |   |   |--- value: [76943.50]\n",
      "|   |   |   |   |   |   |--- feature_33 >  77682.00\n",
      "|   |   |   |   |   |   |   |--- value: [78382.31]\n",
      "|   |   |   |   |--- feature_33 >  79089.00\n",
      "|   |   |   |   |   |--- feature_33 <= 83135.00\n",
      "|   |   |   |   |   |   |--- feature_33 <= 80740.50\n",
      "|   |   |   |   |   |   |   |--- value: [79968.46]\n",
      "|   |   |   |   |   |   |--- feature_33 >  80740.50\n",
      "|   |   |   |   |   |   |   |--- value: [81928.50]\n",
      "|   |   |   |   |   |--- feature_33 >  83135.00\n",
      "|   |   |   |   |   |   |--- feature_33 <= 86329.50\n",
      "|   |   |   |   |   |   |   |--- value: [84896.39]\n",
      "|   |   |   |   |   |   |--- feature_33 >  86329.50\n",
      "|   |   |   |   |   |   |   |--- value: [87814.00]\n",
      "|   |--- feature_33 >  88927.00\n",
      "|   |   |--- feature_33 <= 118604.00\n",
      "|   |   |   |--- feature_33 <= 103561.50\n",
      "|   |   |   |   |--- feature_33 <= 96191.00\n",
      "|   |   |   |   |   |--- feature_33 <= 92525.00\n",
      "|   |   |   |   |   |   |--- feature_33 <= 91177.50\n",
      "|   |   |   |   |   |   |   |--- value: [90117.42]\n",
      "|   |   |   |   |   |   |--- feature_33 >  91177.50\n",
      "|   |   |   |   |   |   |   |--- value: [92175.92]\n",
      "|   |   |   |   |   |--- feature_33 >  92525.00\n",
      "|   |   |   |   |   |   |--- feature_33 <= 94430.00\n",
      "|   |   |   |   |   |   |   |--- value: [93691.31]\n",
      "|   |   |   |   |   |   |--- feature_33 >  94430.00\n",
      "|   |   |   |   |   |   |   |--- value: [95074.12]\n",
      "|   |   |   |   |--- feature_33 >  96191.00\n",
      "|   |   |   |   |   |--- feature_33 <= 101014.00\n",
      "|   |   |   |   |   |   |--- feature_33 <= 98753.00\n",
      "|   |   |   |   |   |   |   |--- value: [97623.20]\n",
      "|   |   |   |   |   |   |--- feature_33 >  98753.00\n",
      "|   |   |   |   |   |   |   |--- value: [99924.65]\n",
      "|   |   |   |   |   |--- feature_33 >  101014.00\n",
      "|   |   |   |   |   |   |--- feature_33 <= 102300.00\n",
      "|   |   |   |   |   |   |   |--- value: [101836.90]\n",
      "|   |   |   |   |   |   |--- feature_33 >  102300.00\n",
      "|   |   |   |   |   |   |   |--- value: [102867.64]\n",
      "|   |   |   |--- feature_33 >  103561.50\n",
      "|   |   |   |   |--- feature_33 <= 111387.50\n",
      "|   |   |   |   |   |--- feature_33 <= 107700.00\n",
      "|   |   |   |   |   |   |--- feature_33 <= 105850.00\n",
      "|   |   |   |   |   |   |   |--- value: [104889.60]\n",
      "|   |   |   |   |   |   |--- feature_33 >  105850.00\n",
      "|   |   |   |   |   |   |   |--- value: [106558.00]\n",
      "|   |   |   |   |   |--- feature_33 >  107700.00\n",
      "|   |   |   |   |   |   |--- feature_33 <= 109700.00\n",
      "|   |   |   |   |   |   |   |--- value: [108921.59]\n",
      "|   |   |   |   |   |   |--- feature_33 >  109700.00\n",
      "|   |   |   |   |   |   |   |--- value: [110192.16]\n",
      "|   |   |   |   |--- feature_33 >  111387.50\n",
      "|   |   |   |   |   |--- feature_33 <= 114500.00\n",
      "|   |   |   |   |   |   |--- feature_33 <= 112600.00\n",
      "|   |   |   |   |   |   |   |--- value: [112010.71]\n",
      "|   |   |   |   |   |   |--- feature_33 >  112600.00\n",
      "|   |   |   |   |   |   |   |--- value: [113280.73]\n",
      "|   |   |   |   |   |--- feature_33 >  114500.00\n",
      "|   |   |   |   |   |   |--- feature_33 <= 115753.50\n",
      "|   |   |   |   |   |   |   |--- value: [115091.25]\n",
      "|   |   |   |   |   |   |--- feature_33 >  115753.50\n",
      "|   |   |   |   |   |   |   |--- value: [116450.50]\n",
      "|   |   |--- feature_33 >  118604.00\n",
      "|   |   |   |--- feature_33 <= 132660.00\n",
      "|   |   |   |   |--- feature_33 <= 125502.00\n",
      "|   |   |   |   |   |--- feature_33 <= 122250.00\n",
      "|   |   |   |   |   |   |--- feature_33 <= 120846.50\n",
      "|   |   |   |   |   |   |   |--- value: [119952.83]\n",
      "|   |   |   |   |   |   |--- feature_33 >  120846.50\n",
      "|   |   |   |   |   |   |   |--- value: [121745.93]\n",
      "|   |   |   |   |   |--- feature_33 >  122250.00\n",
      "|   |   |   |   |   |   |--- feature_33 <= 124095.00\n",
      "|   |   |   |   |   |   |   |--- value: [123243.88]\n",
      "|   |   |   |   |   |   |--- feature_33 >  124095.00\n",
      "|   |   |   |   |   |   |   |--- value: [124888.24]\n",
      "|   |   |   |   |--- feature_33 >  125502.00\n",
      "|   |   |   |   |   |--- feature_33 <= 128390.00\n",
      "|   |   |   |   |   |   |--- feature_33 <= 126750.00\n",
      "|   |   |   |   |   |   |   |--- value: [126043.11]\n",
      "|   |   |   |   |   |   |--- feature_33 >  126750.00\n",
      "|   |   |   |   |   |   |   |--- value: [127710.00]\n",
      "|   |   |   |   |   |--- feature_33 >  128390.00\n",
      "|   |   |   |   |   |   |--- feature_33 <= 130630.00\n",
      "|   |   |   |   |   |   |   |--- value: [129703.98]\n",
      "|   |   |   |   |   |   |--- feature_33 >  130630.00\n",
      "|   |   |   |   |   |   |   |--- value: [131614.67]\n",
      "|   |   |   |--- feature_33 >  132660.00\n",
      "|   |   |   |   |--- feature_33 <= 138842.00\n",
      "|   |   |   |   |   |--- feature_33 <= 136440.00\n",
      "|   |   |   |   |   |   |--- feature_33 <= 134750.00\n",
      "|   |   |   |   |   |   |   |--- value: [133787.25]\n",
      "|   |   |   |   |   |   |--- feature_33 >  134750.00\n",
      "|   |   |   |   |   |   |   |--- value: [135250.75]\n",
      "|   |   |   |   |   |--- feature_33 >  136440.00\n",
      "|   |   |   |   |   |   |--- feature_33 <= 137750.00\n",
      "|   |   |   |   |   |   |   |--- value: [137145.50]\n",
      "|   |   |   |   |   |   |--- feature_33 >  137750.00\n",
      "|   |   |   |   |   |   |   |--- value: [138442.67]\n",
      "|   |   |   |   |--- feature_33 >  138842.00\n",
      "|   |   |   |   |   |--- feature_33 <= 142500.00\n",
      "|   |   |   |   |   |   |--- feature_33 <= 140850.00\n",
      "|   |   |   |   |   |   |   |--- value: [139900.62]\n",
      "|   |   |   |   |   |   |--- feature_33 >  140850.00\n",
      "|   |   |   |   |   |   |   |--- value: [141746.28]\n",
      "|   |   |   |   |   |--- feature_33 >  142500.00\n",
      "|   |   |   |   |   |   |--- feature_33 <= 144527.00\n",
      "|   |   |   |   |   |   |   |--- value: [143767.71]\n",
      "|   |   |   |   |   |   |--- feature_33 >  144527.00\n",
      "|   |   |   |   |   |   |   |--- value: [145208.51]\n",
      "|--- feature_33 >  146650.00\n",
      "|   |--- feature_33 <= 217500.00\n",
      "|   |   |--- feature_33 <= 177550.00\n",
      "|   |   |   |--- feature_33 <= 162250.00\n",
      "|   |   |   |   |--- feature_33 <= 155249.50\n",
      "|   |   |   |   |   |--- feature_33 <= 151605.00\n",
      "|   |   |   |   |   |   |--- feature_33 <= 149288.00\n",
      "|   |   |   |   |   |   |   |--- value: [148262.36]\n",
      "|   |   |   |   |   |   |--- feature_33 >  149288.00\n",
      "|   |   |   |   |   |   |   |--- value: [150033.37]\n",
      "|   |   |   |   |   |--- feature_33 >  151605.00\n",
      "|   |   |   |   |   |   |--- feature_33 <= 153833.50\n",
      "|   |   |   |   |   |   |   |--- value: [152933.11]\n",
      "|   |   |   |   |   |   |--- feature_33 >  153833.50\n",
      "|   |   |   |   |   |   |   |--- value: [154720.31]\n",
      "|   |   |   |   |--- feature_33 >  155249.50\n",
      "|   |   |   |   |   |--- feature_33 <= 158600.00\n",
      "|   |   |   |   |   |   |--- feature_33 <= 157375.00\n",
      "|   |   |   |   |   |   |   |--- value: [156377.47]\n",
      "|   |   |   |   |   |   |--- feature_33 >  157375.00\n",
      "|   |   |   |   |   |   |   |--- value: [157983.33]\n",
      "|   |   |   |   |   |--- feature_33 >  158600.00\n",
      "|   |   |   |   |   |   |--- feature_33 <= 160644.00\n",
      "|   |   |   |   |   |   |   |--- value: [159938.30]\n",
      "|   |   |   |   |   |   |--- feature_33 >  160644.00\n",
      "|   |   |   |   |   |   |   |--- value: [161575.30]\n",
      "|   |   |   |--- feature_33 >  162250.00\n",
      "|   |   |   |   |--- feature_33 <= 169600.00\n",
      "|   |   |   |   |   |--- feature_33 <= 166350.00\n",
      "|   |   |   |   |   |   |--- feature_33 <= 164498.00\n",
      "|   |   |   |   |   |   |   |--- value: [163462.25]\n",
      "|   |   |   |   |   |   |--- feature_33 >  164498.00\n",
      "|   |   |   |   |   |   |   |--- value: [165128.38]\n",
      "|   |   |   |   |   |--- feature_33 >  166350.00\n",
      "|   |   |   |   |   |   |--- feature_33 <= 168250.00\n",
      "|   |   |   |   |   |   |   |--- value: [167516.75]\n",
      "|   |   |   |   |   |   |--- feature_33 >  168250.00\n",
      "|   |   |   |   |   |   |   |--- value: [168830.77]\n",
      "|   |   |   |   |--- feature_33 >  169600.00\n",
      "|   |   |   |   |   |--- feature_33 <= 172900.00\n",
      "|   |   |   |   |   |   |--- feature_33 <= 171125.00\n",
      "|   |   |   |   |   |   |   |--- value: [170078.21]\n",
      "|   |   |   |   |   |   |--- feature_33 >  171125.00\n",
      "|   |   |   |   |   |   |   |--- value: [172090.45]\n",
      "|   |   |   |   |   |--- feature_33 >  172900.00\n",
      "|   |   |   |   |   |   |--- feature_33 <= 175629.00\n",
      "|   |   |   |   |   |   |   |--- value: [174899.38]\n",
      "|   |   |   |   |   |   |--- feature_33 >  175629.00\n",
      "|   |   |   |   |   |   |   |--- value: [176612.50]\n",
      "|   |   |--- feature_33 >  177550.00\n",
      "|   |   |   |--- feature_33 <= 194750.00\n",
      "|   |   |   |   |--- feature_33 <= 186650.00\n",
      "|   |   |   |   |   |--- feature_33 <= 182625.00\n",
      "|   |   |   |   |   |   |--- feature_33 <= 181250.00\n",
      "|   |   |   |   |   |   |   |--- value: [179788.80]\n",
      "|   |   |   |   |   |   |--- feature_33 >  181250.00\n",
      "|   |   |   |   |   |   |   |--- value: [182144.44]\n",
      "|   |   |   |   |   |--- feature_33 >  182625.00\n",
      "|   |   |   |   |   |   |--- feature_33 <= 184345.00\n",
      "|   |   |   |   |   |   |   |--- value: [183486.50]\n",
      "|   |   |   |   |   |   |--- feature_33 >  184345.00\n",
      "|   |   |   |   |   |   |   |--- value: [185534.31]\n",
      "|   |   |   |   |--- feature_33 >  186650.00\n",
      "|   |   |   |   |   |--- feature_33 <= 190700.00\n",
      "|   |   |   |   |   |   |--- feature_33 <= 188650.00\n",
      "|   |   |   |   |   |   |   |--- value: [187548.86]\n",
      "|   |   |   |   |   |   |--- feature_33 >  188650.00\n",
      "|   |   |   |   |   |   |   |--- value: [189868.21]\n",
      "|   |   |   |   |   |--- feature_33 >  190700.00\n",
      "|   |   |   |   |   |   |--- feature_33 <= 192800.00\n",
      "|   |   |   |   |   |   |   |--- value: [191722.12]\n",
      "|   |   |   |   |   |   |--- feature_33 >  192800.00\n",
      "|   |   |   |   |   |   |   |--- value: [193730.00]\n",
      "|   |   |   |--- feature_33 >  194750.00\n",
      "|   |   |   |   |--- feature_33 <= 205760.00\n",
      "|   |   |   |   |   |--- feature_33 <= 201725.00\n",
      "|   |   |   |   |   |   |--- feature_33 <= 197715.00\n",
      "|   |   |   |   |   |   |   |--- value: [195898.79]\n",
      "|   |   |   |   |   |   |--- feature_33 >  197715.00\n",
      "|   |   |   |   |   |   |   |--- value: [199795.45]\n",
      "|   |   |   |   |   |--- feature_33 >  201725.00\n",
      "|   |   |   |   |   |   |--- feature_33 <= 203800.00\n",
      "|   |   |   |   |   |   |   |--- value: [202896.38]\n",
      "|   |   |   |   |   |   |--- feature_33 >  203800.00\n",
      "|   |   |   |   |   |   |   |--- value: [204841.25]\n",
      "|   |   |   |   |--- feature_33 >  205760.00\n",
      "|   |   |   |   |   |--- feature_33 <= 211850.00\n",
      "|   |   |   |   |   |   |--- feature_33 <= 208225.00\n",
      "|   |   |   |   |   |   |   |--- value: [206481.29]\n",
      "|   |   |   |   |   |   |--- feature_33 >  208225.00\n",
      "|   |   |   |   |   |   |   |--- value: [209968.27]\n",
      "|   |   |   |   |   |--- feature_33 >  211850.00\n",
      "|   |   |   |   |   |   |--- feature_33 <= 214330.00\n",
      "|   |   |   |   |   |   |   |--- value: [213098.89]\n",
      "|   |   |   |   |   |   |--- feature_33 >  214330.00\n",
      "|   |   |   |   |   |   |   |--- value: [215588.46]\n",
      "|   |--- feature_33 >  217500.00\n",
      "|   |   |--- feature_33 <= 281950.00\n",
      "|   |   |   |--- feature_33 <= 242500.00\n",
      "|   |   |   |   |--- feature_33 <= 229500.00\n",
      "|   |   |   |   |   |--- feature_33 <= 222945.00\n",
      "|   |   |   |   |   |   |--- feature_33 <= 220555.00\n",
      "|   |   |   |   |   |   |   |--- value: [219712.75]\n",
      "|   |   |   |   |   |   |--- feature_33 >  220555.00\n",
      "|   |   |   |   |   |   |   |--- value: [221967.50]\n",
      "|   |   |   |   |   |--- feature_33 >  222945.00\n",
      "|   |   |   |   |   |   |--- feature_33 <= 226300.00\n",
      "|   |   |   |   |   |   |   |--- value: [224876.09]\n",
      "|   |   |   |   |   |   |--- feature_33 >  226300.00\n",
      "|   |   |   |   |   |   |   |--- value: [227333.33]\n",
      "|   |   |   |   |--- feature_33 >  229500.00\n",
      "|   |   |   |   |   |--- feature_33 <= 234550.00\n",
      "|   |   |   |   |   |   |--- feature_33 <= 230825.00\n",
      "|   |   |   |   |   |   |   |--- value: [230026.67]\n",
      "|   |   |   |   |   |   |--- feature_33 >  230825.00\n",
      "|   |   |   |   |   |   |   |--- value: [231756.25]\n",
      "|   |   |   |   |   |--- feature_33 >  234550.00\n",
      "|   |   |   |   |   |   |--- feature_33 <= 237500.00\n",
      "|   |   |   |   |   |   |   |--- value: [235917.65]\n",
      "|   |   |   |   |   |   |--- feature_33 >  237500.00\n",
      "|   |   |   |   |   |   |   |--- value: [239966.68]\n",
      "|   |   |   |--- feature_33 >  242500.00\n",
      "|   |   |   |   |--- feature_33 <= 263500.00\n",
      "|   |   |   |   |   |--- feature_33 <= 254375.00\n",
      "|   |   |   |   |   |   |--- feature_33 <= 248550.00\n",
      "|   |   |   |   |   |   |   |--- value: [246372.73]\n",
      "|   |   |   |   |   |   |--- feature_33 >  248550.00\n",
      "|   |   |   |   |   |   |   |--- value: [250716.52]\n",
      "|   |   |   |   |   |--- feature_33 >  254375.00\n",
      "|   |   |   |   |   |   |--- feature_33 <= 258375.00\n",
      "|   |   |   |   |   |   |   |--- value: [256600.00]\n",
      "|   |   |   |   |   |   |--- feature_33 >  258375.00\n",
      "|   |   |   |   |   |   |   |--- value: [260062.50]\n",
      "|   |   |   |   |--- feature_33 >  263500.00\n",
      "|   |   |   |   |   |--- feature_33 <= 271351.50\n",
      "|   |   |   |   |   |   |--- feature_33 <= 268000.00\n",
      "|   |   |   |   |   |   |   |--- value: [265350.00]\n",
      "|   |   |   |   |   |   |--- feature_33 >  268000.00\n",
      "|   |   |   |   |   |   |   |--- value: [270101.00]\n",
      "|   |   |   |   |   |--- feature_33 >  271351.50\n",
      "|   |   |   |   |   |   |--- feature_33 <= 278000.00\n",
      "|   |   |   |   |   |   |   |--- value: [274860.71]\n",
      "|   |   |   |   |   |   |--- feature_33 >  278000.00\n",
      "|   |   |   |   |   |   |   |--- value: [280266.67]\n",
      "|   |   |--- feature_33 >  281950.00\n",
      "|   |   |   |--- feature_33 <= 347800.00\n",
      "|   |   |   |   |--- feature_33 <= 312500.00\n",
      "|   |   |   |   |   |--- feature_33 <= 295150.00\n",
      "|   |   |   |   |   |   |--- feature_33 <= 286900.00\n",
      "|   |   |   |   |   |   |   |--- value: [284333.33]\n",
      "|   |   |   |   |   |   |--- feature_33 >  286900.00\n",
      "|   |   |   |   |   |   |   |--- value: [290075.33]\n",
      "|   |   |   |   |   |--- feature_33 >  295150.00\n",
      "|   |   |   |   |   |   |--- feature_33 <= 306700.00\n",
      "|   |   |   |   |   |   |   |--- value: [299714.74]\n",
      "|   |   |   |   |   |   |--- feature_33 >  306700.00\n",
      "|   |   |   |   |   |   |   |--- value: [309866.67]\n",
      "|   |   |   |   |--- feature_33 >  312500.00\n",
      "|   |   |   |   |   |--- feature_33 <= 334750.00\n",
      "|   |   |   |   |   |   |--- feature_3 <= 0.50\n",
      "|   |   |   |   |   |   |   |--- value: [326166.67]\n",
      "|   |   |   |   |   |   |--- feature_3 >  0.50\n",
      "|   |   |   |   |   |   |   |--- value: [317167.50]\n",
      "|   |   |   |   |   |--- feature_33 >  334750.00\n",
      "|   |   |   |   |   |   |--- value: [342633.33]\n",
      "|   |   |   |--- feature_33 >  347800.00\n",
      "|   |   |   |   |--- feature_33 <= 392500.00\n",
      "|   |   |   |   |   |--- feature_33 <= 361600.00\n",
      "|   |   |   |   |   |   |--- value: [351600.00]\n",
      "|   |   |   |   |   |--- feature_33 >  361600.00\n",
      "|   |   |   |   |   |   |--- feature_33 <= 372500.00\n",
      "|   |   |   |   |   |   |   |--- value: [370000.00]\n",
      "|   |   |   |   |   |   |--- feature_33 >  372500.00\n",
      "|   |   |   |   |   |   |   |--- value: [376520.00]\n",
      "|   |   |   |   |--- feature_33 >  392500.00\n",
      "|   |   |   |   |   |--- feature_34 <= 25.00\n",
      "|   |   |   |   |   |   |--- value: [440483.50]\n",
      "|   |   |   |   |   |--- feature_34 >  25.00\n",
      "|   |   |   |   |   |   |--- value: [414000.00]\n",
      "\n"
     ]
    }
   ],
   "source": [
    "from sklearn.tree import DecisionTreeRegressor, export_text\n",
    "text_representation = export_text(tree)\n",
    "print(text_representation)"
   ]
  },
  {
   "cell_type": "markdown",
   "id": "39c50514",
   "metadata": {},
   "source": [
    "## Make predictions\n",
    "\n",
    "Given one or more additional data points, you can find their predicted target value\n",
    "with the function **`predict()`**."
   ]
  },
  {
   "cell_type": "code",
   "execution_count": 88,
   "id": "39d91b71",
   "metadata": {},
   "outputs": [
    {
     "name": "stdout",
     "output_type": "stream",
     "text": [
      "[5132.]\n"
     ]
    }
   ],
   "source": [
    "entry = pd.DataFrame({'experience_level_Entry-level': [1],\n",
    "                     'experience_level_Executive-level': [0],\n",
    "                     'experience_level_Mid-level': [0],\n",
    "                     'experience_level_Senior-level': [0],\n",
    "                     'employment_type_Contractor': [0],\n",
    "                     'employment_type_Freelancer': [0],\n",
    "                     'employment_type_Full-Time': [1],\n",
    "                     'employment_type_Part-Time': [0],\n",
    "                     'job_title_Business Intelligence and Analytics': [0],\n",
    "                     'job_title_Data Analyst': [0],\n",
    "                     'job_title_Data Engineer': [0],\n",
    "                     'job_title_Data Scientist': [1],\n",
    "                     'job_title_Machine Learning Engineer': [0],\n",
    "                     'job_title_Other': [0],\n",
    "                     'job_title_Uncategorized': [0],\n",
    "                     'employee_residence_Africa': [0],\n",
    "                     'employee_residence_Asia': [0],\n",
    "                     'employee_residence_Europe': [0],\n",
    "                     'employee_residence_North America': [1],\n",
    "                     'employee_residence_Oceania': [0],\n",
    "                     'employee_residence_South America': [0],\n",
    "                     'employee_residence_Uncategorized': [0],\n",
    "                     'company_location_Africa': [0],\n",
    "                     'company_location_Asia': [0],\n",
    "                     'company_location_Europe': [1],\n",
    "                     'company_location_North America': [0],\n",
    "                     'company_location_Oceania': [0],\n",
    "                     'company_location_South America': [0],\n",
    "                     'company_location_Uncategorized': [0],\n",
    "                     'company_size_Large': [1],\n",
    "                     'company_size_Medium': [0],\n",
    "                     'company_size_Small': [0],\n",
    "                     'work_year': [2022],\n",
    "                     'salary_in_usd': [0],\n",
    "                     'remote_ratio': [100]})\n",
    "\n",
    "\n",
    "prediction = tree.predict(entry)\n",
    "\n",
    "print(prediction)"
   ]
  },
  {
   "cell_type": "markdown",
   "id": "9375e66d",
   "metadata": {},
   "source": [
    "## Building a Random Forest Regressor using scikit-learn library\n",
    "\n",
    "A [Random Forest Regressor](https://en.wikipedia.org/wiki/Random_forest) is a type of machine learning algorithm used for prediction tasks that involves making continuous numerical predictions. It works by combining multiple decision trees and using them to make predictions. Each decision tree is trained on a subset of the data and uses a random set of features to make splits, which helps to reduce overfitting and improve generalization performance. The predictions made by each individual tree are then averaged to produce the final prediction. "
   ]
  },
  {
   "cell_type": "code",
   "execution_count": 92,
   "id": "e4480214",
   "metadata": {},
   "outputs": [
    {
     "data": {
      "text/html": [
       "<style>#sk-container-id-10 {color: black;background-color: white;}#sk-container-id-10 pre{padding: 0;}#sk-container-id-10 div.sk-toggleable {background-color: white;}#sk-container-id-10 label.sk-toggleable__label {cursor: pointer;display: block;width: 100%;margin-bottom: 0;padding: 0.3em;box-sizing: border-box;text-align: center;}#sk-container-id-10 label.sk-toggleable__label-arrow:before {content: \"▸\";float: left;margin-right: 0.25em;color: #696969;}#sk-container-id-10 label.sk-toggleable__label-arrow:hover:before {color: black;}#sk-container-id-10 div.sk-estimator:hover label.sk-toggleable__label-arrow:before {color: black;}#sk-container-id-10 div.sk-toggleable__content {max-height: 0;max-width: 0;overflow: hidden;text-align: left;background-color: #f0f8ff;}#sk-container-id-10 div.sk-toggleable__content pre {margin: 0.2em;color: black;border-radius: 0.25em;background-color: #f0f8ff;}#sk-container-id-10 input.sk-toggleable__control:checked~div.sk-toggleable__content {max-height: 200px;max-width: 100%;overflow: auto;}#sk-container-id-10 input.sk-toggleable__control:checked~label.sk-toggleable__label-arrow:before {content: \"▾\";}#sk-container-id-10 div.sk-estimator input.sk-toggleable__control:checked~label.sk-toggleable__label {background-color: #d4ebff;}#sk-container-id-10 div.sk-label input.sk-toggleable__control:checked~label.sk-toggleable__label {background-color: #d4ebff;}#sk-container-id-10 input.sk-hidden--visually {border: 0;clip: rect(1px 1px 1px 1px);clip: rect(1px, 1px, 1px, 1px);height: 1px;margin: -1px;overflow: hidden;padding: 0;position: absolute;width: 1px;}#sk-container-id-10 div.sk-estimator {font-family: monospace;background-color: #f0f8ff;border: 1px dotted black;border-radius: 0.25em;box-sizing: border-box;margin-bottom: 0.5em;}#sk-container-id-10 div.sk-estimator:hover {background-color: #d4ebff;}#sk-container-id-10 div.sk-parallel-item::after {content: \"\";width: 100%;border-bottom: 1px solid gray;flex-grow: 1;}#sk-container-id-10 div.sk-label:hover label.sk-toggleable__label {background-color: #d4ebff;}#sk-container-id-10 div.sk-serial::before {content: \"\";position: absolute;border-left: 1px solid gray;box-sizing: border-box;top: 0;bottom: 0;left: 50%;z-index: 0;}#sk-container-id-10 div.sk-serial {display: flex;flex-direction: column;align-items: center;background-color: white;padding-right: 0.2em;padding-left: 0.2em;position: relative;}#sk-container-id-10 div.sk-item {position: relative;z-index: 1;}#sk-container-id-10 div.sk-parallel {display: flex;align-items: stretch;justify-content: center;background-color: white;position: relative;}#sk-container-id-10 div.sk-item::before, #sk-container-id-10 div.sk-parallel-item::before {content: \"\";position: absolute;border-left: 1px solid gray;box-sizing: border-box;top: 0;bottom: 0;left: 50%;z-index: -1;}#sk-container-id-10 div.sk-parallel-item {display: flex;flex-direction: column;z-index: 1;position: relative;background-color: white;}#sk-container-id-10 div.sk-parallel-item:first-child::after {align-self: flex-end;width: 50%;}#sk-container-id-10 div.sk-parallel-item:last-child::after {align-self: flex-start;width: 50%;}#sk-container-id-10 div.sk-parallel-item:only-child::after {width: 0;}#sk-container-id-10 div.sk-dashed-wrapped {border: 1px dashed gray;margin: 0 0.4em 0.5em 0.4em;box-sizing: border-box;padding-bottom: 0.4em;background-color: white;}#sk-container-id-10 div.sk-label label {font-family: monospace;font-weight: bold;display: inline-block;line-height: 1.2em;}#sk-container-id-10 div.sk-label-container {text-align: center;}#sk-container-id-10 div.sk-container {/* jupyter's `normalize.less` sets `[hidden] { display: none; }` but bootstrap.min.css set `[hidden] { display: none !important; }` so we also need the `!important` here to be able to override the default hidden behavior on the sphinx rendered scikit-learn.org. See: https://github.com/scikit-learn/scikit-learn/issues/21755 */display: inline-block !important;position: relative;}#sk-container-id-10 div.sk-text-repr-fallback {display: none;}</style><div id=\"sk-container-id-10\" class=\"sk-top-container\"><div class=\"sk-text-repr-fallback\"><pre>RandomForestRegressor(random_state=42)</pre><b>In a Jupyter environment, please rerun this cell to show the HTML representation or trust the notebook. <br />On GitHub, the HTML representation is unable to render, please try loading this page with nbviewer.org.</b></div><div class=\"sk-container\" hidden><div class=\"sk-item\"><div class=\"sk-estimator sk-toggleable\"><input class=\"sk-toggleable__control sk-hidden--visually\" id=\"sk-estimator-id-10\" type=\"checkbox\" checked><label for=\"sk-estimator-id-10\" class=\"sk-toggleable__label sk-toggleable__label-arrow\">RandomForestRegressor</label><div class=\"sk-toggleable__content\"><pre>RandomForestRegressor(random_state=42)</pre></div></div></div></div></div>"
      ],
      "text/plain": [
       "RandomForestRegressor(random_state=42)"
      ]
     },
     "execution_count": 92,
     "metadata": {},
     "output_type": "execute_result"
    }
   ],
   "source": [
    "rf_regressor = RandomForestRegressor(n_estimators=100, random_state=42)\n",
    "rf_regressor"
   ]
  },
  {
   "cell_type": "markdown",
   "id": "17b22e93",
   "metadata": {},
   "source": [
    "[Random forest regressor](https://scikit-learn.org/stable/modules/generated/sklearn.ensemble.RandomForestRegressor.html) is less prone to overfitting than a DecisionTreeRegressor, as it combines the predictions of multiple trees and thereby reduces the variance in the predictions."
   ]
  },
  {
   "cell_type": "code",
   "execution_count": 95,
   "id": "db6ae676",
   "metadata": {},
   "outputs": [
    {
     "data": {
      "text/html": [
       "<style>#sk-container-id-11 {color: black;background-color: white;}#sk-container-id-11 pre{padding: 0;}#sk-container-id-11 div.sk-toggleable {background-color: white;}#sk-container-id-11 label.sk-toggleable__label {cursor: pointer;display: block;width: 100%;margin-bottom: 0;padding: 0.3em;box-sizing: border-box;text-align: center;}#sk-container-id-11 label.sk-toggleable__label-arrow:before {content: \"▸\";float: left;margin-right: 0.25em;color: #696969;}#sk-container-id-11 label.sk-toggleable__label-arrow:hover:before {color: black;}#sk-container-id-11 div.sk-estimator:hover label.sk-toggleable__label-arrow:before {color: black;}#sk-container-id-11 div.sk-toggleable__content {max-height: 0;max-width: 0;overflow: hidden;text-align: left;background-color: #f0f8ff;}#sk-container-id-11 div.sk-toggleable__content pre {margin: 0.2em;color: black;border-radius: 0.25em;background-color: #f0f8ff;}#sk-container-id-11 input.sk-toggleable__control:checked~div.sk-toggleable__content {max-height: 200px;max-width: 100%;overflow: auto;}#sk-container-id-11 input.sk-toggleable__control:checked~label.sk-toggleable__label-arrow:before {content: \"▾\";}#sk-container-id-11 div.sk-estimator input.sk-toggleable__control:checked~label.sk-toggleable__label {background-color: #d4ebff;}#sk-container-id-11 div.sk-label input.sk-toggleable__control:checked~label.sk-toggleable__label {background-color: #d4ebff;}#sk-container-id-11 input.sk-hidden--visually {border: 0;clip: rect(1px 1px 1px 1px);clip: rect(1px, 1px, 1px, 1px);height: 1px;margin: -1px;overflow: hidden;padding: 0;position: absolute;width: 1px;}#sk-container-id-11 div.sk-estimator {font-family: monospace;background-color: #f0f8ff;border: 1px dotted black;border-radius: 0.25em;box-sizing: border-box;margin-bottom: 0.5em;}#sk-container-id-11 div.sk-estimator:hover {background-color: #d4ebff;}#sk-container-id-11 div.sk-parallel-item::after {content: \"\";width: 100%;border-bottom: 1px solid gray;flex-grow: 1;}#sk-container-id-11 div.sk-label:hover label.sk-toggleable__label {background-color: #d4ebff;}#sk-container-id-11 div.sk-serial::before {content: \"\";position: absolute;border-left: 1px solid gray;box-sizing: border-box;top: 0;bottom: 0;left: 50%;z-index: 0;}#sk-container-id-11 div.sk-serial {display: flex;flex-direction: column;align-items: center;background-color: white;padding-right: 0.2em;padding-left: 0.2em;position: relative;}#sk-container-id-11 div.sk-item {position: relative;z-index: 1;}#sk-container-id-11 div.sk-parallel {display: flex;align-items: stretch;justify-content: center;background-color: white;position: relative;}#sk-container-id-11 div.sk-item::before, #sk-container-id-11 div.sk-parallel-item::before {content: \"\";position: absolute;border-left: 1px solid gray;box-sizing: border-box;top: 0;bottom: 0;left: 50%;z-index: -1;}#sk-container-id-11 div.sk-parallel-item {display: flex;flex-direction: column;z-index: 1;position: relative;background-color: white;}#sk-container-id-11 div.sk-parallel-item:first-child::after {align-self: flex-end;width: 50%;}#sk-container-id-11 div.sk-parallel-item:last-child::after {align-self: flex-start;width: 50%;}#sk-container-id-11 div.sk-parallel-item:only-child::after {width: 0;}#sk-container-id-11 div.sk-dashed-wrapped {border: 1px dashed gray;margin: 0 0.4em 0.5em 0.4em;box-sizing: border-box;padding-bottom: 0.4em;background-color: white;}#sk-container-id-11 div.sk-label label {font-family: monospace;font-weight: bold;display: inline-block;line-height: 1.2em;}#sk-container-id-11 div.sk-label-container {text-align: center;}#sk-container-id-11 div.sk-container {/* jupyter's `normalize.less` sets `[hidden] { display: none; }` but bootstrap.min.css set `[hidden] { display: none !important; }` so we also need the `!important` here to be able to override the default hidden behavior on the sphinx rendered scikit-learn.org. See: https://github.com/scikit-learn/scikit-learn/issues/21755 */display: inline-block !important;position: relative;}#sk-container-id-11 div.sk-text-repr-fallback {display: none;}</style><div id=\"sk-container-id-11\" class=\"sk-top-container\"><div class=\"sk-text-repr-fallback\"><pre>RandomForestRegressor(random_state=42)</pre><b>In a Jupyter environment, please rerun this cell to show the HTML representation or trust the notebook. <br />On GitHub, the HTML representation is unable to render, please try loading this page with nbviewer.org.</b></div><div class=\"sk-container\" hidden><div class=\"sk-item\"><div class=\"sk-estimator sk-toggleable\"><input class=\"sk-toggleable__control sk-hidden--visually\" id=\"sk-estimator-id-11\" type=\"checkbox\" checked><label for=\"sk-estimator-id-11\" class=\"sk-toggleable__label sk-toggleable__label-arrow\">RandomForestRegressor</label><div class=\"sk-toggleable__content\"><pre>RandomForestRegressor(random_state=42)</pre></div></div></div></div></div>"
      ],
      "text/plain": [
       "RandomForestRegressor(random_state=42)"
      ]
     },
     "execution_count": 95,
     "metadata": {},
     "output_type": "execute_result"
    }
   ],
   "source": [
    "rf_regressor.fit(X_train, y_train)"
   ]
  },
  {
   "cell_type": "markdown",
   "id": "e260ab0e",
   "metadata": {},
   "source": [
    "### Assess the model's quality\n",
    "\n",
    "The quality of a random forest regressor can be expressed as its _accuracy_ ,\n",
    "obtained as follows:"
   ]
  },
  {
   "cell_type": "code",
   "execution_count": 97,
   "id": "c3c689ac",
   "metadata": {},
   "outputs": [
    {
     "name": "stdout",
     "output_type": "stream",
     "text": [
      "R-squared train score: 0.9999713717289224\n"
     ]
    }
   ],
   "source": [
    "score = rf_regressor.score(X_train, y_train)\n",
    "print(\"R-squared train score:\", score)"
   ]
  },
  {
   "cell_type": "code",
   "execution_count": 98,
   "id": "00c12352",
   "metadata": {},
   "outputs": [
    {
     "name": "stdout",
     "output_type": "stream",
     "text": [
      "R-squared test score: 0.9998696629832755\n"
     ]
    }
   ],
   "source": [
    "score = rf_regressor.score(X_test, y_test)\n",
    "print(\"R-squared test score:\", score)"
   ]
  },
  {
   "cell_type": "markdown",
   "id": "15bd9eaa",
   "metadata": {},
   "source": [
    "## Make predictions\n",
    "\n",
    "Given one or more additional data points, you can find their predicted target value\n",
    "with the function **`predict()`**."
   ]
  },
  {
   "cell_type": "code",
   "execution_count": 104,
   "id": "b92b0742",
   "metadata": {},
   "outputs": [
    {
     "name": "stdout",
     "output_type": "stream",
     "text": [
      "[5581.33]\n"
     ]
    }
   ],
   "source": [
    "entry = pd.DataFrame({'experience_level_Entry-level': [0],\n",
    "                     'experience_level_Executive-level': [0],\n",
    "                     'experience_level_Mid-level': [0],\n",
    "                     'experience_level_Senior-level': [1],\n",
    "                     'employment_type_Contractor': [0],\n",
    "                     'employment_type_Freelancer': [0],\n",
    "                     'employment_type_Full-Time': [1],\n",
    "                     'employment_type_Part-Time': [0],\n",
    "                     'job_title_Business Intelligence and Analytics': [0],\n",
    "                     'job_title_Data Analyst': [0],\n",
    "                     'job_title_Data Engineer': [0],\n",
    "                     'job_title_Data Scientist': [1],\n",
    "                     'job_title_Machine Learning Engineer': [0],\n",
    "                     'job_title_Other': [0],\n",
    "                     'job_title_Uncategorized': [0],\n",
    "                     'employee_residence_Africa': [0],\n",
    "                     'employee_residence_Asia': [0],\n",
    "                     'employee_residence_Europe': [1],\n",
    "                     'employee_residence_North America': [0],\n",
    "                     'employee_residence_Oceania': [0],\n",
    "                     'employee_residence_South America': [0],\n",
    "                     'employee_residence_Uncategorized': [0],\n",
    "                     'company_location_Africa': [0],\n",
    "                     'company_location_Asia': [0],\n",
    "                     'company_location_Europe': [1],\n",
    "                     'company_location_North America': [0],\n",
    "                     'company_location_Oceania': [0],\n",
    "                     'company_location_South America': [0],\n",
    "                     'company_location_Uncategorized': [0],\n",
    "                     'company_size_Large': [1],\n",
    "                     'company_size_Medium': [0],\n",
    "                     'company_size_Small': [0],\n",
    "                     'work_year': [2023],\n",
    "                     'salary_in_usd': [0],\n",
    "                     'remote_ratio': [100]})\n",
    "\n",
    "\n",
    "prediction = rf_regressor.predict(entry)\n",
    "\n",
    "print(prediction)"
   ]
  },
  {
   "cell_type": "code",
   "execution_count": null,
   "id": "e964190d",
   "metadata": {},
   "outputs": [],
   "source": []
  }
 ],
 "metadata": {
  "kernelspec": {
   "display_name": "Python 3 (ipykernel)",
   "language": "python",
   "name": "python3"
  },
  "language_info": {
   "codemirror_mode": {
    "name": "ipython",
    "version": 3
   },
   "file_extension": ".py",
   "mimetype": "text/x-python",
   "name": "python",
   "nbconvert_exporter": "python",
   "pygments_lexer": "ipython3",
   "version": "3.10.6"
  }
 },
 "nbformat": 4,
 "nbformat_minor": 5
}
