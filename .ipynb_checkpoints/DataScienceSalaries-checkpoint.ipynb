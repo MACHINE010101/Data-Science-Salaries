{
 "cells": [
  {
   "cell_type": "markdown",
   "id": "962bdd50",
   "metadata": {
    "_cell_guid": "e3bc4854-2787-eae1-950d-2742ad3d7db2",
    "_uuid": "d507f816cc74a88c9afefd02cf225d1a7dd6461f"
   },
   "source": [
    "# DA Practice 1: Data Science Salaries\n",
    "\n",
    "\n",
    "[Data modeling](https://en.wikipedia.org/wiki/Data_modeling) is a crucial process in information management that involves the creation of a conceptual, logical, and physical representation of data. It provides a structured approach for organizing and storing data in a database, enabling efficient access and retrieval of information. Effective data modeling ensures the accuracy, consistency, and integrity of data by establishing clear relationships between data elements and defining their attributes.\n",
    "\n",
    "In this report, I will provide an overview of data modeling, including its importance, process, and techniques used in developing a data model. I will then demonstrate the application of data modeling by using a dataset that the teacher sent from kaggle. Additionally, I will explain the steps involved in the data modeling process. This is to cover modeling aspects that I can still imporve on."
   ]
  },
  {
   "cell_type": "markdown",
   "id": "6902f55a",
   "metadata": {},
   "source": [
    "## Data set\n",
    "\n",
    "Throughout this notebook I will work on the **Data Science Salaries 2023 dataset**. This dataset contains information about salaries of different data science fields in the data science domain. https://www.kaggle.com/datasets/arnabchaki/data-science-salaries-2023"
   ]
  },
  {
   "cell_type": "markdown",
   "id": "1730ff7b",
   "metadata": {},
   "source": [
    "## Problem definition\n",
    "\n",
    "**Research question: How do we build a model that is able to predict the salary?**\n",
    "\n",
    "The main focus of this project is to build a model that is able to predict the salary, this is done using a few feature columns related to salary (salary, salary in USD, salary currency)\n",
    "\n",
    "Other questions to answer:\n",
    "\n",
    "How should you deal with data cleaning? \n",
    "How to deal with the job titles?\n",
    "How to deal with the many countries?\n",
    "Which is the best hyper-parameters for the decision tree?"
   ]
  },
  {
   "cell_type": "markdown",
   "id": "4be4199f",
   "metadata": {},
   "source": [
    "## Loading the libraries\n",
    "\n",
    "I load some Data Analytics libraries first:"
   ]
  },
  {
   "cell_type": "code",
   "execution_count": 49,
   "id": "ce2a2162",
   "metadata": {},
   "outputs": [],
   "source": [
    "import numpy as np  # import auxiliary library, typical idiom\n",
    "import pandas as pd  # import the Pandas library, typical idiom\n",
    "\n",
    "# next command ensures that plots appear inside the notebook\n",
    "%matplotlib inline\n",
    "import matplotlib as mpl\n",
    "import plotly.express as px\n",
    "import matplotlib.pyplot as plt\n",
    "from sklearn.preprocessing import OneHotEncoder\n",
    "import seaborn as sns  # also improves the look of plots\n",
    "sns.set()\n",
    "import warnings\n",
    "warnings.filterwarnings('ignore')\n",
    "plt.rcParams['figure.figsize'] = 10, 5  # default hor./vert. size of plots, in inches\n",
    "plt.rcParams['lines.markeredgewidth'] = 1  # to fix issue with seaborn box plots; needed after import seaborn"
   ]
  },
  {
   "cell_type": "markdown",
   "id": "c2a900cc",
   "metadata": {
    "_cell_guid": "e3bc4854-2787-eae1-950d-2742ad3d7db2",
    "_uuid": "d507f816cc74a88c9afefd02cf225d1a7dd6461f"
   },
   "source": [
    "Now, I selectively import the relevant classes and functions from `sklearn`\n",
    "[(_SciKit Learn_, a Python library for machine learning)](http://scikit-learn.org/.)"
   ]
  },
  {
   "cell_type": "code",
   "execution_count": 3,
   "id": "25cfa07b",
   "metadata": {},
   "outputs": [],
   "source": [
    "from sklearn.linear_model import LinearRegression  # for linear regression\n",
    "from sklearn.metrics import accuracy_score, confusion_matrix, mean_squared_error\n",
    "from sklearn.model_selection import train_test_split"
   ]
  },
  {
   "cell_type": "markdown",
   "id": "25e3edf8",
   "metadata": {},
   "source": [
    "## Getting to know the data\n",
    "\n",
    "Salaries of Different Data Science Fields in the Data Science Domain"
   ]
  },
  {
   "cell_type": "code",
   "execution_count": 4,
   "id": "8b4f3ff9",
   "metadata": {
    "scrolled": false
   },
   "outputs": [
    {
     "data": {
      "text/html": [
       "<div>\n",
       "<style scoped>\n",
       "    .dataframe tbody tr th:only-of-type {\n",
       "        vertical-align: middle;\n",
       "    }\n",
       "\n",
       "    .dataframe tbody tr th {\n",
       "        vertical-align: top;\n",
       "    }\n",
       "\n",
       "    .dataframe thead th {\n",
       "        text-align: right;\n",
       "    }\n",
       "</style>\n",
       "<table border=\"1\" class=\"dataframe\">\n",
       "  <thead>\n",
       "    <tr style=\"text-align: right;\">\n",
       "      <th></th>\n",
       "      <th>work_year</th>\n",
       "      <th>experience_level</th>\n",
       "      <th>employment_type</th>\n",
       "      <th>job_title</th>\n",
       "      <th>salary</th>\n",
       "      <th>salary_currency</th>\n",
       "      <th>salary_in_usd</th>\n",
       "      <th>employee_residence</th>\n",
       "      <th>remote_ratio</th>\n",
       "      <th>company_location</th>\n",
       "      <th>company_size</th>\n",
       "    </tr>\n",
       "  </thead>\n",
       "  <tbody>\n",
       "    <tr>\n",
       "      <th>0</th>\n",
       "      <td>2023</td>\n",
       "      <td>SE</td>\n",
       "      <td>FT</td>\n",
       "      <td>Principal Data Scientist</td>\n",
       "      <td>80000</td>\n",
       "      <td>EUR</td>\n",
       "      <td>85847</td>\n",
       "      <td>ES</td>\n",
       "      <td>100</td>\n",
       "      <td>ES</td>\n",
       "      <td>L</td>\n",
       "    </tr>\n",
       "    <tr>\n",
       "      <th>1</th>\n",
       "      <td>2023</td>\n",
       "      <td>MI</td>\n",
       "      <td>CT</td>\n",
       "      <td>ML Engineer</td>\n",
       "      <td>30000</td>\n",
       "      <td>USD</td>\n",
       "      <td>30000</td>\n",
       "      <td>US</td>\n",
       "      <td>100</td>\n",
       "      <td>US</td>\n",
       "      <td>S</td>\n",
       "    </tr>\n",
       "    <tr>\n",
       "      <th>2</th>\n",
       "      <td>2023</td>\n",
       "      <td>MI</td>\n",
       "      <td>CT</td>\n",
       "      <td>ML Engineer</td>\n",
       "      <td>25500</td>\n",
       "      <td>USD</td>\n",
       "      <td>25500</td>\n",
       "      <td>US</td>\n",
       "      <td>100</td>\n",
       "      <td>US</td>\n",
       "      <td>S</td>\n",
       "    </tr>\n",
       "    <tr>\n",
       "      <th>3</th>\n",
       "      <td>2023</td>\n",
       "      <td>SE</td>\n",
       "      <td>FT</td>\n",
       "      <td>Data Scientist</td>\n",
       "      <td>175000</td>\n",
       "      <td>USD</td>\n",
       "      <td>175000</td>\n",
       "      <td>CA</td>\n",
       "      <td>100</td>\n",
       "      <td>CA</td>\n",
       "      <td>M</td>\n",
       "    </tr>\n",
       "    <tr>\n",
       "      <th>4</th>\n",
       "      <td>2023</td>\n",
       "      <td>SE</td>\n",
       "      <td>FT</td>\n",
       "      <td>Data Scientist</td>\n",
       "      <td>120000</td>\n",
       "      <td>USD</td>\n",
       "      <td>120000</td>\n",
       "      <td>CA</td>\n",
       "      <td>100</td>\n",
       "      <td>CA</td>\n",
       "      <td>M</td>\n",
       "    </tr>\n",
       "    <tr>\n",
       "      <th>...</th>\n",
       "      <td>...</td>\n",
       "      <td>...</td>\n",
       "      <td>...</td>\n",
       "      <td>...</td>\n",
       "      <td>...</td>\n",
       "      <td>...</td>\n",
       "      <td>...</td>\n",
       "      <td>...</td>\n",
       "      <td>...</td>\n",
       "      <td>...</td>\n",
       "      <td>...</td>\n",
       "    </tr>\n",
       "    <tr>\n",
       "      <th>3750</th>\n",
       "      <td>2020</td>\n",
       "      <td>SE</td>\n",
       "      <td>FT</td>\n",
       "      <td>Data Scientist</td>\n",
       "      <td>412000</td>\n",
       "      <td>USD</td>\n",
       "      <td>412000</td>\n",
       "      <td>US</td>\n",
       "      <td>100</td>\n",
       "      <td>US</td>\n",
       "      <td>L</td>\n",
       "    </tr>\n",
       "    <tr>\n",
       "      <th>3751</th>\n",
       "      <td>2021</td>\n",
       "      <td>MI</td>\n",
       "      <td>FT</td>\n",
       "      <td>Principal Data Scientist</td>\n",
       "      <td>151000</td>\n",
       "      <td>USD</td>\n",
       "      <td>151000</td>\n",
       "      <td>US</td>\n",
       "      <td>100</td>\n",
       "      <td>US</td>\n",
       "      <td>L</td>\n",
       "    </tr>\n",
       "    <tr>\n",
       "      <th>3752</th>\n",
       "      <td>2020</td>\n",
       "      <td>EN</td>\n",
       "      <td>FT</td>\n",
       "      <td>Data Scientist</td>\n",
       "      <td>105000</td>\n",
       "      <td>USD</td>\n",
       "      <td>105000</td>\n",
       "      <td>US</td>\n",
       "      <td>100</td>\n",
       "      <td>US</td>\n",
       "      <td>S</td>\n",
       "    </tr>\n",
       "    <tr>\n",
       "      <th>3753</th>\n",
       "      <td>2020</td>\n",
       "      <td>EN</td>\n",
       "      <td>CT</td>\n",
       "      <td>Business Data Analyst</td>\n",
       "      <td>100000</td>\n",
       "      <td>USD</td>\n",
       "      <td>100000</td>\n",
       "      <td>US</td>\n",
       "      <td>100</td>\n",
       "      <td>US</td>\n",
       "      <td>L</td>\n",
       "    </tr>\n",
       "    <tr>\n",
       "      <th>3754</th>\n",
       "      <td>2021</td>\n",
       "      <td>SE</td>\n",
       "      <td>FT</td>\n",
       "      <td>Data Science Manager</td>\n",
       "      <td>7000000</td>\n",
       "      <td>INR</td>\n",
       "      <td>94665</td>\n",
       "      <td>IN</td>\n",
       "      <td>50</td>\n",
       "      <td>IN</td>\n",
       "      <td>L</td>\n",
       "    </tr>\n",
       "  </tbody>\n",
       "</table>\n",
       "<p>3755 rows × 11 columns</p>\n",
       "</div>"
      ],
      "text/plain": [
       "      work_year experience_level employment_type                 job_title   \n",
       "0          2023               SE              FT  Principal Data Scientist  \\\n",
       "1          2023               MI              CT               ML Engineer   \n",
       "2          2023               MI              CT               ML Engineer   \n",
       "3          2023               SE              FT            Data Scientist   \n",
       "4          2023               SE              FT            Data Scientist   \n",
       "...         ...              ...             ...                       ...   \n",
       "3750       2020               SE              FT            Data Scientist   \n",
       "3751       2021               MI              FT  Principal Data Scientist   \n",
       "3752       2020               EN              FT            Data Scientist   \n",
       "3753       2020               EN              CT     Business Data Analyst   \n",
       "3754       2021               SE              FT      Data Science Manager   \n",
       "\n",
       "       salary salary_currency  salary_in_usd employee_residence  remote_ratio   \n",
       "0       80000             EUR          85847                 ES           100  \\\n",
       "1       30000             USD          30000                 US           100   \n",
       "2       25500             USD          25500                 US           100   \n",
       "3      175000             USD         175000                 CA           100   \n",
       "4      120000             USD         120000                 CA           100   \n",
       "...       ...             ...            ...                ...           ...   \n",
       "3750   412000             USD         412000                 US           100   \n",
       "3751   151000             USD         151000                 US           100   \n",
       "3752   105000             USD         105000                 US           100   \n",
       "3753   100000             USD         100000                 US           100   \n",
       "3754  7000000             INR          94665                 IN            50   \n",
       "\n",
       "     company_location company_size  \n",
       "0                  ES            L  \n",
       "1                  US            S  \n",
       "2                  US            S  \n",
       "3                  CA            M  \n",
       "4                  CA            M  \n",
       "...               ...          ...  \n",
       "3750               US            L  \n",
       "3751               US            L  \n",
       "3752               US            S  \n",
       "3753               US            L  \n",
       "3754               IN            L  \n",
       "\n",
       "[3755 rows x 11 columns]"
      ]
     },
     "execution_count": 4,
     "metadata": {},
     "output_type": "execute_result"
    }
   ],
   "source": [
    "df_salaries = pd.read_csv('Data/ds_salaries.csv')\n",
    "df_salaries"
   ]
  },
  {
   "cell_type": "code",
   "execution_count": 5,
   "id": "e05c4821",
   "metadata": {
    "scrolled": true
   },
   "outputs": [
    {
     "data": {
      "text/plain": [
       "Index(['work_year', 'experience_level', 'employment_type', 'job_title',\n",
       "       'salary', 'salary_currency', 'salary_in_usd', 'employee_residence',\n",
       "       'remote_ratio', 'company_location', 'company_size'],\n",
       "      dtype='object')"
      ]
     },
     "execution_count": 5,
     "metadata": {},
     "output_type": "execute_result"
    }
   ],
   "source": [
    "df_salaries.columns"
   ]
  },
  {
   "cell_type": "markdown",
   "id": "4f09af7f",
   "metadata": {},
   "source": [
    "Data Science Job Salaries Dataset contains 11 columns, each are:\n",
    "\n",
    "    work_year: The year the salary was paid.\n",
    "    experience_level: The experience level in the job during the year\n",
    "    employment_type: The type of employment for the role\n",
    "    job_title: The role worked in during the year.\n",
    "    salary: The total gross salary amount paid.\n",
    "    salary_currency: The currency of the salary paid as an ISO 4217 currency code.\n",
    "    salaryinusd: The salary in USD\n",
    "    employee_residence: Employee's primary country of residence in during the work year as an ISO 3166 country code.\n",
    "    remote_ratio: The overall amount of work done remotely\n",
    "    company_location: The country of the employer's main office or contracting branch\n",
    "    company_size: The median number of people that worked for the company during the year"
   ]
  },
  {
   "cell_type": "markdown",
   "id": "32d82f6a",
   "metadata": {},
   "source": [
    "The size of the dataset is 3755 x 11"
   ]
  },
  {
   "cell_type": "code",
   "execution_count": 6,
   "id": "07bfed52",
   "metadata": {},
   "outputs": [
    {
     "data": {
      "text/plain": [
       "(3755, 11)"
      ]
     },
     "execution_count": 6,
     "metadata": {},
     "output_type": "execute_result"
    }
   ],
   "source": [
    "df_salaries.shape"
   ]
  },
  {
   "cell_type": "markdown",
   "id": "181e93ed",
   "metadata": {},
   "source": [
    "The dataset columns are the following types:"
   ]
  },
  {
   "cell_type": "code",
   "execution_count": 7,
   "id": "18359409",
   "metadata": {},
   "outputs": [
    {
     "data": {
      "text/plain": [
       "work_year              int64\n",
       "experience_level      object\n",
       "employment_type       object\n",
       "job_title             object\n",
       "salary                 int64\n",
       "salary_currency       object\n",
       "salary_in_usd          int64\n",
       "employee_residence    object\n",
       "remote_ratio           int64\n",
       "company_location      object\n",
       "company_size          object\n",
       "dtype: object"
      ]
     },
     "execution_count": 7,
     "metadata": {},
     "output_type": "execute_result"
    }
   ],
   "source": [
    "df_salaries.dtypes"
   ]
  },
  {
   "cell_type": "markdown",
   "id": "51d2af40",
   "metadata": {},
   "source": [
    "## Data Cleaning\n",
    "\n",
    "The next step I plan to take is to look at different columns and identify any possible inconsistencies."
   ]
  },
  {
   "cell_type": "code",
   "execution_count": 8,
   "id": "b39643b0",
   "metadata": {},
   "outputs": [
    {
     "data": {
      "text/plain": [
       "array(['L', 'S', 'M'], dtype=object)"
      ]
     },
     "execution_count": 8,
     "metadata": {},
     "output_type": "execute_result"
    }
   ],
   "source": [
    "company_size = df_salaries['company_size'].unique()\n",
    "company_size"
   ]
  },
  {
   "cell_type": "code",
   "execution_count": 9,
   "id": "a1e6d927",
   "metadata": {
    "scrolled": false
   },
   "outputs": [
    {
     "data": {
      "text/plain": [
       "array(['3D Computer Vision Researcher', 'AI Developer', 'AI Programmer',\n",
       "       'AI Scientist', 'Analytics Engineer', 'Applied Data Scientist',\n",
       "       'Applied Machine Learning Engineer',\n",
       "       'Applied Machine Learning Scientist', 'Applied Scientist',\n",
       "       'Autonomous Vehicle Technician', 'Azure Data Engineer',\n",
       "       'BI Analyst', 'BI Data Analyst', 'BI Data Engineer',\n",
       "       'BI Developer', 'Big Data Architect', 'Big Data Engineer',\n",
       "       'Business Data Analyst', 'Business Intelligence Engineer',\n",
       "       'Cloud Data Architect', 'Cloud Data Engineer',\n",
       "       'Cloud Database Engineer', 'Compliance Data Analyst',\n",
       "       'Computer Vision Engineer', 'Computer Vision Software Engineer',\n",
       "       'Data Analyst', 'Data Analytics Consultant',\n",
       "       'Data Analytics Engineer', 'Data Analytics Lead',\n",
       "       'Data Analytics Manager', 'Data Analytics Specialist',\n",
       "       'Data Architect', 'Data DevOps Engineer', 'Data Engineer',\n",
       "       'Data Infrastructure Engineer', 'Data Lead',\n",
       "       'Data Management Specialist', 'Data Manager', 'Data Modeler',\n",
       "       'Data Operations Analyst', 'Data Operations Engineer',\n",
       "       'Data Quality Analyst', 'Data Science Consultant',\n",
       "       'Data Science Engineer', 'Data Science Lead',\n",
       "       'Data Science Manager', 'Data Science Tech Lead', 'Data Scientist',\n",
       "       'Data Scientist Lead', 'Data Specialist', 'Data Strategist',\n",
       "       'Deep Learning Engineer', 'Deep Learning Researcher',\n",
       "       'Director of Data Science', 'ETL Developer', 'ETL Engineer',\n",
       "       'Finance Data Analyst', 'Financial Data Analyst', 'Head of Data',\n",
       "       'Head of Data Science', 'Head of Machine Learning',\n",
       "       'Insight Analyst', 'Lead Data Analyst', 'Lead Data Engineer',\n",
       "       'Lead Data Scientist', 'Lead Machine Learning Engineer',\n",
       "       'ML Engineer', 'MLOps Engineer', 'Machine Learning Developer',\n",
       "       'Machine Learning Engineer',\n",
       "       'Machine Learning Infrastructure Engineer',\n",
       "       'Machine Learning Manager', 'Machine Learning Research Engineer',\n",
       "       'Machine Learning Researcher', 'Machine Learning Scientist',\n",
       "       'Machine Learning Software Engineer', 'Manager Data Management',\n",
       "       'Marketing Data Analyst', 'Marketing Data Engineer',\n",
       "       'NLP Engineer', 'Power BI Developer', 'Principal Data Analyst',\n",
       "       'Principal Data Architect', 'Principal Data Engineer',\n",
       "       'Principal Data Scientist', 'Principal Machine Learning Engineer',\n",
       "       'Product Data Analyst', 'Product Data Scientist',\n",
       "       'Research Engineer', 'Research Scientist',\n",
       "       'Software Data Engineer', 'Staff Data Analyst',\n",
       "       'Staff Data Scientist'], dtype=object)"
      ]
     },
     "execution_count": 9,
     "metadata": {},
     "output_type": "execute_result"
    }
   ],
   "source": [
    "jobs = df_salaries['job_title'].unique()\n",
    "jobs.sort()\n",
    "jobs"
   ]
  },
  {
   "cell_type": "code",
   "execution_count": 10,
   "id": "8337f886",
   "metadata": {},
   "outputs": [
    {
     "data": {
      "text/plain": [
       "array(['SE', 'MI', 'EN', 'EX'], dtype=object)"
      ]
     },
     "execution_count": 10,
     "metadata": {},
     "output_type": "execute_result"
    }
   ],
   "source": [
    "experience_level = df_salaries['experience_level'].unique()\n",
    "experience_level"
   ]
  },
  {
   "cell_type": "code",
   "execution_count": 11,
   "id": "d08c7966",
   "metadata": {},
   "outputs": [
    {
     "data": {
      "text/plain": [
       "array(['FT', 'CT', 'FL', 'PT'], dtype=object)"
      ]
     },
     "execution_count": 11,
     "metadata": {},
     "output_type": "execute_result"
    }
   ],
   "source": [
    "employment_type = df_salaries['employment_type'].unique()\n",
    "employment_type"
   ]
  },
  {
   "cell_type": "markdown",
   "id": "86b4c27c",
   "metadata": {},
   "source": [
    "I'm going to rename some of the colums values for better understainding."
   ]
  },
  {
   "cell_type": "code",
   "execution_count": 12,
   "id": "70cff3d1",
   "metadata": {},
   "outputs": [],
   "source": [
    "df_salaries['experience_level'] = df_salaries['experience_level'].replace('EN','Entry-level')\n",
    "df_salaries['experience_level'] = df_salaries['experience_level'].replace('MI','Mid-level')\n",
    "df_salaries['experience_level'] = df_salaries['experience_level'].replace('SE','Senior-level')\n",
    "df_salaries['experience_level'] = df_salaries['experience_level'].replace('EX','Executive-level')\n",
    "\n",
    "df_salaries['employment_type'] = df_salaries['employment_type'].replace('FL','Freelancer')\n",
    "df_salaries['employment_type'] = df_salaries['employment_type'].replace('CT','Contractor')\n",
    "df_salaries['employment_type'] = df_salaries['employment_type'].replace('FT','Full-Time')\n",
    "df_salaries['employment_type'] = df_salaries['employment_type'].replace('PT','Part-Time')\n",
    "\n",
    "\n",
    "df_salaries['company_size'] = df_salaries['company_size'].replace('S','Small')\n",
    "df_salaries['company_size'] = df_salaries['company_size'].replace('M','Medium')\n",
    "df_salaries['company_size'] = df_salaries['company_size'].replace('L','Large')"
   ]
  },
  {
   "cell_type": "markdown",
   "id": "813951d6",
   "metadata": {},
   "source": [
    "I have checked for null values, and it appears that there are no null values in this dataset."
   ]
  },
  {
   "cell_type": "code",
   "execution_count": 13,
   "id": "35bc676e",
   "metadata": {},
   "outputs": [
    {
     "data": {
      "text/plain": [
       "work_year             0\n",
       "experience_level      0\n",
       "employment_type       0\n",
       "job_title             0\n",
       "salary                0\n",
       "salary_currency       0\n",
       "salary_in_usd         0\n",
       "employee_residence    0\n",
       "remote_ratio          0\n",
       "company_location      0\n",
       "company_size          0\n",
       "dtype: int64"
      ]
     },
     "execution_count": 13,
     "metadata": {},
     "output_type": "execute_result"
    }
   ],
   "source": [
    "df_salaries.isnull().sum()"
   ]
  },
  {
   "cell_type": "markdown",
   "id": "56d51b4f",
   "metadata": {},
   "source": [
    "**How to deal with the job titles?**\n",
    "\n",
    "One approach is to introducing fewer hand-made categories. By reducing the number of job titles the model needs to work with, we can improve the model's predictive ability."
   ]
  },
  {
   "cell_type": "code",
   "execution_count": 14,
   "id": "0ef2332a",
   "metadata": {},
   "outputs": [],
   "source": [
    "def segment_job_title(job_title):\n",
    "    data_scientist_titles = ['Principal Data Scientist', 'Data Scientist', 'Applied Scientist', 'Research Scientist', 'Applied Data Scientist', 'Lead Data Scientist', 'Staff Data Scientist', 'Principal Data Analyst', 'Principal Data Engineer']\n",
    "    machine_learning_titles = ['ML Engineer', 'Machine Learning Engineer', 'Applied Machine Learning Engineer', 'Machine Learning Researcher', 'Machine Learning Scientist', 'Autonomous Vehicle Technician', 'Applied Machine Learning Scientist', 'Principal Machine Learning Engineer', 'Machine Learning Developer', 'Lead Machine Learning Engineer', 'Machine Learning Manager']\n",
    "    data_analyst_titles = ['Data Analyst', 'Data Quality Analyst', 'Compliance Data Analyst', 'Business Data Analyst', 'Staff Data Analyst', 'Lead Data Analyst', 'BI Data Analyst', 'Marketing Data Analyst', 'Finance Data Analyst']\n",
    "    data_engineer_titles = ['Data Modeler', 'Data Engineer', 'ETL Engineer', 'Data DevOps Engineer', 'Big Data Engineer', 'Data Infrastructure Engineer', 'Software Data Engineer', 'Cloud Database Engineer', 'Cloud Data Engineer', 'Cloud Data Architect', 'Lead Data Engineer', 'Principal Data Engineer']\n",
    "    bi_analytics_titles = ['Data Analytics Manager', 'Business Intelligence Engineer', 'Analytics Engineer', 'BI Data Engineer', 'Director of Data Science', 'BI Developer', 'Insight Analyst', 'Data Analytics Specialist', 'Data Analytics Lead', 'Power BI Developer', 'Cloud Data Architect']\n",
    "    other_titles = ['Data Strategist', 'Computer Vision Engineer', 'AI Developer', 'Head of Data']\n",
    "    \n",
    "    if job_title in data_scientist_titles:\n",
    "        return 'Data Scientist'\n",
    "    elif job_title in machine_learning_titles:\n",
    "        return 'Machine Learning Engineer'\n",
    "    elif job_title in data_analyst_titles:\n",
    "        return 'Data Analyst'\n",
    "    elif job_title in data_engineer_titles:\n",
    "        return 'Data Engineer'\n",
    "    elif job_title in bi_analytics_titles:\n",
    "        return 'Business Intelligence and Analytics'\n",
    "    elif job_title in other_titles:\n",
    "        return 'Other'\n",
    "    else:\n",
    "        return 'Uncategorized'"
   ]
  },
  {
   "cell_type": "code",
   "execution_count": 15,
   "id": "85699333",
   "metadata": {},
   "outputs": [],
   "source": [
    "df_salaries['job_title'] = df_salaries['job_title'].apply(segment_job_title)"
   ]
  },
  {
   "cell_type": "markdown",
   "id": "7100c8a4",
   "metadata": {},
   "source": [
    "**How to deal with the many countries?**\n",
    "I'm going to use the same approach as before and categorize countries by continent to reduce their number."
   ]
  },
  {
   "cell_type": "code",
   "execution_count": 16,
   "id": "f232d513",
   "metadata": {},
   "outputs": [],
   "source": [
    "def segment_countries(country):\n",
    "    africa = ['DZ', 'NG', 'TN', 'MA']\n",
    "    asia = ['AE', 'AM', 'CN', 'HK', 'ID', 'IL', 'IN', 'IQ', 'IR', 'JP', 'KE', 'KW', 'MY', 'PK', 'PH', 'SG', 'TH', 'TR', 'UZ', 'VN']\n",
    "    europe = ['AT', 'BA', 'BE', 'BG', 'CH', 'CY', 'CZ', 'DE', 'DK', 'EE', 'ES', 'FI', 'FR', 'GB', 'GH', 'GR', 'HR', 'HU', 'IE', 'IT', 'JE', 'LT', 'LU', 'LV', 'MD', 'MK', 'MT', 'NL', 'NO', 'PL', 'PT', 'RO', 'RS', 'RU', 'SE', 'SI', 'SK', 'UA']\n",
    "    north_america = ['BS', 'CA', 'CR', 'DO', 'HN', 'MX', 'PR', 'US']\n",
    "    oceania = ['AU', 'NZ']\n",
    "    south_america = ['AR', 'BO', 'BR', 'CL', 'CO', 'PE']\n",
    "\n",
    "    if country in africa:\n",
    "        return 'Africa'\n",
    "    elif country in asia:\n",
    "        return 'Asia'\n",
    "    elif country in europe:\n",
    "        return 'Europe'\n",
    "    elif country in north_america:\n",
    "        return 'North America'\n",
    "    elif country in oceania:\n",
    "        return 'Oceania'\n",
    "    elif country in south_america:\n",
    "        return 'South America'\n",
    "    else:\n",
    "        return 'Uncategorized'"
   ]
  },
  {
   "cell_type": "code",
   "execution_count": 17,
   "id": "94cd91aa",
   "metadata": {},
   "outputs": [],
   "source": [
    "df_salaries['employee_residence'] = df_salaries['employee_residence'].apply(segment_countries)\n",
    "df_salaries['company_location'] = df_salaries['company_location'].apply(segment_countries)"
   ]
  },
  {
   "cell_type": "markdown",
   "id": "fe844b6c",
   "metadata": {},
   "source": [
    "**Categorical features**\n",
    "\n",
    "One way to deal with categorical features is to encode them. This is done with OneHotEncoder in my case because it's the best approach in this context."
   ]
  },
  {
   "cell_type": "code",
   "execution_count": 51,
   "id": "7bcbf2cc",
   "metadata": {},
   "outputs": [],
   "source": [
    "cat_cols = ['experience_level', 'employment_type', 'job_title', 'employee_residence', 'company_location', 'company_size']\n",
    "num_cols = ['work_year', 'salary', 'salary_in_usd', 'remote_ratio']\n",
    "\n",
    "encoder = OneHotEncoder(sparse=False, handle_unknown='ignore')\n",
    "\n",
    "X_encoded = encoder.fit_transform(df_salaries[cat_cols])\n",
    "\n",
    "X_encoded = np.concatenate([X_encoded, df_salaries[num_cols].values], axis=1)"
   ]
  },
  {
   "cell_type": "markdown",
   "id": "f1894097",
   "metadata": {},
   "source": [
    "## Data Exploration\n",
    "\n",
    "This is where I will try to analyze the data and find interesting facts."
   ]
  },
  {
   "cell_type": "code",
   "execution_count": 18,
   "id": "d5c75151",
   "metadata": {},
   "outputs": [
    {
     "data": {
      "image/png": "[encoded data removed]",
      "text/plain": [
       "<Figure size 1440x792 with 1 Axes>"
      ]
     },
     "metadata": {},
     "output_type": "display_data"
    }
   ],
   "source": [
    "jobs = ['Data Scientist', 'Machine Learning Engineer', 'Data Analyst', 'Data Engineer', 'Business Intelligence and Analytics', 'Other', 'Uncategorized']\n",
    "counts = df_salaries['job_title'].value_counts().reindex(jobs, fill_value=0)\n",
    "\n",
    "plt.figure(figsize=(20, 11))\n",
    "sns.barplot(x=jobs, y=counts)\n",
    "plt.show()"
   ]
  },
  {
   "cell_type": "markdown",
   "id": "8a1f5cf5",
   "metadata": {},
   "source": [
    "This bar plot shows that most of professionals are working as data engineers followed by data scientists and others jobs.\n",
    "\n",
    "Now I will try to see what is the mean for each job."
   ]
  },
  {
   "cell_type": "code",
   "execution_count": 19,
   "id": "6a49917d",
   "metadata": {},
   "outputs": [
    {
     "data": {
      "text/plain": [
       "job_title\n",
       "Data Analyst                           105899.075873\n",
       "Uncategorized                          140142.287081\n",
       "Data Engineer                          141783.515292\n",
       "Data Scientist                         145314.346838\n",
       "Other                                  148476.878049\n",
       "Business Intelligence and Analytics    149800.913043\n",
       "Machine Learning Engineer              150550.171429\n",
       "Name: salary_in_usd, dtype: float64"
      ]
     },
     "execution_count": 19,
     "metadata": {},
     "output_type": "execute_result"
    }
   ],
   "source": [
    "df_salaries['salary_in_usd'].groupby(df_salaries['job_title']).mean().sort_values()"
   ]
  },
  {
   "cell_type": "markdown",
   "id": "9aca7171",
   "metadata": {},
   "source": [
    "What are most professionals expirience level?"
   ]
  },
  {
   "cell_type": "code",
   "execution_count": 20,
   "id": "5bca861a",
   "metadata": {},
   "outputs": [
    {
     "data": {
      "image/png": "[encoded data removed]",
      "text/plain": [
       "<Figure size 1224x504 with 1 Axes>"
      ]
     },
     "metadata": {},
     "output_type": "display_data"
    }
   ],
   "source": [
    "levels = ['Entry-level', 'Mid-level', 'Senior-level', 'Executive-level']\n",
    "counts = df_salaries['experience_level'].value_counts().reindex(levels, fill_value=0)\n",
    "\n",
    "plt.figure(figsize=(17, 7))\n",
    "sns.barplot(x=levels, y=counts)\n",
    "plt.show()"
   ]
  },
  {
   "cell_type": "code",
   "execution_count": 21,
   "id": "06c710e6",
   "metadata": {},
   "outputs": [
    {
     "data": {
      "image/png": "[encoded data removed]",
      "text/plain": [
       "<Figure size 864x432 with 1 Axes>"
      ]
     },
     "metadata": {},
     "output_type": "display_data"
    }
   ],
   "source": [
    "employment_type = ['Full-Time', 'Part-Time', 'Contractor', 'Freelancer']\n",
    "counts = df_salaries['employment_type'].value_counts().reindex(employment_type, fill_value=0)\n",
    "\n",
    "plt.figure(figsize=(12, 6))\n",
    "sns.barplot(x=employment_type, y=counts)\n",
    "plt.yscale('log')\n",
    "plt.show()"
   ]
  },
  {
   "cell_type": "code",
   "execution_count": 23,
   "id": "f620485a",
   "metadata": {},
   "outputs": [
    {
     "data": {
      "text/plain": [
       "<AxesSubplot:ylabel='count'>"
      ]
     },
     "execution_count": 23,
     "metadata": {},
     "output_type": "execute_result"
    },
    {
     "data": {
      "image/png": "[encoded data removed]",
      "text/plain": [
       "<Figure size 864x432 with 1 Axes>"
      ]
     },
     "metadata": {},
     "output_type": "display_data"
    }
   ],
   "source": [
    "company_size = ['Small', 'Medium', 'Large']\n",
    "counts = df_salaries['company_size'].value_counts().reindex(company_size, fill_value=0)\n",
    "\n",
    "plt.figure(figsize=(12, 6))\n",
    "sns.barplot(x=company_size, y=counts)"
   ]
  },
  {
   "cell_type": "code",
   "execution_count": 24,
   "id": "e79c33d2",
   "metadata": {},
   "outputs": [
    {
     "data": {
      "image/png": "[encoded data removed]",
      "text/plain": [
       "<Figure size 864x432 with 1 Axes>"
      ]
     },
     "metadata": {},
     "output_type": "display_data"
    }
   ],
   "source": [
    "company_location = ['Europe', 'North America', 'Asia', 'South America', 'Oceania', 'Africa']\n",
    "counts = df_salaries['company_location'].value_counts().reindex(company_location, fill_value=0)\n",
    "\n",
    "plt.figure(figsize=(12, 6))\n",
    "sns.barplot(x=company_location, y=counts)\n",
    "plt.yscale('log')\n",
    "plt.show()"
   ]
  },
  {
   "cell_type": "code",
   "execution_count": 38,
   "id": "5edcfcfc",
   "metadata": {},
   "outputs": [
    {
     "data": {
      "image/png": "[encoded data removed]",
      "text/plain": [
       "<Figure size 720x360 with 1 Axes>"
      ]
     },
     "metadata": {},
     "output_type": "display_data"
    }
   ],
   "source": [
    "plt.hist(df_salaries['salary_in_usd'], bins=20)\n",
    "plt.xlabel('Salary (USD)')\n",
    "plt.ylabel('Count')\n",
    "plt.title('Salary Distribution')\n",
    "plt.show()"
   ]
  },
  {
   "cell_type": "markdown",
   "id": "63fb2735",
   "metadata": {},
   "source": [
    "## Data Modeling\n",
    "\n",
    "For this data and problem, we are advised to use a decision decision tree. The next question that we have to answer is how to find the best hyperparameters. To answer this question, we can make use of a grid search with cross-validation using scikit-learn library. Grid search with cross-validation is a common technique for hyperparameter tuning, which involves searching over a specified range of hyperparameter values and evaluating the model's performance on a validation set using k-fold cross-validation. The combination of hyperparameter values that yields the best performance is then selected as the optimal hyperparameters for the model. https://scikit-learn.org/stable/modules/generated/sklearn.model_selection.GridSearchCV.html"
   ]
  },
  {
   "cell_type": "markdown",
   "id": "1db188e5",
   "metadata": {},
   "source": [
    "### Select the data\n",
    "\n",
    "Let's try to predict `salary` by training a decision tree classifier on the data.\n",
    "\n",
    "### Train-Test split\n",
    "\n",
    "X contains the releveant features for this prediction, later we are going to find out what are the most important features"
   ]
  },
  {
   "cell_type": "code",
   "execution_count": 72,
   "id": "12b73110",
   "metadata": {},
   "outputs": [
    {
     "data": {
      "text/html": [
       "<div>\n",
       "<style scoped>\n",
       "    .dataframe tbody tr th:only-of-type {\n",
       "        vertical-align: middle;\n",
       "    }\n",
       "\n",
       "    .dataframe tbody tr th {\n",
       "        vertical-align: top;\n",
       "    }\n",
       "\n",
       "    .dataframe thead th {\n",
       "        text-align: right;\n",
       "    }\n",
       "</style>\n",
       "<table border=\"1\" class=\"dataframe\">\n",
       "  <thead>\n",
       "    <tr style=\"text-align: right;\">\n",
       "      <th></th>\n",
       "      <th>work_year</th>\n",
       "      <th>experience_level</th>\n",
       "      <th>employment_type</th>\n",
       "      <th>job_title</th>\n",
       "      <th>salary</th>\n",
       "      <th>salary_currency</th>\n",
       "      <th>salary_in_usd</th>\n",
       "      <th>employee_residence</th>\n",
       "      <th>remote_ratio</th>\n",
       "      <th>company_location</th>\n",
       "      <th>company_size</th>\n",
       "    </tr>\n",
       "  </thead>\n",
       "  <tbody>\n",
       "    <tr>\n",
       "      <th>2238</th>\n",
       "      <td>2022</td>\n",
       "      <td>Senior-level</td>\n",
       "      <td>Full-Time</td>\n",
       "      <td>Data Engineer</td>\n",
       "      <td>35000</td>\n",
       "      <td>EUR</td>\n",
       "      <td>36773</td>\n",
       "      <td>Europe</td>\n",
       "      <td>0</td>\n",
       "      <td>Europe</td>\n",
       "      <td>Medium</td>\n",
       "    </tr>\n",
       "    <tr>\n",
       "      <th>485</th>\n",
       "      <td>2023</td>\n",
       "      <td>Mid-level</td>\n",
       "      <td>Full-Time</td>\n",
       "      <td>Data Scientist</td>\n",
       "      <td>151800</td>\n",
       "      <td>USD</td>\n",
       "      <td>151800</td>\n",
       "      <td>North America</td>\n",
       "      <td>100</td>\n",
       "      <td>North America</td>\n",
       "      <td>Medium</td>\n",
       "    </tr>\n",
       "    <tr>\n",
       "      <th>2177</th>\n",
       "      <td>2022</td>\n",
       "      <td>Senior-level</td>\n",
       "      <td>Full-Time</td>\n",
       "      <td>Data Analyst</td>\n",
       "      <td>100000</td>\n",
       "      <td>USD</td>\n",
       "      <td>100000</td>\n",
       "      <td>North America</td>\n",
       "      <td>0</td>\n",
       "      <td>North America</td>\n",
       "      <td>Medium</td>\n",
       "    </tr>\n",
       "    <tr>\n",
       "      <th>3305</th>\n",
       "      <td>2022</td>\n",
       "      <td>Senior-level</td>\n",
       "      <td>Full-Time</td>\n",
       "      <td>Data Engineer</td>\n",
       "      <td>156600</td>\n",
       "      <td>USD</td>\n",
       "      <td>156600</td>\n",
       "      <td>North America</td>\n",
       "      <td>100</td>\n",
       "      <td>North America</td>\n",
       "      <td>Medium</td>\n",
       "    </tr>\n",
       "    <tr>\n",
       "      <th>1769</th>\n",
       "      <td>2023</td>\n",
       "      <td>Senior-level</td>\n",
       "      <td>Full-Time</td>\n",
       "      <td>Data Engineer</td>\n",
       "      <td>175000</td>\n",
       "      <td>USD</td>\n",
       "      <td>175000</td>\n",
       "      <td>North America</td>\n",
       "      <td>100</td>\n",
       "      <td>North America</td>\n",
       "      <td>Medium</td>\n",
       "    </tr>\n",
       "  </tbody>\n",
       "</table>\n",
       "</div>"
      ],
      "text/plain": [
       "      work_year experience_level employment_type       job_title  salary   \n",
       "2238       2022     Senior-level       Full-Time   Data Engineer   35000  \\\n",
       "485        2023        Mid-level       Full-Time  Data Scientist  151800   \n",
       "2177       2022     Senior-level       Full-Time    Data Analyst  100000   \n",
       "3305       2022     Senior-level       Full-Time   Data Engineer  156600   \n",
       "1769       2023     Senior-level       Full-Time   Data Engineer  175000   \n",
       "\n",
       "     salary_currency  salary_in_usd employee_residence  remote_ratio   \n",
       "2238             EUR          36773             Europe             0  \\\n",
       "485              USD         151800      North America           100   \n",
       "2177             USD         100000      North America             0   \n",
       "3305             USD         156600      North America           100   \n",
       "1769             USD         175000      North America           100   \n",
       "\n",
       "     company_location company_size  \n",
       "2238           Europe       Medium  \n",
       "485     North America       Medium  \n",
       "2177    North America       Medium  \n",
       "3305    North America       Medium  \n",
       "1769    North America       Medium  "
      ]
     },
     "execution_count": 72,
     "metadata": {},
     "output_type": "execute_result"
    }
   ],
   "source": [
    "X_train, X_test, y_train, y_test = train_test_split(X_encoded, df_salaries['salary'], test_size=0.2, random_state=42)\n",
    "\n",
    "df_train.head(5)"
   ]
  },
  {
   "cell_type": "markdown",
   "id": "ab4d524c",
   "metadata": {},
   "source": [
    "### Decision-tree classifier\n",
    "\n",
    "Next, we create the _decision-tree object_ for **decision tree mining**,\n",
    "and store it in the variable `dtm`."
   ]
  },
  {
   "cell_type": "code",
   "execution_count": 58,
   "id": "5142eac5",
   "metadata": {},
   "outputs": [],
   "source": [
    "dtc = DecisionTreeClassifier()"
   ]
  },
  {
   "cell_type": "markdown",
   "id": "71161d50",
   "metadata": {},
   "source": [
    "### Fitting the model\n",
    "\n",
    "Invoke the **`fit()`** function of the decision-tree object,\n",
    "supplying the selected data"
   ]
  },
  {
   "cell_type": "code",
   "execution_count": 59,
   "id": "e64befe9",
   "metadata": {},
   "outputs": [
    {
     "data": {
      "text/html": [
       "<style>#sk-container-id-2 {color: black;background-color: white;}#sk-container-id-2 pre{padding: 0;}#sk-container-id-2 div.sk-toggleable {background-color: white;}#sk-container-id-2 label.sk-toggleable__label {cursor: pointer;display: block;width: 100%;margin-bottom: 0;padding: 0.3em;box-sizing: border-box;text-align: center;}#sk-container-id-2 label.sk-toggleable__label-arrow:before {content: \"▸\";float: left;margin-right: 0.25em;color: #696969;}#sk-container-id-2 label.sk-toggleable__label-arrow:hover:before {color: black;}#sk-container-id-2 div.sk-estimator:hover label.sk-toggleable__label-arrow:before {color: black;}#sk-container-id-2 div.sk-toggleable__content {max-height: 0;max-width: 0;overflow: hidden;text-align: left;background-color: #f0f8ff;}#sk-container-id-2 div.sk-toggleable__content pre {margin: 0.2em;color: black;border-radius: 0.25em;background-color: #f0f8ff;}#sk-container-id-2 input.sk-toggleable__control:checked~div.sk-toggleable__content {max-height: 200px;max-width: 100%;overflow: auto;}#sk-container-id-2 input.sk-toggleable__control:checked~label.sk-toggleable__label-arrow:before {content: \"▾\";}#sk-container-id-2 div.sk-estimator input.sk-toggleable__control:checked~label.sk-toggleable__label {background-color: #d4ebff;}#sk-container-id-2 div.sk-label input.sk-toggleable__control:checked~label.sk-toggleable__label {background-color: #d4ebff;}#sk-container-id-2 input.sk-hidden--visually {border: 0;clip: rect(1px 1px 1px 1px);clip: rect(1px, 1px, 1px, 1px);height: 1px;margin: -1px;overflow: hidden;padding: 0;position: absolute;width: 1px;}#sk-container-id-2 div.sk-estimator {font-family: monospace;background-color: #f0f8ff;border: 1px dotted black;border-radius: 0.25em;box-sizing: border-box;margin-bottom: 0.5em;}#sk-container-id-2 div.sk-estimator:hover {background-color: #d4ebff;}#sk-container-id-2 div.sk-parallel-item::after {content: \"\";width: 100%;border-bottom: 1px solid gray;flex-grow: 1;}#sk-container-id-2 div.sk-label:hover label.sk-toggleable__label {background-color: #d4ebff;}#sk-container-id-2 div.sk-serial::before {content: \"\";position: absolute;border-left: 1px solid gray;box-sizing: border-box;top: 0;bottom: 0;left: 50%;z-index: 0;}#sk-container-id-2 div.sk-serial {display: flex;flex-direction: column;align-items: center;background-color: white;padding-right: 0.2em;padding-left: 0.2em;position: relative;}#sk-container-id-2 div.sk-item {position: relative;z-index: 1;}#sk-container-id-2 div.sk-parallel {display: flex;align-items: stretch;justify-content: center;background-color: white;position: relative;}#sk-container-id-2 div.sk-item::before, #sk-container-id-2 div.sk-parallel-item::before {content: \"\";position: absolute;border-left: 1px solid gray;box-sizing: border-box;top: 0;bottom: 0;left: 50%;z-index: -1;}#sk-container-id-2 div.sk-parallel-item {display: flex;flex-direction: column;z-index: 1;position: relative;background-color: white;}#sk-container-id-2 div.sk-parallel-item:first-child::after {align-self: flex-end;width: 50%;}#sk-container-id-2 div.sk-parallel-item:last-child::after {align-self: flex-start;width: 50%;}#sk-container-id-2 div.sk-parallel-item:only-child::after {width: 0;}#sk-container-id-2 div.sk-dashed-wrapped {border: 1px dashed gray;margin: 0 0.4em 0.5em 0.4em;box-sizing: border-box;padding-bottom: 0.4em;background-color: white;}#sk-container-id-2 div.sk-label label {font-family: monospace;font-weight: bold;display: inline-block;line-height: 1.2em;}#sk-container-id-2 div.sk-label-container {text-align: center;}#sk-container-id-2 div.sk-container {/* jupyter's `normalize.less` sets `[hidden] { display: none; }` but bootstrap.min.css set `[hidden] { display: none !important; }` so we also need the `!important` here to be able to override the default hidden behavior on the sphinx rendered scikit-learn.org. See: https://github.com/scikit-learn/scikit-learn/issues/21755 */display: inline-block !important;position: relative;}#sk-container-id-2 div.sk-text-repr-fallback {display: none;}</style><div id=\"sk-container-id-2\" class=\"sk-top-container\"><div class=\"sk-text-repr-fallback\"><pre>DecisionTreeClassifier()</pre><b>In a Jupyter environment, please rerun this cell to show the HTML representation or trust the notebook. <br />On GitHub, the HTML representation is unable to render, please try loading this page with nbviewer.org.</b></div><div class=\"sk-container\" hidden><div class=\"sk-item\"><div class=\"sk-estimator sk-toggleable\"><input class=\"sk-toggleable__control sk-hidden--visually\" id=\"sk-estimator-id-2\" type=\"checkbox\" checked><label for=\"sk-estimator-id-2\" class=\"sk-toggleable__label sk-toggleable__label-arrow\">DecisionTreeClassifier</label><div class=\"sk-toggleable__content\"><pre>DecisionTreeClassifier()</pre></div></div></div></div></div>"
      ],
      "text/plain": [
       "DecisionTreeClassifier()"
      ]
     },
     "execution_count": 59,
     "metadata": {},
     "output_type": "execute_result"
    }
   ],
   "source": [
    "dtc.fit(X_train, y_train)"
   ]
  },
  {
   "cell_type": "markdown",
   "id": "a6d2b274",
   "metadata": {},
   "source": [
    "### Extract model parameters\n",
    "\n",
    "In case of decision tree mining, there are relevant attributes of the decision-tree classifier."
   ]
  },
  {
   "cell_type": "code",
   "execution_count": 65,
   "id": "45cd0e46",
   "metadata": {},
   "outputs": [
    {
     "data": {
      "text/plain": [
       "(1447, 29)"
      ]
     },
     "execution_count": 65,
     "metadata": {},
     "output_type": "execute_result"
    }
   ],
   "source": [
    "dtc.tree_.node_count, dtc.tree_.max_depth"
   ]
  },
  {
   "cell_type": "code",
   "execution_count": 77,
   "id": "bcfe2498",
   "metadata": {
    "scrolled": true
   },
   "outputs": [
    {
     "name": "stdout",
     "output_type": "stream",
     "text": [
      "work_year 0.002230852801316745\n",
      "experience_level 0.0019464030888279344\n",
      "employment_type 0.0069307915124003075\n",
      "job_title 0.006635275099706596\n",
      "employee_residence 0.0\n",
      "remote_ratio 0.0\n",
      "company_location 0.0\n",
      "company_size 0.0003355867394530921\n"
     ]
    }
   ],
   "source": [
    "feature_names = ['work_year', 'experience_level', 'employment_type', 'job_title', 'employee_residence', 'remote_ratio', 'company_location', 'company_size']\n",
    "importances = dtc.feature_importances_\n",
    "\n",
    "# Print the feature importances\n",
    "for feature, importance in zip(feature_names, importances):\n",
    "    print(feature, importance)\n"
   ]
  },
  {
   "cell_type": "code",
   "execution_count": 79,
   "id": "abe84ad2",
   "metadata": {},
   "outputs": [
    {
     "data": {
      "image/png": "[encoded data removed]",
      "text/plain": [
       "<Figure size 720x360 with 1 Axes>"
      ]
     },
     "metadata": {},
     "output_type": "display_data"
    }
   ],
   "source": [
    "import sklearn.tree as tree\n",
    "from sklearn.tree import plot_tree\n",
    "plot_tree(dtc);"
   ]
  },
  {
   "cell_type": "code",
   "execution_count": null,
   "id": "af269b8f",
   "metadata": {},
   "outputs": [],
   "source": []
  }
 ],
 "metadata": {
  "kernelspec": {
   "display_name": "Python 3 (ipykernel)",
   "language": "python",
   "name": "python3"
  },
  "language_info": {
   "codemirror_mode": {
    "name": "ipython",
    "version": 3
   },
   "file_extension": ".py",
   "mimetype": "text/x-python",
   "name": "python",
   "nbconvert_exporter": "python",
   "pygments_lexer": "ipython3",
   "version": "3.10.6"
  }
 },
 "nbformat": 4,
 "nbformat_minor": 5
}
