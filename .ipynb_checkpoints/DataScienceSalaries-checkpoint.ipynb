{
 "cells": [
  {
   "cell_type": "markdown",
   "id": "962bdd50",
   "metadata": {
    "_cell_guid": "e3bc4854-2787-eae1-950d-2742ad3d7db2",
    "_uuid": "d507f816cc74a88c9afefd02cf225d1a7dd6461f"
   },
   "source": [
    "# DA Practice 1: Data Science Salaries\n",
    "\n",
    "\n",
    "[Data modeling](https://en.wikipedia.org/wiki/Data_modeling) is a crucial process in information management that involves the creation of a conceptual, logical, and physical representation of data. It provides a structured approach for organizing and storing data in a database, enabling efficient access and retrieval of information. Effective data modeling ensures the accuracy, consistency, and integrity of data by establishing clear relationships between data elements and defining their attributes.\n",
    "\n",
    "In this report, I will provide an overview of data modeling, including its importance, process, and techniques used in developing a data model. I will then demonstrate the application of data modeling by using a dataset that the teacher sent from kaggle. Additionally, I will explain the steps involved in the data modeling process. This is to cover modeling aspects that I can still imporve on."
   ]
  },
  {
   "cell_type": "markdown",
   "id": "1730ff7b",
   "metadata": {},
   "source": [
    "## Problem definition\n",
    "\n",
    "**Research question: How do we build a model that is able to predict the salary?**\n",
    "\n",
    "The main focus of this project is to build a model that is able to predict the salary, this is done using a few feature columns related to salary (salary, salary in USD, salary currency)\n",
    "\n",
    "Other questions to answer:\n",
    "\n",
    "How should you deal with data cleaning? \n",
    "How to deal with the job titles?\n",
    "How to deal with the many countries?\n",
    "Which is the best hyper-parameters for the decision tree?"
   ]
  },
  {
   "cell_type": "code",
   "execution_count": null,
   "id": "e772f663",
   "metadata": {},
   "outputs": [],
   "source": []
  }
 ],
 "metadata": {
  "kernelspec": {
   "display_name": "Python 3 (ipykernel)",
   "language": "python",
   "name": "python3"
  },
  "language_info": {
   "codemirror_mode": {
    "name": "ipython",
    "version": 3
   },
   "file_extension": ".py",
   "mimetype": "text/x-python",
   "name": "python",
   "nbconvert_exporter": "python",
   "pygments_lexer": "ipython3",
   "version": "3.10.6"
  }
 },
 "nbformat": 4,
 "nbformat_minor": 5
}
